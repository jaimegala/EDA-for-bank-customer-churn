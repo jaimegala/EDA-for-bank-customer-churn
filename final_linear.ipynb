{
 "cells": [
  {
   "cell_type": "markdown",
   "id": "bb90c565-7a56-4025-9919-61526cfed6c5",
   "metadata": {},
   "source": [
    "import all necessary libraries to proceed"
   ]
  },
  {
   "cell_type": "code",
   "execution_count": 1,
   "id": "454eda0d-eecf-4d0d-9247-6411fe47a13b",
   "metadata": {},
   "outputs": [],
   "source": [
    "import pandas as pd\n",
    "import numpy as np\n",
    "import matplotlib.pyplot as plt\n",
    "import seaborn as sns"
   ]
  },
  {
   "cell_type": "markdown",
   "id": "cc66df83-e8d2-48ae-bb68-9d4965be9077",
   "metadata": {},
   "source": [
    "To load the dataset for analysis"
   ]
  },
  {
   "cell_type": "code",
   "execution_count": 2,
   "id": "cf31923a-a14a-487e-9a42-2c869ee72038",
   "metadata": {},
   "outputs": [],
   "source": [
    "df = pd.read_csv(\"train-chennai-sale.csv\")"
   ]
  },
  {
   "cell_type": "markdown",
   "id": "55dbc1c1-b72c-4a1a-aacd-ef1c4ac03a24",
   "metadata": {},
   "source": [
    "To check the first five in dataset to using .head() function"
   ]
  },
  {
   "cell_type": "code",
   "execution_count": 3,
   "id": "fa89a4f1-d19d-4c63-9ca7-b9693c0de6fa",
   "metadata": {},
   "outputs": [
    {
     "data": {
      "text/html": [
       "<div>\n",
       "<style scoped>\n",
       "    .dataframe tbody tr th:only-of-type {\n",
       "        vertical-align: middle;\n",
       "    }\n",
       "\n",
       "    .dataframe tbody tr th {\n",
       "        vertical-align: top;\n",
       "    }\n",
       "\n",
       "    .dataframe thead th {\n",
       "        text-align: right;\n",
       "    }\n",
       "</style>\n",
       "<table border=\"1\" class=\"dataframe\">\n",
       "  <thead>\n",
       "    <tr style=\"text-align: right;\">\n",
       "      <th></th>\n",
       "      <th>PRT_ID</th>\n",
       "      <th>AREA</th>\n",
       "      <th>INT_SQFT</th>\n",
       "      <th>DATE_SALE</th>\n",
       "      <th>N_BEDROOM</th>\n",
       "      <th>N_BATHROOM</th>\n",
       "      <th>N_ROOM</th>\n",
       "      <th>SALE_COND</th>\n",
       "      <th>PARK_FACIL</th>\n",
       "      <th>DATE_BUILD</th>\n",
       "      <th>...</th>\n",
       "      <th>QS_ROOMS</th>\n",
       "      <th>QS_BATHROOM</th>\n",
       "      <th>QS_BEDROOM</th>\n",
       "      <th>QS_OVERALL</th>\n",
       "      <th>REG_FEE</th>\n",
       "      <th>COMMIS</th>\n",
       "      <th>SALES_PRICE</th>\n",
       "      <th>INF_PRICE</th>\n",
       "      <th>1+0.04</th>\n",
       "      <th>POWER(Z,Y)</th>\n",
       "    </tr>\n",
       "  </thead>\n",
       "  <tbody>\n",
       "    <tr>\n",
       "      <th>0</th>\n",
       "      <td>P09411</td>\n",
       "      <td>Anna Nagar</td>\n",
       "      <td>1986</td>\n",
       "      <td>19-12-2006</td>\n",
       "      <td>2.0</td>\n",
       "      <td>1.0</td>\n",
       "      <td>5</td>\n",
       "      <td>Ab Normal</td>\n",
       "      <td>No</td>\n",
       "      <td>22-12-1995</td>\n",
       "      <td>...</td>\n",
       "      <td>4.9</td>\n",
       "      <td>4.2</td>\n",
       "      <td>2.5</td>\n",
       "      <td>3.765</td>\n",
       "      <td>760122</td>\n",
       "      <td>304049</td>\n",
       "      <td>21717770</td>\n",
       "      <td>40676975.91</td>\n",
       "      <td>1.04</td>\n",
       "      <td>1.872981</td>\n",
       "    </tr>\n",
       "    <tr>\n",
       "      <th>1</th>\n",
       "      <td>P05346</td>\n",
       "      <td>Velachery</td>\n",
       "      <td>1855</td>\n",
       "      <td>13-03-2010</td>\n",
       "      <td>3.0</td>\n",
       "      <td>2.0</td>\n",
       "      <td>5</td>\n",
       "      <td>Family</td>\n",
       "      <td>No</td>\n",
       "      <td>18-03-1988</td>\n",
       "      <td>...</td>\n",
       "      <td>4.7</td>\n",
       "      <td>3.9</td>\n",
       "      <td>3.6</td>\n",
       "      <td>4.010</td>\n",
       "      <td>356321</td>\n",
       "      <td>77042</td>\n",
       "      <td>9630290</td>\n",
       "      <td>15418404.56</td>\n",
       "      <td>1.04</td>\n",
       "      <td>1.601032</td>\n",
       "    </tr>\n",
       "    <tr>\n",
       "      <th>2</th>\n",
       "      <td>P00219</td>\n",
       "      <td>Chrompet</td>\n",
       "      <td>1220</td>\n",
       "      <td>11-09-2014</td>\n",
       "      <td>2.0</td>\n",
       "      <td>1.0</td>\n",
       "      <td>4</td>\n",
       "      <td>Partial</td>\n",
       "      <td>No</td>\n",
       "      <td>12-09-2009</td>\n",
       "      <td>...</td>\n",
       "      <td>4.5</td>\n",
       "      <td>2.6</td>\n",
       "      <td>3.1</td>\n",
       "      <td>3.320</td>\n",
       "      <td>409027</td>\n",
       "      <td>198316</td>\n",
       "      <td>12394750</td>\n",
       "      <td>16963071.24</td>\n",
       "      <td>1.04</td>\n",
       "      <td>1.368569</td>\n",
       "    </tr>\n",
       "    <tr>\n",
       "      <th>3</th>\n",
       "      <td>P09105</td>\n",
       "      <td>Chrompet</td>\n",
       "      <td>1167</td>\n",
       "      <td>05-04-2007</td>\n",
       "      <td>1.0</td>\n",
       "      <td>1.0</td>\n",
       "      <td>3</td>\n",
       "      <td>Partial</td>\n",
       "      <td>No</td>\n",
       "      <td>12-04-1979</td>\n",
       "      <td>...</td>\n",
       "      <td>3.6</td>\n",
       "      <td>2.1</td>\n",
       "      <td>2.5</td>\n",
       "      <td>2.670</td>\n",
       "      <td>263152</td>\n",
       "      <td>33955</td>\n",
       "      <td>8488790</td>\n",
       "      <td>15287831.22</td>\n",
       "      <td>1.04</td>\n",
       "      <td>1.800944</td>\n",
       "    </tr>\n",
       "    <tr>\n",
       "      <th>4</th>\n",
       "      <td>P09679</td>\n",
       "      <td>Velachery</td>\n",
       "      <td>1847</td>\n",
       "      <td>13-03-2006</td>\n",
       "      <td>3.0</td>\n",
       "      <td>2.0</td>\n",
       "      <td>5</td>\n",
       "      <td>Family</td>\n",
       "      <td>No</td>\n",
       "      <td>15-03-1996</td>\n",
       "      <td>...</td>\n",
       "      <td>2.4</td>\n",
       "      <td>4.5</td>\n",
       "      <td>2.1</td>\n",
       "      <td>3.260</td>\n",
       "      <td>604809</td>\n",
       "      <td>235204</td>\n",
       "      <td>16800250</td>\n",
       "      <td>31466553.17</td>\n",
       "      <td>1.04</td>\n",
       "      <td>1.872981</td>\n",
       "    </tr>\n",
       "  </tbody>\n",
       "</table>\n",
       "<p>5 rows × 24 columns</p>\n",
       "</div>"
      ],
      "text/plain": [
       "   PRT_ID        AREA  INT_SQFT   DATE_SALE  N_BEDROOM  N_BATHROOM  N_ROOM  \\\n",
       "0  P09411  Anna Nagar      1986  19-12-2006        2.0         1.0       5   \n",
       "1  P05346   Velachery      1855  13-03-2010        3.0         2.0       5   \n",
       "2  P00219    Chrompet      1220  11-09-2014        2.0         1.0       4   \n",
       "3  P09105    Chrompet      1167  05-04-2007        1.0         1.0       3   \n",
       "4  P09679   Velachery      1847  13-03-2006        3.0         2.0       5   \n",
       "\n",
       "   SALE_COND PARK_FACIL  DATE_BUILD  ... QS_ROOMS QS_BATHROOM QS_BEDROOM  \\\n",
       "0  Ab Normal         No  22-12-1995  ...      4.9         4.2        2.5   \n",
       "1     Family         No  18-03-1988  ...      4.7         3.9        3.6   \n",
       "2    Partial         No  12-09-2009  ...      4.5         2.6        3.1   \n",
       "3    Partial         No  12-04-1979  ...      3.6         2.1        2.5   \n",
       "4     Family         No  15-03-1996  ...      2.4         4.5        2.1   \n",
       "\n",
       "  QS_OVERALL  REG_FEE  COMMIS  SALES_PRICE    INF_PRICE  1+0.04  POWER(Z,Y)  \n",
       "0      3.765   760122  304049     21717770  40676975.91    1.04    1.872981  \n",
       "1      4.010   356321   77042      9630290  15418404.56    1.04    1.601032  \n",
       "2      3.320   409027  198316     12394750  16963071.24    1.04    1.368569  \n",
       "3      2.670   263152   33955      8488790  15287831.22    1.04    1.800944  \n",
       "4      3.260   604809  235204     16800250  31466553.17    1.04    1.872981  \n",
       "\n",
       "[5 rows x 24 columns]"
      ]
     },
     "execution_count": 3,
     "metadata": {},
     "output_type": "execute_result"
    }
   ],
   "source": [
    "df.head()"
   ]
  },
  {
   "cell_type": "markdown",
   "id": "6abdbda4-f2ad-43fc-9e9f-e3b1ad3606cd",
   "metadata": {},
   "source": [
    "To check the last five in dataset to using .tail() function"
   ]
  },
  {
   "cell_type": "code",
   "execution_count": 4,
   "id": "0d69702e-1f2e-4458-b396-0dc50995f29b",
   "metadata": {},
   "outputs": [
    {
     "data": {
      "text/html": [
       "<div>\n",
       "<style scoped>\n",
       "    .dataframe tbody tr th:only-of-type {\n",
       "        vertical-align: middle;\n",
       "    }\n",
       "\n",
       "    .dataframe tbody tr th {\n",
       "        vertical-align: top;\n",
       "    }\n",
       "\n",
       "    .dataframe thead th {\n",
       "        text-align: right;\n",
       "    }\n",
       "</style>\n",
       "<table border=\"1\" class=\"dataframe\">\n",
       "  <thead>\n",
       "    <tr style=\"text-align: right;\">\n",
       "      <th></th>\n",
       "      <th>PRT_ID</th>\n",
       "      <th>AREA</th>\n",
       "      <th>INT_SQFT</th>\n",
       "      <th>DATE_SALE</th>\n",
       "      <th>N_BEDROOM</th>\n",
       "      <th>N_BATHROOM</th>\n",
       "      <th>N_ROOM</th>\n",
       "      <th>SALE_COND</th>\n",
       "      <th>PARK_FACIL</th>\n",
       "      <th>DATE_BUILD</th>\n",
       "      <th>...</th>\n",
       "      <th>QS_ROOMS</th>\n",
       "      <th>QS_BATHROOM</th>\n",
       "      <th>QS_BEDROOM</th>\n",
       "      <th>QS_OVERALL</th>\n",
       "      <th>REG_FEE</th>\n",
       "      <th>COMMIS</th>\n",
       "      <th>SALES_PRICE</th>\n",
       "      <th>INF_PRICE</th>\n",
       "      <th>1+0.04</th>\n",
       "      <th>POWER(Z,Y)</th>\n",
       "    </tr>\n",
       "  </thead>\n",
       "  <tbody>\n",
       "    <tr>\n",
       "      <th>7104</th>\n",
       "      <td>P05438</td>\n",
       "      <td>T Nagar</td>\n",
       "      <td>1733</td>\n",
       "      <td>24-02-2010</td>\n",
       "      <td>1.0</td>\n",
       "      <td>1.0</td>\n",
       "      <td>4</td>\n",
       "      <td>Ab Normal</td>\n",
       "      <td>Yes</td>\n",
       "      <td>02-03-1985</td>\n",
       "      <td>...</td>\n",
       "      <td>3.4</td>\n",
       "      <td>3.7</td>\n",
       "      <td>2.1</td>\n",
       "      <td>2.89</td>\n",
       "      <td>702058</td>\n",
       "      <td>312026</td>\n",
       "      <td>19501600</td>\n",
       "      <td>3.122269e+07</td>\n",
       "      <td>1.04</td>\n",
       "      <td>1.601032</td>\n",
       "    </tr>\n",
       "    <tr>\n",
       "      <th>7105</th>\n",
       "      <td>P05042</td>\n",
       "      <td>Karapakkam</td>\n",
       "      <td>666</td>\n",
       "      <td>11-05-2010</td>\n",
       "      <td>1.0</td>\n",
       "      <td>1.0</td>\n",
       "      <td>2</td>\n",
       "      <td>Adj Land</td>\n",
       "      <td>Yes</td>\n",
       "      <td>20-05-1974</td>\n",
       "      <td>...</td>\n",
       "      <td>3.2</td>\n",
       "      <td>4.4</td>\n",
       "      <td>2.5</td>\n",
       "      <td>3.28</td>\n",
       "      <td>273317</td>\n",
       "      <td>74541</td>\n",
       "      <td>6211750</td>\n",
       "      <td>9.945212e+06</td>\n",
       "      <td>1.04</td>\n",
       "      <td>1.601032</td>\n",
       "    </tr>\n",
       "    <tr>\n",
       "      <th>7106</th>\n",
       "      <td>P10000</td>\n",
       "      <td>Velachery</td>\n",
       "      <td>1897</td>\n",
       "      <td>08-04-2004</td>\n",
       "      <td>3.0</td>\n",
       "      <td>2.0</td>\n",
       "      <td>5</td>\n",
       "      <td>Family</td>\n",
       "      <td>Yes</td>\n",
       "      <td>11-04-1995</td>\n",
       "      <td>...</td>\n",
       "      <td>3.6</td>\n",
       "      <td>4.5</td>\n",
       "      <td>3.3</td>\n",
       "      <td>3.92</td>\n",
       "      <td>346191</td>\n",
       "      <td>205551</td>\n",
       "      <td>10818480</td>\n",
       "      <td>2.191626e+07</td>\n",
       "      <td>1.04</td>\n",
       "      <td>2.025817</td>\n",
       "    </tr>\n",
       "    <tr>\n",
       "      <th>7107</th>\n",
       "      <td>P06508</td>\n",
       "      <td>Karapakkam</td>\n",
       "      <td>787</td>\n",
       "      <td>03-08-2009</td>\n",
       "      <td>1.0</td>\n",
       "      <td>1.0</td>\n",
       "      <td>2</td>\n",
       "      <td>Partial</td>\n",
       "      <td>Yes</td>\n",
       "      <td>11-08-1977</td>\n",
       "      <td>...</td>\n",
       "      <td>4.6</td>\n",
       "      <td>3.8</td>\n",
       "      <td>4.1</td>\n",
       "      <td>4.16</td>\n",
       "      <td>425350</td>\n",
       "      <td>119098</td>\n",
       "      <td>8507000</td>\n",
       "      <td>1.416478e+07</td>\n",
       "      <td>1.04</td>\n",
       "      <td>1.665074</td>\n",
       "    </tr>\n",
       "    <tr>\n",
       "      <th>7108</th>\n",
       "      <td>P09794</td>\n",
       "      <td>Velachery</td>\n",
       "      <td>1896</td>\n",
       "      <td>13-07-2005</td>\n",
       "      <td>3.0</td>\n",
       "      <td>2.0</td>\n",
       "      <td>5</td>\n",
       "      <td>Partial</td>\n",
       "      <td>Yes</td>\n",
       "      <td>24-07-1961</td>\n",
       "      <td>...</td>\n",
       "      <td>3.1</td>\n",
       "      <td>3.5</td>\n",
       "      <td>4.3</td>\n",
       "      <td>3.64</td>\n",
       "      <td>349177</td>\n",
       "      <td>79812</td>\n",
       "      <td>9976480</td>\n",
       "      <td>1.943319e+07</td>\n",
       "      <td>1.04</td>\n",
       "      <td>1.947900</td>\n",
       "    </tr>\n",
       "  </tbody>\n",
       "</table>\n",
       "<p>5 rows × 24 columns</p>\n",
       "</div>"
      ],
      "text/plain": [
       "      PRT_ID        AREA  INT_SQFT   DATE_SALE  N_BEDROOM  N_BATHROOM  N_ROOM  \\\n",
       "7104  P05438     T Nagar      1733  24-02-2010        1.0         1.0       4   \n",
       "7105  P05042  Karapakkam       666  11-05-2010        1.0         1.0       2   \n",
       "7106  P10000   Velachery      1897  08-04-2004        3.0         2.0       5   \n",
       "7107  P06508  Karapakkam       787  03-08-2009        1.0         1.0       2   \n",
       "7108  P09794   Velachery      1896  13-07-2005        3.0         2.0       5   \n",
       "\n",
       "      SALE_COND PARK_FACIL  DATE_BUILD  ... QS_ROOMS QS_BATHROOM QS_BEDROOM  \\\n",
       "7104  Ab Normal        Yes  02-03-1985  ...      3.4         3.7        2.1   \n",
       "7105   Adj Land        Yes  20-05-1974  ...      3.2         4.4        2.5   \n",
       "7106     Family        Yes  11-04-1995  ...      3.6         4.5        3.3   \n",
       "7107    Partial        Yes  11-08-1977  ...      4.6         3.8        4.1   \n",
       "7108    Partial        Yes  24-07-1961  ...      3.1         3.5        4.3   \n",
       "\n",
       "     QS_OVERALL  REG_FEE  COMMIS  SALES_PRICE     INF_PRICE  1+0.04  \\\n",
       "7104       2.89   702058  312026     19501600  3.122269e+07    1.04   \n",
       "7105       3.28   273317   74541      6211750  9.945212e+06    1.04   \n",
       "7106       3.92   346191  205551     10818480  2.191626e+07    1.04   \n",
       "7107       4.16   425350  119098      8507000  1.416478e+07    1.04   \n",
       "7108       3.64   349177   79812      9976480  1.943319e+07    1.04   \n",
       "\n",
       "      POWER(Z,Y)  \n",
       "7104    1.601032  \n",
       "7105    1.601032  \n",
       "7106    2.025817  \n",
       "7107    1.665074  \n",
       "7108    1.947900  \n",
       "\n",
       "[5 rows x 24 columns]"
      ]
     },
     "execution_count": 4,
     "metadata": {},
     "output_type": "execute_result"
    }
   ],
   "source": [
    "df.tail()"
   ]
  },
  {
   "cell_type": "markdown",
   "id": "e08c4570-c8c3-40ea-a10a-0106c3480a86",
   "metadata": {},
   "source": [
    "To check the dataset inf and check the type of a column information use .info() and check the type of a column"
   ]
  },
  {
   "cell_type": "code",
   "execution_count": 5,
   "id": "de73036e-c3de-4480-807f-495632f10065",
   "metadata": {},
   "outputs": [
    {
     "name": "stdout",
     "output_type": "stream",
     "text": [
      "<class 'pandas.core.frame.DataFrame'>\n",
      "RangeIndex: 7109 entries, 0 to 7108\n",
      "Data columns (total 24 columns):\n",
      " #   Column         Non-Null Count  Dtype  \n",
      "---  ------         --------------  -----  \n",
      " 0   PRT_ID         7109 non-null   object \n",
      " 1   AREA           7109 non-null   object \n",
      " 2   INT_SQFT       7109 non-null   int64  \n",
      " 3   DATE_SALE      7109 non-null   object \n",
      " 4   N_BEDROOM      7108 non-null   float64\n",
      " 5   N_BATHROOM     7104 non-null   float64\n",
      " 6   N_ROOM         7109 non-null   int64  \n",
      " 7   SALE_COND      7109 non-null   object \n",
      " 8   PARK_FACIL     7109 non-null   object \n",
      " 9   DATE_BUILD     7109 non-null   object \n",
      " 10  BUILDTYPE      7109 non-null   object \n",
      " 11  UTILITY_AVAIL  7109 non-null   object \n",
      " 12  STREET         7109 non-null   object \n",
      " 13  MZZONE         7109 non-null   object \n",
      " 14  QS_ROOMS       7109 non-null   float64\n",
      " 15  QS_BATHROOM    7109 non-null   float64\n",
      " 16  QS_BEDROOM     7109 non-null   float64\n",
      " 17  QS_OVERALL     7061 non-null   float64\n",
      " 18  REG_FEE        7109 non-null   int64  \n",
      " 19  COMMIS         7109 non-null   int64  \n",
      " 20  SALES_PRICE    7109 non-null   int64  \n",
      " 21  INF_PRICE      7109 non-null   float64\n",
      " 22  1+0.04         7109 non-null   float64\n",
      " 23  POWER(Z,Y)     7109 non-null   float64\n",
      "dtypes: float64(9), int64(5), object(10)\n",
      "memory usage: 1.3+ MB\n"
     ]
    }
   ],
   "source": [
    "df.info()"
   ]
  },
  {
   "cell_type": "markdown",
   "id": "4d225c75-f266-4e2c-8b30-a88100e5c7c8",
   "metadata": {},
   "source": [
    "To chek the dataset count,mean,std,min,quantile and max using .describe()"
   ]
  },
  {
   "cell_type": "code",
   "execution_count": 6,
   "id": "c05230c0-488e-4f3d-aeb7-0f9ec1f89bfa",
   "metadata": {},
   "outputs": [
    {
     "data": {
      "text/html": [
       "<div>\n",
       "<style scoped>\n",
       "    .dataframe tbody tr th:only-of-type {\n",
       "        vertical-align: middle;\n",
       "    }\n",
       "\n",
       "    .dataframe tbody tr th {\n",
       "        vertical-align: top;\n",
       "    }\n",
       "\n",
       "    .dataframe thead th {\n",
       "        text-align: right;\n",
       "    }\n",
       "</style>\n",
       "<table border=\"1\" class=\"dataframe\">\n",
       "  <thead>\n",
       "    <tr style=\"text-align: right;\">\n",
       "      <th></th>\n",
       "      <th>INT_SQFT</th>\n",
       "      <th>N_BEDROOM</th>\n",
       "      <th>N_BATHROOM</th>\n",
       "      <th>N_ROOM</th>\n",
       "      <th>QS_ROOMS</th>\n",
       "      <th>QS_BATHROOM</th>\n",
       "      <th>QS_BEDROOM</th>\n",
       "      <th>QS_OVERALL</th>\n",
       "      <th>REG_FEE</th>\n",
       "      <th>COMMIS</th>\n",
       "      <th>SALES_PRICE</th>\n",
       "      <th>INF_PRICE</th>\n",
       "      <th>1+0.04</th>\n",
       "      <th>POWER(Z,Y)</th>\n",
       "    </tr>\n",
       "  </thead>\n",
       "  <tbody>\n",
       "    <tr>\n",
       "      <th>count</th>\n",
       "      <td>7109.000000</td>\n",
       "      <td>7108.000000</td>\n",
       "      <td>7104.000000</td>\n",
       "      <td>7109.000000</td>\n",
       "      <td>7109.000000</td>\n",
       "      <td>7109.000000</td>\n",
       "      <td>7109.000000</td>\n",
       "      <td>7061.000000</td>\n",
       "      <td>7109.000000</td>\n",
       "      <td>7109.000000</td>\n",
       "      <td>7.109000e+03</td>\n",
       "      <td>7.109000e+03</td>\n",
       "      <td>7.109000e+03</td>\n",
       "      <td>7109.000000</td>\n",
       "    </tr>\n",
       "    <tr>\n",
       "      <th>mean</th>\n",
       "      <td>1382.073006</td>\n",
       "      <td>1.637029</td>\n",
       "      <td>1.213260</td>\n",
       "      <td>3.688704</td>\n",
       "      <td>3.517471</td>\n",
       "      <td>3.507244</td>\n",
       "      <td>3.485300</td>\n",
       "      <td>3.503254</td>\n",
       "      <td>376938.330708</td>\n",
       "      <td>141005.726544</td>\n",
       "      <td>1.089491e+07</td>\n",
       "      <td>1.767201e+07</td>\n",
       "      <td>1.040000e+00</td>\n",
       "      <td>1.621739</td>\n",
       "    </tr>\n",
       "    <tr>\n",
       "      <th>std</th>\n",
       "      <td>457.410902</td>\n",
       "      <td>0.802902</td>\n",
       "      <td>0.409639</td>\n",
       "      <td>1.019099</td>\n",
       "      <td>0.891972</td>\n",
       "      <td>0.897834</td>\n",
       "      <td>0.887266</td>\n",
       "      <td>0.527223</td>\n",
       "      <td>143070.662010</td>\n",
       "      <td>78768.093718</td>\n",
       "      <td>3.768603e+06</td>\n",
       "      <td>6.310658e+06</td>\n",
       "      <td>4.441204e-16</td>\n",
       "      <td>0.141455</td>\n",
       "    </tr>\n",
       "    <tr>\n",
       "      <th>min</th>\n",
       "      <td>500.000000</td>\n",
       "      <td>1.000000</td>\n",
       "      <td>1.000000</td>\n",
       "      <td>2.000000</td>\n",
       "      <td>2.000000</td>\n",
       "      <td>2.000000</td>\n",
       "      <td>2.000000</td>\n",
       "      <td>2.000000</td>\n",
       "      <td>71177.000000</td>\n",
       "      <td>5055.000000</td>\n",
       "      <td>2.156875e+06</td>\n",
       "      <td>3.591355e+06</td>\n",
       "      <td>1.040000e+00</td>\n",
       "      <td>1.315932</td>\n",
       "    </tr>\n",
       "    <tr>\n",
       "      <th>25%</th>\n",
       "      <td>993.000000</td>\n",
       "      <td>1.000000</td>\n",
       "      <td>1.000000</td>\n",
       "      <td>3.000000</td>\n",
       "      <td>2.700000</td>\n",
       "      <td>2.700000</td>\n",
       "      <td>2.700000</td>\n",
       "      <td>3.130000</td>\n",
       "      <td>272406.000000</td>\n",
       "      <td>84219.000000</td>\n",
       "      <td>8.272100e+06</td>\n",
       "      <td>1.323023e+07</td>\n",
       "      <td>1.040000e+00</td>\n",
       "      <td>1.539454</td>\n",
       "    </tr>\n",
       "    <tr>\n",
       "      <th>50%</th>\n",
       "      <td>1373.000000</td>\n",
       "      <td>1.000000</td>\n",
       "      <td>1.000000</td>\n",
       "      <td>4.000000</td>\n",
       "      <td>3.500000</td>\n",
       "      <td>3.500000</td>\n",
       "      <td>3.500000</td>\n",
       "      <td>3.500000</td>\n",
       "      <td>349486.000000</td>\n",
       "      <td>127628.000000</td>\n",
       "      <td>1.033505e+07</td>\n",
       "      <td>1.687515e+07</td>\n",
       "      <td>1.040000e+00</td>\n",
       "      <td>1.601032</td>\n",
       "    </tr>\n",
       "    <tr>\n",
       "      <th>75%</th>\n",
       "      <td>1744.000000</td>\n",
       "      <td>2.000000</td>\n",
       "      <td>1.000000</td>\n",
       "      <td>4.000000</td>\n",
       "      <td>4.300000</td>\n",
       "      <td>4.300000</td>\n",
       "      <td>4.300000</td>\n",
       "      <td>3.890000</td>\n",
       "      <td>451562.000000</td>\n",
       "      <td>184506.000000</td>\n",
       "      <td>1.299390e+07</td>\n",
       "      <td>2.098167e+07</td>\n",
       "      <td>1.040000e+00</td>\n",
       "      <td>1.731676</td>\n",
       "    </tr>\n",
       "    <tr>\n",
       "      <th>max</th>\n",
       "      <td>2500.000000</td>\n",
       "      <td>4.000000</td>\n",
       "      <td>2.000000</td>\n",
       "      <td>6.000000</td>\n",
       "      <td>5.000000</td>\n",
       "      <td>5.000000</td>\n",
       "      <td>5.000000</td>\n",
       "      <td>4.970000</td>\n",
       "      <td>983922.000000</td>\n",
       "      <td>495405.000000</td>\n",
       "      <td>2.366734e+07</td>\n",
       "      <td>4.354230e+07</td>\n",
       "      <td>1.040000e+00</td>\n",
       "      <td>2.025817</td>\n",
       "    </tr>\n",
       "  </tbody>\n",
       "</table>\n",
       "</div>"
      ],
      "text/plain": [
       "          INT_SQFT    N_BEDROOM   N_BATHROOM       N_ROOM     QS_ROOMS  \\\n",
       "count  7109.000000  7108.000000  7104.000000  7109.000000  7109.000000   \n",
       "mean   1382.073006     1.637029     1.213260     3.688704     3.517471   \n",
       "std     457.410902     0.802902     0.409639     1.019099     0.891972   \n",
       "min     500.000000     1.000000     1.000000     2.000000     2.000000   \n",
       "25%     993.000000     1.000000     1.000000     3.000000     2.700000   \n",
       "50%    1373.000000     1.000000     1.000000     4.000000     3.500000   \n",
       "75%    1744.000000     2.000000     1.000000     4.000000     4.300000   \n",
       "max    2500.000000     4.000000     2.000000     6.000000     5.000000   \n",
       "\n",
       "       QS_BATHROOM   QS_BEDROOM   QS_OVERALL        REG_FEE         COMMIS  \\\n",
       "count  7109.000000  7109.000000  7061.000000    7109.000000    7109.000000   \n",
       "mean      3.507244     3.485300     3.503254  376938.330708  141005.726544   \n",
       "std       0.897834     0.887266     0.527223  143070.662010   78768.093718   \n",
       "min       2.000000     2.000000     2.000000   71177.000000    5055.000000   \n",
       "25%       2.700000     2.700000     3.130000  272406.000000   84219.000000   \n",
       "50%       3.500000     3.500000     3.500000  349486.000000  127628.000000   \n",
       "75%       4.300000     4.300000     3.890000  451562.000000  184506.000000   \n",
       "max       5.000000     5.000000     4.970000  983922.000000  495405.000000   \n",
       "\n",
       "        SALES_PRICE     INF_PRICE        1+0.04   POWER(Z,Y)  \n",
       "count  7.109000e+03  7.109000e+03  7.109000e+03  7109.000000  \n",
       "mean   1.089491e+07  1.767201e+07  1.040000e+00     1.621739  \n",
       "std    3.768603e+06  6.310658e+06  4.441204e-16     0.141455  \n",
       "min    2.156875e+06  3.591355e+06  1.040000e+00     1.315932  \n",
       "25%    8.272100e+06  1.323023e+07  1.040000e+00     1.539454  \n",
       "50%    1.033505e+07  1.687515e+07  1.040000e+00     1.601032  \n",
       "75%    1.299390e+07  2.098167e+07  1.040000e+00     1.731676  \n",
       "max    2.366734e+07  4.354230e+07  1.040000e+00     2.025817  "
      ]
     },
     "execution_count": 6,
     "metadata": {},
     "output_type": "execute_result"
    }
   ],
   "source": [
    "df.describe()"
   ]
  },
  {
   "cell_type": "markdown",
   "id": "4adf819c-94c5-446b-a08e-c963cbb7d296",
   "metadata": {},
   "source": [
    "To check the shape and size of the dataset"
   ]
  },
  {
   "cell_type": "code",
   "execution_count": 7,
   "id": "9af87032-f447-460f-bea7-eda7c566facd",
   "metadata": {},
   "outputs": [
    {
     "data": {
      "text/plain": [
       "((7109, 24), 170616)"
      ]
     },
     "execution_count": 7,
     "metadata": {},
     "output_type": "execute_result"
    }
   ],
   "source": [
    "df.shape,df.size"
   ]
  },
  {
   "cell_type": "markdown",
   "id": "11a6815a-12f4-4dca-91b2-9b85661cbc41",
   "metadata": {},
   "source": [
    "TO check null values to using isnull and count the null value to use sum,so that we getting the null values count"
   ]
  },
  {
   "cell_type": "code",
   "execution_count": 8,
   "id": "98d4cd4c-aa18-4517-8bdb-f6d7c7f36236",
   "metadata": {},
   "outputs": [
    {
     "data": {
      "text/plain": [
       "PRT_ID            0\n",
       "AREA              0\n",
       "INT_SQFT          0\n",
       "DATE_SALE         0\n",
       "N_BEDROOM         1\n",
       "N_BATHROOM        5\n",
       "N_ROOM            0\n",
       "SALE_COND         0\n",
       "PARK_FACIL        0\n",
       "DATE_BUILD        0\n",
       "BUILDTYPE         0\n",
       "UTILITY_AVAIL     0\n",
       "STREET            0\n",
       "MZZONE            0\n",
       "QS_ROOMS          0\n",
       "QS_BATHROOM       0\n",
       "QS_BEDROOM        0\n",
       "QS_OVERALL       48\n",
       "REG_FEE           0\n",
       "COMMIS            0\n",
       "SALES_PRICE       0\n",
       "INF_PRICE         0\n",
       "1+0.04            0\n",
       "POWER(Z,Y)        0\n",
       "dtype: int64"
      ]
     },
     "execution_count": 8,
     "metadata": {},
     "output_type": "execute_result"
    }
   ],
   "source": [
    "df.isnull().sum()"
   ]
  },
  {
   "cell_type": "markdown",
   "id": "30a7fc76-ea86-468f-8cfe-1a3919535a53",
   "metadata": {},
   "source": [
    "to check the not null values"
   ]
  },
  {
   "cell_type": "code",
   "execution_count": 9,
   "id": "777ef33c-029c-4d62-b030-988f1516cbbc",
   "metadata": {},
   "outputs": [
    {
     "data": {
      "text/plain": [
       "PRT_ID           7109\n",
       "AREA             7109\n",
       "INT_SQFT         7109\n",
       "DATE_SALE        7109\n",
       "N_BEDROOM        7108\n",
       "N_BATHROOM       7104\n",
       "N_ROOM           7109\n",
       "SALE_COND        7109\n",
       "PARK_FACIL       7109\n",
       "DATE_BUILD       7109\n",
       "BUILDTYPE        7109\n",
       "UTILITY_AVAIL    7109\n",
       "STREET           7109\n",
       "MZZONE           7109\n",
       "QS_ROOMS         7109\n",
       "QS_BATHROOM      7109\n",
       "QS_BEDROOM       7109\n",
       "QS_OVERALL       7061\n",
       "REG_FEE          7109\n",
       "COMMIS           7109\n",
       "SALES_PRICE      7109\n",
       "INF_PRICE        7109\n",
       "1+0.04           7109\n",
       "POWER(Z,Y)       7109\n",
       "dtype: int64"
      ]
     },
     "execution_count": 9,
     "metadata": {},
     "output_type": "execute_result"
    }
   ],
   "source": [
    "df.notnull().sum()"
   ]
  },
  {
   "cell_type": "markdown",
   "id": "4182655f-da99-41e0-9a66-392c9a5defd7",
   "metadata": {},
   "source": [
    "Check the duplicate value and the sum of duplicate"
   ]
  },
  {
   "cell_type": "code",
   "execution_count": 10,
   "id": "b92e47bc-0e99-43b7-9afd-a02dc01573a3",
   "metadata": {},
   "outputs": [
    {
     "data": {
      "text/plain": [
       "0"
      ]
     },
     "execution_count": 10,
     "metadata": {},
     "output_type": "execute_result"
    }
   ],
   "source": [
    "df.duplicated().sum()"
   ]
  },
  {
   "cell_type": "markdown",
   "id": "e5f95a90-f8f2-4579-b3ef-1d43d0cb1847",
   "metadata": {},
   "source": [
    "we getting null values from below three columns we replace the null value with their mean"
   ]
  },
  {
   "cell_type": "code",
   "execution_count": 11,
   "id": "35c0e2d0-8697-4170-a7f9-cbba8bf79133",
   "metadata": {},
   "outputs": [],
   "source": [
    "df['N_BEDROOM']=df['N_BEDROOM'].fillna(df['N_BEDROOM'].mean())\n",
    "df['N_BATHROOM']=df['N_BATHROOM'].fillna(df['N_BATHROOM'].mean())\n",
    "df['QS_OVERALL']=df['QS_OVERALL'].fillna(df['QS_OVERALL'].mean())"
   ]
  },
  {
   "cell_type": "markdown",
   "id": "ebda42a6-fd45-4dfd-a832-a4da152359be",
   "metadata": {},
   "source": [
    "Date sale and date build in object datatype in dataset so, we converted it to int type use to_datetime function"
   ]
  },
  {
   "cell_type": "code",
   "execution_count": 12,
   "id": "7fd39b60-7aac-4fbf-87b3-d0d7878ef891",
   "metadata": {},
   "outputs": [
    {
     "name": "stderr",
     "output_type": "stream",
     "text": [
      "C:\\Users\\Megala\\AppData\\Local\\Temp\\ipykernel_26032\\2443819827.py:1: UserWarning: Parsing dates in %d-%m-%Y format when dayfirst=False (the default) was specified. Pass `dayfirst=True` or specify a format to silence this warning.\n",
      "  df['DATE_SALE'] = pd.to_datetime(df['DATE_SALE'])\n",
      "C:\\Users\\Megala\\AppData\\Local\\Temp\\ipykernel_26032\\2443819827.py:2: UserWarning: Parsing dates in %d-%m-%Y format when dayfirst=False (the default) was specified. Pass `dayfirst=True` or specify a format to silence this warning.\n",
      "  df['DATE_BUILD'] = pd.to_datetime(df['DATE_BUILD'])\n"
     ]
    }
   ],
   "source": [
    "df['DATE_SALE'] = pd.to_datetime(df['DATE_SALE'])\n",
    "df['DATE_BUILD'] = pd.to_datetime(df['DATE_BUILD'])"
   ]
  },
  {
   "cell_type": "markdown",
   "id": "fd26e67f-0005-4e07-8d1a-d87490ad98c6",
   "metadata": {},
   "source": [
    "Calculated the age of the building"
   ]
  },
  {
   "cell_type": "code",
   "execution_count": 13,
   "id": "00f9e2fe-a381-4f1c-a316-46ae0a25d52d",
   "metadata": {},
   "outputs": [],
   "source": [
    "df['AGE'] =df['DATE_SALE']-df['DATE_BUILD']"
   ]
  },
  {
   "cell_type": "markdown",
   "id": "d8e4503a-c6a2-44d7-a041-e80110c38027",
   "metadata": {},
   "source": [
    "It returns an integer representing the total number of days between the two dates."
   ]
  },
  {
   "cell_type": "code",
   "execution_count": 14,
   "id": "993cffc5-43c7-476d-86f3-a7f958ea3d0e",
   "metadata": {},
   "outputs": [],
   "source": [
    "df['AGE']=df['AGE'].dt.days"
   ]
  },
  {
   "cell_type": "markdown",
   "id": "2d644760-efc3-49a0-9c5b-cd2134185e1b",
   "metadata": {},
   "source": [
    "To add the salesprice,reg fee,commis in new column called totall price"
   ]
  },
  {
   "cell_type": "code",
   "execution_count": 15,
   "id": "2e00518a-ec38-4003-aece-f7b14928f88b",
   "metadata": {},
   "outputs": [],
   "source": [
    "df['TOTAL_PRICE'] = df['SALES_PRICE']+df['REG_FEE']+df['COMMIS']"
   ]
  },
  {
   "cell_type": "markdown",
   "id": "c43f2298-2807-4b57-b4ba-53a3146d3472",
   "metadata": {},
   "source": [
    "check the data frame changes are made are not"
   ]
  },
  {
   "cell_type": "code",
   "execution_count": 16,
   "id": "ef471463-9b22-47cc-9ff6-665603d42f62",
   "metadata": {},
   "outputs": [
    {
     "data": {
      "text/html": [
       "<div>\n",
       "<style scoped>\n",
       "    .dataframe tbody tr th:only-of-type {\n",
       "        vertical-align: middle;\n",
       "    }\n",
       "\n",
       "    .dataframe tbody tr th {\n",
       "        vertical-align: top;\n",
       "    }\n",
       "\n",
       "    .dataframe thead th {\n",
       "        text-align: right;\n",
       "    }\n",
       "</style>\n",
       "<table border=\"1\" class=\"dataframe\">\n",
       "  <thead>\n",
       "    <tr style=\"text-align: right;\">\n",
       "      <th></th>\n",
       "      <th>PRT_ID</th>\n",
       "      <th>AREA</th>\n",
       "      <th>INT_SQFT</th>\n",
       "      <th>DATE_SALE</th>\n",
       "      <th>N_BEDROOM</th>\n",
       "      <th>N_BATHROOM</th>\n",
       "      <th>N_ROOM</th>\n",
       "      <th>SALE_COND</th>\n",
       "      <th>PARK_FACIL</th>\n",
       "      <th>DATE_BUILD</th>\n",
       "      <th>...</th>\n",
       "      <th>QS_BEDROOM</th>\n",
       "      <th>QS_OVERALL</th>\n",
       "      <th>REG_FEE</th>\n",
       "      <th>COMMIS</th>\n",
       "      <th>SALES_PRICE</th>\n",
       "      <th>INF_PRICE</th>\n",
       "      <th>1+0.04</th>\n",
       "      <th>POWER(Z,Y)</th>\n",
       "      <th>AGE</th>\n",
       "      <th>TOTAL_PRICE</th>\n",
       "    </tr>\n",
       "  </thead>\n",
       "  <tbody>\n",
       "    <tr>\n",
       "      <th>0</th>\n",
       "      <td>P09411</td>\n",
       "      <td>Anna Nagar</td>\n",
       "      <td>1986</td>\n",
       "      <td>2006-12-19</td>\n",
       "      <td>2.0</td>\n",
       "      <td>1.0</td>\n",
       "      <td>5</td>\n",
       "      <td>Ab Normal</td>\n",
       "      <td>No</td>\n",
       "      <td>1995-12-22</td>\n",
       "      <td>...</td>\n",
       "      <td>2.5</td>\n",
       "      <td>3.765</td>\n",
       "      <td>760122</td>\n",
       "      <td>304049</td>\n",
       "      <td>21717770</td>\n",
       "      <td>4.067698e+07</td>\n",
       "      <td>1.04</td>\n",
       "      <td>1.872981</td>\n",
       "      <td>4015</td>\n",
       "      <td>22781941</td>\n",
       "    </tr>\n",
       "    <tr>\n",
       "      <th>1</th>\n",
       "      <td>P05346</td>\n",
       "      <td>Velachery</td>\n",
       "      <td>1855</td>\n",
       "      <td>2010-03-13</td>\n",
       "      <td>3.0</td>\n",
       "      <td>2.0</td>\n",
       "      <td>5</td>\n",
       "      <td>Family</td>\n",
       "      <td>No</td>\n",
       "      <td>1988-03-18</td>\n",
       "      <td>...</td>\n",
       "      <td>3.6</td>\n",
       "      <td>4.010</td>\n",
       "      <td>356321</td>\n",
       "      <td>77042</td>\n",
       "      <td>9630290</td>\n",
       "      <td>1.541840e+07</td>\n",
       "      <td>1.04</td>\n",
       "      <td>1.601032</td>\n",
       "      <td>8030</td>\n",
       "      <td>10063653</td>\n",
       "    </tr>\n",
       "    <tr>\n",
       "      <th>2</th>\n",
       "      <td>P00219</td>\n",
       "      <td>Chrompet</td>\n",
       "      <td>1220</td>\n",
       "      <td>2014-09-11</td>\n",
       "      <td>2.0</td>\n",
       "      <td>1.0</td>\n",
       "      <td>4</td>\n",
       "      <td>Partial</td>\n",
       "      <td>No</td>\n",
       "      <td>2009-09-12</td>\n",
       "      <td>...</td>\n",
       "      <td>3.1</td>\n",
       "      <td>3.320</td>\n",
       "      <td>409027</td>\n",
       "      <td>198316</td>\n",
       "      <td>12394750</td>\n",
       "      <td>1.696307e+07</td>\n",
       "      <td>1.04</td>\n",
       "      <td>1.368569</td>\n",
       "      <td>1825</td>\n",
       "      <td>13002093</td>\n",
       "    </tr>\n",
       "    <tr>\n",
       "      <th>3</th>\n",
       "      <td>P09105</td>\n",
       "      <td>Chrompet</td>\n",
       "      <td>1167</td>\n",
       "      <td>2007-04-05</td>\n",
       "      <td>1.0</td>\n",
       "      <td>1.0</td>\n",
       "      <td>3</td>\n",
       "      <td>Partial</td>\n",
       "      <td>No</td>\n",
       "      <td>1979-04-12</td>\n",
       "      <td>...</td>\n",
       "      <td>2.5</td>\n",
       "      <td>2.670</td>\n",
       "      <td>263152</td>\n",
       "      <td>33955</td>\n",
       "      <td>8488790</td>\n",
       "      <td>1.528783e+07</td>\n",
       "      <td>1.04</td>\n",
       "      <td>1.800944</td>\n",
       "      <td>10220</td>\n",
       "      <td>8785897</td>\n",
       "    </tr>\n",
       "    <tr>\n",
       "      <th>4</th>\n",
       "      <td>P09679</td>\n",
       "      <td>Velachery</td>\n",
       "      <td>1847</td>\n",
       "      <td>2006-03-13</td>\n",
       "      <td>3.0</td>\n",
       "      <td>2.0</td>\n",
       "      <td>5</td>\n",
       "      <td>Family</td>\n",
       "      <td>No</td>\n",
       "      <td>1996-03-15</td>\n",
       "      <td>...</td>\n",
       "      <td>2.1</td>\n",
       "      <td>3.260</td>\n",
       "      <td>604809</td>\n",
       "      <td>235204</td>\n",
       "      <td>16800250</td>\n",
       "      <td>3.146655e+07</td>\n",
       "      <td>1.04</td>\n",
       "      <td>1.872981</td>\n",
       "      <td>3650</td>\n",
       "      <td>17640263</td>\n",
       "    </tr>\n",
       "    <tr>\n",
       "      <th>...</th>\n",
       "      <td>...</td>\n",
       "      <td>...</td>\n",
       "      <td>...</td>\n",
       "      <td>...</td>\n",
       "      <td>...</td>\n",
       "      <td>...</td>\n",
       "      <td>...</td>\n",
       "      <td>...</td>\n",
       "      <td>...</td>\n",
       "      <td>...</td>\n",
       "      <td>...</td>\n",
       "      <td>...</td>\n",
       "      <td>...</td>\n",
       "      <td>...</td>\n",
       "      <td>...</td>\n",
       "      <td>...</td>\n",
       "      <td>...</td>\n",
       "      <td>...</td>\n",
       "      <td>...</td>\n",
       "      <td>...</td>\n",
       "      <td>...</td>\n",
       "    </tr>\n",
       "    <tr>\n",
       "      <th>7104</th>\n",
       "      <td>P05438</td>\n",
       "      <td>T Nagar</td>\n",
       "      <td>1733</td>\n",
       "      <td>2010-02-24</td>\n",
       "      <td>1.0</td>\n",
       "      <td>1.0</td>\n",
       "      <td>4</td>\n",
       "      <td>Ab Normal</td>\n",
       "      <td>Yes</td>\n",
       "      <td>1985-03-02</td>\n",
       "      <td>...</td>\n",
       "      <td>2.1</td>\n",
       "      <td>2.890</td>\n",
       "      <td>702058</td>\n",
       "      <td>312026</td>\n",
       "      <td>19501600</td>\n",
       "      <td>3.122269e+07</td>\n",
       "      <td>1.04</td>\n",
       "      <td>1.601032</td>\n",
       "      <td>9125</td>\n",
       "      <td>20515684</td>\n",
       "    </tr>\n",
       "    <tr>\n",
       "      <th>7105</th>\n",
       "      <td>P05042</td>\n",
       "      <td>Karapakkam</td>\n",
       "      <td>666</td>\n",
       "      <td>2010-05-11</td>\n",
       "      <td>1.0</td>\n",
       "      <td>1.0</td>\n",
       "      <td>2</td>\n",
       "      <td>Adj Land</td>\n",
       "      <td>Yes</td>\n",
       "      <td>1974-05-20</td>\n",
       "      <td>...</td>\n",
       "      <td>2.5</td>\n",
       "      <td>3.280</td>\n",
       "      <td>273317</td>\n",
       "      <td>74541</td>\n",
       "      <td>6211750</td>\n",
       "      <td>9.945212e+06</td>\n",
       "      <td>1.04</td>\n",
       "      <td>1.601032</td>\n",
       "      <td>13140</td>\n",
       "      <td>6559608</td>\n",
       "    </tr>\n",
       "    <tr>\n",
       "      <th>7106</th>\n",
       "      <td>P10000</td>\n",
       "      <td>Velachery</td>\n",
       "      <td>1897</td>\n",
       "      <td>2004-04-08</td>\n",
       "      <td>3.0</td>\n",
       "      <td>2.0</td>\n",
       "      <td>5</td>\n",
       "      <td>Family</td>\n",
       "      <td>Yes</td>\n",
       "      <td>1995-04-11</td>\n",
       "      <td>...</td>\n",
       "      <td>3.3</td>\n",
       "      <td>3.920</td>\n",
       "      <td>346191</td>\n",
       "      <td>205551</td>\n",
       "      <td>10818480</td>\n",
       "      <td>2.191626e+07</td>\n",
       "      <td>1.04</td>\n",
       "      <td>2.025817</td>\n",
       "      <td>3285</td>\n",
       "      <td>11370222</td>\n",
       "    </tr>\n",
       "    <tr>\n",
       "      <th>7107</th>\n",
       "      <td>P06508</td>\n",
       "      <td>Karapakkam</td>\n",
       "      <td>787</td>\n",
       "      <td>2009-08-03</td>\n",
       "      <td>1.0</td>\n",
       "      <td>1.0</td>\n",
       "      <td>2</td>\n",
       "      <td>Partial</td>\n",
       "      <td>Yes</td>\n",
       "      <td>1977-08-11</td>\n",
       "      <td>...</td>\n",
       "      <td>4.1</td>\n",
       "      <td>4.160</td>\n",
       "      <td>425350</td>\n",
       "      <td>119098</td>\n",
       "      <td>8507000</td>\n",
       "      <td>1.416478e+07</td>\n",
       "      <td>1.04</td>\n",
       "      <td>1.665074</td>\n",
       "      <td>11680</td>\n",
       "      <td>9051448</td>\n",
       "    </tr>\n",
       "    <tr>\n",
       "      <th>7108</th>\n",
       "      <td>P09794</td>\n",
       "      <td>Velachery</td>\n",
       "      <td>1896</td>\n",
       "      <td>2005-07-13</td>\n",
       "      <td>3.0</td>\n",
       "      <td>2.0</td>\n",
       "      <td>5</td>\n",
       "      <td>Partial</td>\n",
       "      <td>Yes</td>\n",
       "      <td>1961-07-24</td>\n",
       "      <td>...</td>\n",
       "      <td>4.3</td>\n",
       "      <td>3.640</td>\n",
       "      <td>349177</td>\n",
       "      <td>79812</td>\n",
       "      <td>9976480</td>\n",
       "      <td>1.943319e+07</td>\n",
       "      <td>1.04</td>\n",
       "      <td>1.947900</td>\n",
       "      <td>16060</td>\n",
       "      <td>10405469</td>\n",
       "    </tr>\n",
       "  </tbody>\n",
       "</table>\n",
       "<p>7109 rows × 26 columns</p>\n",
       "</div>"
      ],
      "text/plain": [
       "      PRT_ID        AREA  INT_SQFT  DATE_SALE  N_BEDROOM  N_BATHROOM  N_ROOM  \\\n",
       "0     P09411  Anna Nagar      1986 2006-12-19        2.0         1.0       5   \n",
       "1     P05346   Velachery      1855 2010-03-13        3.0         2.0       5   \n",
       "2     P00219    Chrompet      1220 2014-09-11        2.0         1.0       4   \n",
       "3     P09105    Chrompet      1167 2007-04-05        1.0         1.0       3   \n",
       "4     P09679   Velachery      1847 2006-03-13        3.0         2.0       5   \n",
       "...      ...         ...       ...        ...        ...         ...     ...   \n",
       "7104  P05438     T Nagar      1733 2010-02-24        1.0         1.0       4   \n",
       "7105  P05042  Karapakkam       666 2010-05-11        1.0         1.0       2   \n",
       "7106  P10000   Velachery      1897 2004-04-08        3.0         2.0       5   \n",
       "7107  P06508  Karapakkam       787 2009-08-03        1.0         1.0       2   \n",
       "7108  P09794   Velachery      1896 2005-07-13        3.0         2.0       5   \n",
       "\n",
       "      SALE_COND PARK_FACIL DATE_BUILD  ... QS_BEDROOM QS_OVERALL REG_FEE  \\\n",
       "0     Ab Normal         No 1995-12-22  ...        2.5      3.765  760122   \n",
       "1        Family         No 1988-03-18  ...        3.6      4.010  356321   \n",
       "2       Partial         No 2009-09-12  ...        3.1      3.320  409027   \n",
       "3       Partial         No 1979-04-12  ...        2.5      2.670  263152   \n",
       "4        Family         No 1996-03-15  ...        2.1      3.260  604809   \n",
       "...         ...        ...        ...  ...        ...        ...     ...   \n",
       "7104  Ab Normal        Yes 1985-03-02  ...        2.1      2.890  702058   \n",
       "7105   Adj Land        Yes 1974-05-20  ...        2.5      3.280  273317   \n",
       "7106     Family        Yes 1995-04-11  ...        3.3      3.920  346191   \n",
       "7107    Partial        Yes 1977-08-11  ...        4.1      4.160  425350   \n",
       "7108    Partial        Yes 1961-07-24  ...        4.3      3.640  349177   \n",
       "\n",
       "      COMMIS  SALES_PRICE     INF_PRICE  1+0.04  POWER(Z,Y)    AGE  \\\n",
       "0     304049     21717770  4.067698e+07    1.04    1.872981   4015   \n",
       "1      77042      9630290  1.541840e+07    1.04    1.601032   8030   \n",
       "2     198316     12394750  1.696307e+07    1.04    1.368569   1825   \n",
       "3      33955      8488790  1.528783e+07    1.04    1.800944  10220   \n",
       "4     235204     16800250  3.146655e+07    1.04    1.872981   3650   \n",
       "...      ...          ...           ...     ...         ...    ...   \n",
       "7104  312026     19501600  3.122269e+07    1.04    1.601032   9125   \n",
       "7105   74541      6211750  9.945212e+06    1.04    1.601032  13140   \n",
       "7106  205551     10818480  2.191626e+07    1.04    2.025817   3285   \n",
       "7107  119098      8507000  1.416478e+07    1.04    1.665074  11680   \n",
       "7108   79812      9976480  1.943319e+07    1.04    1.947900  16060   \n",
       "\n",
       "      TOTAL_PRICE  \n",
       "0        22781941  \n",
       "1        10063653  \n",
       "2        13002093  \n",
       "3         8785897  \n",
       "4        17640263  \n",
       "...           ...  \n",
       "7104     20515684  \n",
       "7105      6559608  \n",
       "7106     11370222  \n",
       "7107      9051448  \n",
       "7108     10405469  \n",
       "\n",
       "[7109 rows x 26 columns]"
      ]
     },
     "execution_count": 16,
     "metadata": {},
     "output_type": "execute_result"
    }
   ],
   "source": [
    "df"
   ]
  },
  {
   "cell_type": "markdown",
   "id": "8be0842d-1b58-4491-aec9-01ee4feae195",
   "metadata": {},
   "source": [
    "create a pivote table for area,total price mean"
   ]
  },
  {
   "cell_type": "code",
   "execution_count": 17,
   "id": "51bb10c4-97a4-4fb8-9c08-659e3ca9df63",
   "metadata": {},
   "outputs": [],
   "source": [
    "pie =pd.pivot_table(df,index = 'AREA',values = ['TOTAL_PRICE'],aggfunc='mean')"
   ]
  },
  {
   "cell_type": "code",
   "execution_count": 18,
   "id": "d7d0bfea-4b95-4c3e-97ee-5814ec9c0a17",
   "metadata": {},
   "outputs": [
    {
     "data": {
      "text/html": [
       "<div>\n",
       "<style scoped>\n",
       "    .dataframe tbody tr th:only-of-type {\n",
       "        vertical-align: middle;\n",
       "    }\n",
       "\n",
       "    .dataframe tbody tr th {\n",
       "        vertical-align: top;\n",
       "    }\n",
       "\n",
       "    .dataframe thead th {\n",
       "        text-align: right;\n",
       "    }\n",
       "</style>\n",
       "<table border=\"1\" class=\"dataframe\">\n",
       "  <thead>\n",
       "    <tr style=\"text-align: right;\">\n",
       "      <th></th>\n",
       "      <th>TOTAL_PRICE</th>\n",
       "    </tr>\n",
       "    <tr>\n",
       "      <th>AREA</th>\n",
       "      <th></th>\n",
       "    </tr>\n",
       "  </thead>\n",
       "  <tbody>\n",
       "    <tr>\n",
       "      <th>Adyar</th>\n",
       "      <td>9.580581e+06</td>\n",
       "    </tr>\n",
       "    <tr>\n",
       "      <th>Anna Nagar</th>\n",
       "      <td>1.584423e+07</td>\n",
       "    </tr>\n",
       "    <tr>\n",
       "      <th>Chrompet</th>\n",
       "      <td>1.040800e+07</td>\n",
       "    </tr>\n",
       "    <tr>\n",
       "      <th>KK Nagar</th>\n",
       "      <td>1.341933e+07</td>\n",
       "    </tr>\n",
       "    <tr>\n",
       "      <th>Karapakkam</th>\n",
       "      <td>7.755477e+06</td>\n",
       "    </tr>\n",
       "    <tr>\n",
       "      <th>T Nagar</th>\n",
       "      <td>1.632265e+07</td>\n",
       "    </tr>\n",
       "    <tr>\n",
       "      <th>Velachery</th>\n",
       "      <td>1.158841e+07</td>\n",
       "    </tr>\n",
       "  </tbody>\n",
       "</table>\n",
       "</div>"
      ],
      "text/plain": [
       "             TOTAL_PRICE\n",
       "AREA                    \n",
       "Adyar       9.580581e+06\n",
       "Anna Nagar  1.584423e+07\n",
       "Chrompet    1.040800e+07\n",
       "KK Nagar    1.341933e+07\n",
       "Karapakkam  7.755477e+06\n",
       "T Nagar     1.632265e+07\n",
       "Velachery   1.158841e+07"
      ]
     },
     "execution_count": 18,
     "metadata": {},
     "output_type": "execute_result"
    }
   ],
   "source": [
    "pie"
   ]
  },
  {
   "cell_type": "markdown",
   "id": "7c02075d-71df-49dc-9705-a5cbae916a63",
   "metadata": {},
   "source": [
    "plot a pie chart for pivot table to analyse the each having amean of total price"
   ]
  },
  {
   "cell_type": "code",
   "execution_count": 19,
   "id": "e577cf9a-fd56-4f64-8e80-794a83fe90ed",
   "metadata": {},
   "outputs": [
    {
     "data": {
      "image/png": "[encoded data removed]",
      "text/plain": [
       "<Figure size 640x480 with 1 Axes>"
      ]
     },
     "metadata": {},
     "output_type": "display_data"
    }
   ],
   "source": [
    "plt.pie(pie.TOTAL_PRICE,labels = pie.index,autopct='%1.1f%%', startangle=140)\n",
    "plt.show()"
   ]
  },
  {
   "cell_type": "markdown",
   "id": "23e844eb-ad31-42f6-89e8-6c8ce0b35637",
   "metadata": {},
   "source": [
    "plot the bar plot for area,total price for park facil"
   ]
  },
  {
   "cell_type": "code",
   "execution_count": 20,
   "id": "b4925583-f1c7-4799-9122-32a4ca578073",
   "metadata": {},
   "outputs": [
    {
     "data": {
      "image/png": "[encoded data removed]",
      "text/plain": [
       "<Figure size 640x480 with 1 Axes>"
      ]
     },
     "metadata": {},
     "output_type": "display_data"
    }
   ],
   "source": [
    "sns.barplot(df,x='AREA',y='TOTAL_PRICE',hue ='PARK_FACIL')\n",
    "plt.show()"
   ]
  },
  {
   "cell_type": "markdown",
   "id": "b3faf2e4-ddbb-4fb6-82c4-24718985ca90",
   "metadata": {},
   "source": [
    "to draw hist plot for int sqrt"
   ]
  },
  {
   "cell_type": "code",
   "execution_count": 21,
   "id": "172dec78-b9e3-4e0c-885c-ae091c2d628e",
   "metadata": {},
   "outputs": [
    {
     "data": {
      "image/png": "[encoded data removed]",
      "text/plain": [
       "<Figure size 640x480 with 1 Axes>"
      ]
     },
     "metadata": {},
     "output_type": "display_data"
    }
   ],
   "source": [
    "plt.hist(df.INT_SQFT)\n",
    "plt.xlabel('SQUARE FEET')\n",
    "plt.ylabel('Frequency')\n",
    "plt.show()"
   ]
  },
  {
   "cell_type": "markdown",
   "id": "428bae01-79b3-4593-80ea-eedcb49cfc98",
   "metadata": {},
   "source": [
    "Below stripplot to show the area,sqft and park facil"
   ]
  },
  {
   "cell_type": "code",
   "execution_count": 22,
   "id": "ea7959af-7da2-4e88-8926-b0774ff44e62",
   "metadata": {},
   "outputs": [
    {
     "data": {
      "image/png": "[encoded data removed]",
      "text/plain": [
       "<Figure size 800x600 with 1 Axes>"
      ]
     },
     "metadata": {},
     "output_type": "display_data"
    }
   ],
   "source": [
    "plt.figure(figsize=(8,6))\n",
    "Strip =sns.stripplot(x=df.AREA,y=df.INT_SQFT,hue = df.PARK_FACIL)"
   ]
  },
  {
   "cell_type": "markdown",
   "id": "ee8b8eb1-fac6-4dba-8748-6da63d7b7e81",
   "metadata": {},
   "source": [
    "The below barplot shows the street,total price utility available or not"
   ]
  },
  {
   "cell_type": "code",
   "execution_count": 23,
   "id": "e1446087-9417-46ab-887f-29f0827e2f64",
   "metadata": {},
   "outputs": [
    {
     "data": {
      "text/plain": [
       "<Axes: xlabel='STREET', ylabel='TOTAL_PRICE'>"
      ]
     },
     "execution_count": 23,
     "metadata": {},
     "output_type": "execute_result"
    },
    {
     "data": {
      "image/png": "[encoded data removed]",
      "text/plain": [
       "<Figure size 640x480 with 1 Axes>"
      ]
     },
     "metadata": {},
     "output_type": "display_data"
    }
   ],
   "source": [
    "sns.barplot(df,x='STREET',y='TOTAL_PRICE',hue = 'UTILITY_AVAIL',palette=\"pastel\")   "
   ]
  },
  {
   "cell_type": "code",
   "execution_count": 24,
   "id": "fb73fa2d-c684-47fe-b36e-9bf9cb3ba532",
   "metadata": {},
   "outputs": [],
   "source": [
    "line =pd.pivot_table(df,index = 'AREA',values = ['N_BEDROOM','N_BATHROOM','N_ROOM'],aggfunc='mean')"
   ]
  },
  {
   "cell_type": "code",
   "execution_count": 25,
   "id": "476ef7d1-026a-4ee9-affc-18bf19323a65",
   "metadata": {},
   "outputs": [
    {
     "data": {
      "text/html": [
       "<div>\n",
       "<style scoped>\n",
       "    .dataframe tbody tr th:only-of-type {\n",
       "        vertical-align: middle;\n",
       "    }\n",
       "\n",
       "    .dataframe tbody tr th {\n",
       "        vertical-align: top;\n",
       "    }\n",
       "\n",
       "    .dataframe thead th {\n",
       "        text-align: right;\n",
       "    }\n",
       "</style>\n",
       "<table border=\"1\" class=\"dataframe\">\n",
       "  <thead>\n",
       "    <tr style=\"text-align: right;\">\n",
       "      <th></th>\n",
       "      <th>N_BATHROOM</th>\n",
       "      <th>N_BEDROOM</th>\n",
       "      <th>N_ROOM</th>\n",
       "    </tr>\n",
       "    <tr>\n",
       "      <th>AREA</th>\n",
       "      <th></th>\n",
       "      <th></th>\n",
       "      <th></th>\n",
       "    </tr>\n",
       "  </thead>\n",
       "  <tbody>\n",
       "    <tr>\n",
       "      <th>Adyar</th>\n",
       "      <td>1.170543</td>\n",
       "      <td>1.170543</td>\n",
       "      <td>2.895349</td>\n",
       "    </tr>\n",
       "    <tr>\n",
       "      <th>Anna Nagar</th>\n",
       "      <td>1.000541</td>\n",
       "      <td>1.399286</td>\n",
       "      <td>4.398477</td>\n",
       "    </tr>\n",
       "    <tr>\n",
       "      <th>Chrompet</th>\n",
       "      <td>1.000376</td>\n",
       "      <td>1.165100</td>\n",
       "      <td>3.002938</td>\n",
       "    </tr>\n",
       "    <tr>\n",
       "      <th>KK Nagar</th>\n",
       "      <td>1.595787</td>\n",
       "      <td>2.811434</td>\n",
       "      <td>4.811434</td>\n",
       "    </tr>\n",
       "    <tr>\n",
       "      <th>Karapakkam</th>\n",
       "      <td>1.308931</td>\n",
       "      <td>1.308931</td>\n",
       "      <td>2.992679</td>\n",
       "    </tr>\n",
       "    <tr>\n",
       "      <th>T Nagar</th>\n",
       "      <td>1.000000</td>\n",
       "      <td>1.449102</td>\n",
       "      <td>4.449102</td>\n",
       "    </tr>\n",
       "    <tr>\n",
       "      <th>Velachery</th>\n",
       "      <td>1.374108</td>\n",
       "      <td>2.374108</td>\n",
       "      <td>4.374108</td>\n",
       "    </tr>\n",
       "  </tbody>\n",
       "</table>\n",
       "</div>"
      ],
      "text/plain": [
       "            N_BATHROOM  N_BEDROOM    N_ROOM\n",
       "AREA                                       \n",
       "Adyar         1.170543   1.170543  2.895349\n",
       "Anna Nagar    1.000541   1.399286  4.398477\n",
       "Chrompet      1.000376   1.165100  3.002938\n",
       "KK Nagar      1.595787   2.811434  4.811434\n",
       "Karapakkam    1.308931   1.308931  2.992679\n",
       "T Nagar       1.000000   1.449102  4.449102\n",
       "Velachery     1.374108   2.374108  4.374108"
      ]
     },
     "execution_count": 25,
     "metadata": {},
     "output_type": "execute_result"
    }
   ],
   "source": [
    "line"
   ]
  },
  {
   "cell_type": "markdown",
   "id": "dbe7261a-d83c-4d16-a325-7580d242261d",
   "metadata": {},
   "source": [
    "line plots in which area have n number of bed room,bathroom and room"
   ]
  },
  {
   "cell_type": "code",
   "execution_count": 26,
   "id": "22750d6f-6510-4255-bad7-b57bf69845d2",
   "metadata": {},
   "outputs": [
    {
     "data": {
      "text/plain": [
       "[<matplotlib.lines.Line2D at 0x22e6a3f5f90>]"
      ]
     },
     "execution_count": 26,
     "metadata": {},
     "output_type": "execute_result"
    },
    {
     "data": {
      "image/png": "[encoded data removed]",
      "text/plain": [
       "<Figure size 640x480 with 1 Axes>"
      ]
     },
     "metadata": {},
     "output_type": "display_data"
    }
   ],
   "source": [
    "plt.plot(line.index,line.N_BATHROOM.values,color = \"r\",marker = \"*\",label = \"N_BATHROOM\")\n",
    "plt.plot(line.index,line.N_BEDROOM.values,color = \"b\",marker = \">\",label = \"N_BEDROOM\")\n",
    "plt.plot(line.index,line.N_ROOM.values,color = \"y\",marker = \"<\",label = \"N_ROOM\")"
   ]
  },
  {
   "cell_type": "markdown",
   "id": "ba8d81fd-55f5-4f47-87ce-7d9b96c69062",
   "metadata": {},
   "source": [
    "The Scatter plot shows the sqft and total price how distributed and relationship"
   ]
  },
  {
   "cell_type": "code",
   "execution_count": 27,
   "id": "3e968633-b576-4040-af66-bb191f1c1f47",
   "metadata": {},
   "outputs": [
    {
     "data": {
      "image/png": "[encoded data removed]",
      "text/plain": [
       "<Figure size 640x480 with 1 Axes>"
      ]
     },
     "metadata": {},
     "output_type": "display_data"
    }
   ],
   "source": [
    "plt.scatter(df.INT_SQFT,df.TOTAL_PRICE,color='b')\n",
    "plt.show()"
   ]
  },
  {
   "cell_type": "markdown",
   "id": "874bcac7-1199-4e35-babd-1c9978f0a38e",
   "metadata": {},
   "source": [
    "find the unique value of sale condition"
   ]
  },
  {
   "cell_type": "code",
   "execution_count": 28,
   "id": "a0d2093c-c820-4f4c-a978-bfe06a6b951c",
   "metadata": {},
   "outputs": [
    {
     "data": {
      "text/plain": [
       "array(['Ab Normal', 'Family', 'Partial', 'Adj Land', 'Normal Sale'],\n",
       "      dtype=object)"
      ]
     },
     "execution_count": 28,
     "metadata": {},
     "output_type": "execute_result"
    }
   ],
   "source": [
    "df['SALE_COND'].unique()"
   ]
  },
  {
   "cell_type": "markdown",
   "id": "f4d6ba70-0958-4a89-9e3d-8534053154b7",
   "metadata": {},
   "source": [
    "violineplot tells the sale condition and park facility depends on total price "
   ]
  },
  {
   "cell_type": "code",
   "execution_count": 29,
   "id": "ecb29226-6291-417f-84db-bc5ba537c8f4",
   "metadata": {},
   "outputs": [
    {
     "data": {
      "text/plain": [
       "<function matplotlib.pyplot.show(close=None, block=None)>"
      ]
     },
     "execution_count": 29,
     "metadata": {},
     "output_type": "execute_result"
    },
    {
     "data": {
      "image/png": "[encoded data removed]",
      "text/plain": [
       "<Figure size 640x480 with 1 Axes>"
      ]
     },
     "metadata": {},
     "output_type": "display_data"
    }
   ],
   "source": [
    "sns.violinplot(x='SALE_COND', y='TOTAL_PRICE', hue = 'PARK_FACIL',data=df)\n",
    "plt.show"
   ]
  },
  {
   "cell_type": "markdown",
   "id": "cee392a9-b1ec-4d38-ac70-deb4d1f7f901",
   "metadata": {},
   "source": [
    "group by building type and total price mean value"
   ]
  },
  {
   "cell_type": "code",
   "execution_count": 30,
   "id": "aeda7739-ac6e-4ee2-93ae-0333ee386f0f",
   "metadata": {},
   "outputs": [],
   "source": [
    "counts = df.groupby('BUILDTYPE')['TOTAL_PRICE'].mean()"
   ]
  },
  {
   "cell_type": "code",
   "execution_count": 31,
   "id": "adb3abf5-6d98-4af6-8868-a97e3c4ccb0e",
   "metadata": {
    "scrolled": true
   },
   "outputs": [
    {
     "data": {
      "text/plain": [
       "BUILDTYPE\n",
       "Commercial    1.453023e+07\n",
       "House         9.531205e+06\n",
       "Others        1.027346e+07\n",
       "Name: TOTAL_PRICE, dtype: float64"
      ]
     },
     "execution_count": 31,
     "metadata": {},
     "output_type": "execute_result"
    }
   ],
   "source": [
    "counts"
   ]
  },
  {
   "cell_type": "markdown",
   "id": "e19bc3b8-3cce-4390-aabf-f3c3f1c34b16",
   "metadata": {},
   "source": [
    "in this line plot commercial price,house price and other price of property"
   ]
  },
  {
   "cell_type": "code",
   "execution_count": 32,
   "id": "c8d129f5-bdcd-409e-b0a7-59d890e70bd0",
   "metadata": {},
   "outputs": [
    {
     "data": {
      "image/png": "[encoded data removed]",
      "text/plain": [
       "<Figure size 640x480 with 1 Axes>"
      ]
     },
     "metadata": {},
     "output_type": "display_data"
    }
   ],
   "source": [
    "sns.lineplot(counts)\n",
    "plt.show()"
   ]
  },
  {
   "cell_type": "markdown",
   "id": "c9e2af46-59fd-4f4e-a362-077c1fae085f",
   "metadata": {},
   "source": [
    "drop the unwanted column "
   ]
  },
  {
   "cell_type": "code",
   "execution_count": 33,
   "id": "1c89e01c-55f1-47c1-8dd2-04f3cf931bfa",
   "metadata": {},
   "outputs": [],
   "source": [
    "df = df.drop(['PRT_ID','REG_FEE','COMMIS','SALES_PRICE','INF_PRICE','1+0.04','POWER(Z,Y)','SALE_COND','UTILITY_AVAIL','QS_ROOMS','QS_BATHROOM','QS_BEDROOM','QS_OVERALL','DATE_SALE','DATE_BUILD'],axis=1)"
   ]
  },
  {
   "cell_type": "markdown",
   "id": "e78d89da-cdbc-4b84-aa0b-7c46ee570187",
   "metadata": {},
   "source": [
    "df"
   ]
  },
  {
   "cell_type": "markdown",
   "id": "fbcfd387-71a7-4c29-a044-4e5fc6554a6f",
   "metadata": {},
   "source": [
    "we encoding a data to proceed the linear regression model. To use label encoder to change the catagorical data to numerical data. to import the library for label encoder"
   ]
  },
  {
   "cell_type": "code",
   "execution_count": 34,
   "id": "ed99c8f9-1d0c-4150-8614-1f498318aefe",
   "metadata": {},
   "outputs": [],
   "source": [
    "from sklearn.preprocessing import LabelEncoder\n",
    "label_encoder = LabelEncoder()\n",
    "df['PARK_FACIL'] = label_encoder.fit_transform(df['PARK_FACIL'])\n",
    "df['AREA'] = label_encoder.fit_transform(df['AREA'])\n",
    "df['BUILDTYPE'] = label_encoder.fit_transform(df['BUILDTYPE'])\n",
    "df['STREET'] = label_encoder.fit_transform(df['STREET'])\n",
    "df['MZZONE'] = label_encoder.fit_transform(df['MZZONE'])"
   ]
  },
  {
   "cell_type": "markdown",
   "id": "9f6ae0c8-8b24-4010-833e-9371a9c17d06",
   "metadata": {},
   "source": [
    "find the correlation of the dataset"
   ]
  },
  {
   "cell_type": "code",
   "execution_count": 35,
   "id": "1a805a7a-05d7-485f-96a0-06bf8c98d501",
   "metadata": {},
   "outputs": [
    {
     "data": {
      "text/html": [
       "<div>\n",
       "<style scoped>\n",
       "    .dataframe tbody tr th:only-of-type {\n",
       "        vertical-align: middle;\n",
       "    }\n",
       "\n",
       "    .dataframe tbody tr th {\n",
       "        vertical-align: top;\n",
       "    }\n",
       "\n",
       "    .dataframe thead th {\n",
       "        text-align: right;\n",
       "    }\n",
       "</style>\n",
       "<table border=\"1\" class=\"dataframe\">\n",
       "  <thead>\n",
       "    <tr style=\"text-align: right;\">\n",
       "      <th></th>\n",
       "      <th>AREA</th>\n",
       "      <th>INT_SQFT</th>\n",
       "      <th>N_BEDROOM</th>\n",
       "      <th>N_BATHROOM</th>\n",
       "      <th>N_ROOM</th>\n",
       "      <th>PARK_FACIL</th>\n",
       "      <th>BUILDTYPE</th>\n",
       "      <th>STREET</th>\n",
       "      <th>MZZONE</th>\n",
       "      <th>AGE</th>\n",
       "      <th>TOTAL_PRICE</th>\n",
       "    </tr>\n",
       "  </thead>\n",
       "  <tbody>\n",
       "    <tr>\n",
       "      <th>AREA</th>\n",
       "      <td>1.000000</td>\n",
       "      <td>0.351331</td>\n",
       "      <td>0.361744</td>\n",
       "      <td>0.221926</td>\n",
       "      <td>0.279363</td>\n",
       "      <td>0.010383</td>\n",
       "      <td>-0.009517</td>\n",
       "      <td>0.014482</td>\n",
       "      <td>-0.154106</td>\n",
       "      <td>0.181085</td>\n",
       "      <td>-0.011230</td>\n",
       "    </tr>\n",
       "    <tr>\n",
       "      <th>INT_SQFT</th>\n",
       "      <td>0.351331</td>\n",
       "      <td>1.000000</td>\n",
       "      <td>0.786340</td>\n",
       "      <td>0.515261</td>\n",
       "      <td>0.951279</td>\n",
       "      <td>0.004618</td>\n",
       "      <td>-0.006329</td>\n",
       "      <td>0.008341</td>\n",
       "      <td>0.143226</td>\n",
       "      <td>-0.012776</td>\n",
       "      <td>0.620010</td>\n",
       "    </tr>\n",
       "    <tr>\n",
       "      <th>N_BEDROOM</th>\n",
       "      <td>0.361744</td>\n",
       "      <td>0.786340</td>\n",
       "      <td>1.000000</td>\n",
       "      <td>0.755055</td>\n",
       "      <td>0.840280</td>\n",
       "      <td>-0.009470</td>\n",
       "      <td>-0.002262</td>\n",
       "      <td>0.003908</td>\n",
       "      <td>0.050055</td>\n",
       "      <td>-0.045950</td>\n",
       "      <td>0.341310</td>\n",
       "    </tr>\n",
       "    <tr>\n",
       "      <th>N_BATHROOM</th>\n",
       "      <td>0.221926</td>\n",
       "      <td>0.515261</td>\n",
       "      <td>0.755055</td>\n",
       "      <td>1.000000</td>\n",
       "      <td>0.568564</td>\n",
       "      <td>-0.013965</td>\n",
       "      <td>-0.003149</td>\n",
       "      <td>-0.009373</td>\n",
       "      <td>-0.046855</td>\n",
       "      <td>-0.020121</td>\n",
       "      <td>0.118558</td>\n",
       "    </tr>\n",
       "    <tr>\n",
       "      <th>N_ROOM</th>\n",
       "      <td>0.279363</td>\n",
       "      <td>0.951279</td>\n",
       "      <td>0.840280</td>\n",
       "      <td>0.568564</td>\n",
       "      <td>1.000000</td>\n",
       "      <td>-0.000934</td>\n",
       "      <td>-0.007127</td>\n",
       "      <td>0.000194</td>\n",
       "      <td>0.163697</td>\n",
       "      <td>-0.033448</td>\n",
       "      <td>0.609345</td>\n",
       "    </tr>\n",
       "    <tr>\n",
       "      <th>PARK_FACIL</th>\n",
       "      <td>0.010383</td>\n",
       "      <td>0.004618</td>\n",
       "      <td>-0.009470</td>\n",
       "      <td>-0.013965</td>\n",
       "      <td>-0.000934</td>\n",
       "      <td>1.000000</td>\n",
       "      <td>-0.006436</td>\n",
       "      <td>0.007567</td>\n",
       "      <td>-0.007192</td>\n",
       "      <td>-0.009062</td>\n",
       "      <td>0.146908</td>\n",
       "    </tr>\n",
       "    <tr>\n",
       "      <th>BUILDTYPE</th>\n",
       "      <td>-0.009517</td>\n",
       "      <td>-0.006329</td>\n",
       "      <td>-0.002262</td>\n",
       "      <td>-0.003149</td>\n",
       "      <td>-0.007127</td>\n",
       "      <td>-0.006436</td>\n",
       "      <td>1.000000</td>\n",
       "      <td>-0.010680</td>\n",
       "      <td>-0.016594</td>\n",
       "      <td>0.003686</td>\n",
       "      <td>-0.436774</td>\n",
       "    </tr>\n",
       "    <tr>\n",
       "      <th>STREET</th>\n",
       "      <td>0.014482</td>\n",
       "      <td>0.008341</td>\n",
       "      <td>0.003908</td>\n",
       "      <td>-0.009373</td>\n",
       "      <td>0.000194</td>\n",
       "      <td>0.007567</td>\n",
       "      <td>-0.010680</td>\n",
       "      <td>1.000000</td>\n",
       "      <td>-0.002052</td>\n",
       "      <td>0.004294</td>\n",
       "      <td>-0.042342</td>\n",
       "    </tr>\n",
       "    <tr>\n",
       "      <th>MZZONE</th>\n",
       "      <td>-0.154106</td>\n",
       "      <td>0.143226</td>\n",
       "      <td>0.050055</td>\n",
       "      <td>-0.046855</td>\n",
       "      <td>0.163697</td>\n",
       "      <td>-0.007192</td>\n",
       "      <td>-0.016594</td>\n",
       "      <td>-0.002052</td>\n",
       "      <td>1.000000</td>\n",
       "      <td>-0.110962</td>\n",
       "      <td>0.425545</td>\n",
       "    </tr>\n",
       "    <tr>\n",
       "      <th>AGE</th>\n",
       "      <td>0.181085</td>\n",
       "      <td>-0.012776</td>\n",
       "      <td>-0.045950</td>\n",
       "      <td>-0.020121</td>\n",
       "      <td>-0.033448</td>\n",
       "      <td>-0.009062</td>\n",
       "      <td>0.003686</td>\n",
       "      <td>0.004294</td>\n",
       "      <td>-0.110962</td>\n",
       "      <td>1.000000</td>\n",
       "      <td>-0.119734</td>\n",
       "    </tr>\n",
       "    <tr>\n",
       "      <th>TOTAL_PRICE</th>\n",
       "      <td>-0.011230</td>\n",
       "      <td>0.620010</td>\n",
       "      <td>0.341310</td>\n",
       "      <td>0.118558</td>\n",
       "      <td>0.609345</td>\n",
       "      <td>0.146908</td>\n",
       "      <td>-0.436774</td>\n",
       "      <td>-0.042342</td>\n",
       "      <td>0.425545</td>\n",
       "      <td>-0.119734</td>\n",
       "      <td>1.000000</td>\n",
       "    </tr>\n",
       "  </tbody>\n",
       "</table>\n",
       "</div>"
      ],
      "text/plain": [
       "                 AREA  INT_SQFT  N_BEDROOM  N_BATHROOM    N_ROOM  PARK_FACIL  \\\n",
       "AREA         1.000000  0.351331   0.361744    0.221926  0.279363    0.010383   \n",
       "INT_SQFT     0.351331  1.000000   0.786340    0.515261  0.951279    0.004618   \n",
       "N_BEDROOM    0.361744  0.786340   1.000000    0.755055  0.840280   -0.009470   \n",
       "N_BATHROOM   0.221926  0.515261   0.755055    1.000000  0.568564   -0.013965   \n",
       "N_ROOM       0.279363  0.951279   0.840280    0.568564  1.000000   -0.000934   \n",
       "PARK_FACIL   0.010383  0.004618  -0.009470   -0.013965 -0.000934    1.000000   \n",
       "BUILDTYPE   -0.009517 -0.006329  -0.002262   -0.003149 -0.007127   -0.006436   \n",
       "STREET       0.014482  0.008341   0.003908   -0.009373  0.000194    0.007567   \n",
       "MZZONE      -0.154106  0.143226   0.050055   -0.046855  0.163697   -0.007192   \n",
       "AGE          0.181085 -0.012776  -0.045950   -0.020121 -0.033448   -0.009062   \n",
       "TOTAL_PRICE -0.011230  0.620010   0.341310    0.118558  0.609345    0.146908   \n",
       "\n",
       "             BUILDTYPE    STREET    MZZONE       AGE  TOTAL_PRICE  \n",
       "AREA         -0.009517  0.014482 -0.154106  0.181085    -0.011230  \n",
       "INT_SQFT     -0.006329  0.008341  0.143226 -0.012776     0.620010  \n",
       "N_BEDROOM    -0.002262  0.003908  0.050055 -0.045950     0.341310  \n",
       "N_BATHROOM   -0.003149 -0.009373 -0.046855 -0.020121     0.118558  \n",
       "N_ROOM       -0.007127  0.000194  0.163697 -0.033448     0.609345  \n",
       "PARK_FACIL   -0.006436  0.007567 -0.007192 -0.009062     0.146908  \n",
       "BUILDTYPE     1.000000 -0.010680 -0.016594  0.003686    -0.436774  \n",
       "STREET       -0.010680  1.000000 -0.002052  0.004294    -0.042342  \n",
       "MZZONE       -0.016594 -0.002052  1.000000 -0.110962     0.425545  \n",
       "AGE           0.003686  0.004294 -0.110962  1.000000    -0.119734  \n",
       "TOTAL_PRICE  -0.436774 -0.042342  0.425545 -0.119734     1.000000  "
      ]
     },
     "execution_count": 35,
     "metadata": {},
     "output_type": "execute_result"
    }
   ],
   "source": [
    "df.corr()"
   ]
  },
  {
   "cell_type": "markdown",
   "id": "67f1a732-5227-4026-9039-79cf866e53d4",
   "metadata": {},
   "source": [
    "In heat map show the correlation visualization of the dataset"
   ]
  },
  {
   "cell_type": "code",
   "execution_count": 36,
   "id": "f2655a47-c525-4448-a4ce-ef2e1f173488",
   "metadata": {},
   "outputs": [
    {
     "data": {
      "image/png": "[encoded data removed]",
      "text/plain": [
       "<Figure size 1000x600 with 2 Axes>"
      ]
     },
     "metadata": {},
     "output_type": "display_data"
    }
   ],
   "source": [
    "plt.figure(figsize=(10,6))\n",
    "sns.heatmap(df.corr(),annot = True,cbar = True,vmin = -1,vmax =1,cmap='pink')\n",
    "plt.show()"
   ]
  },
  {
   "cell_type": "markdown",
   "id": "7678edbe-791e-4fee-b8f4-33427311b4d0",
   "metadata": {},
   "source": [
    "To change necessary column value to standard scaler. To proceed linear regression use the library for Standardscaler"
   ]
  },
  {
   "cell_type": "code",
   "execution_count": 37,
   "id": "0bc4b1f3-628e-4ce6-a637-52d693cbd7ec",
   "metadata": {},
   "outputs": [],
   "source": [
    "from sklearn.preprocessing import StandardScaler"
   ]
  },
  {
   "cell_type": "code",
   "execution_count": 38,
   "id": "b424e74d-b95c-498e-8265-36725d6d5651",
   "metadata": {},
   "outputs": [],
   "source": [
    "int_sqft_scaler = StandardScaler()\n",
    "total_scaler =StandardScaler()"
   ]
  },
  {
   "cell_type": "markdown",
   "id": "d82db73f-ce2d-4608-9148-b8b19db29038",
   "metadata": {},
   "source": [
    "to transform the standardscaler value to charges to use fit_transform"
   ]
  },
  {
   "cell_type": "code",
   "execution_count": 39,
   "id": "71a1f156-fb70-43d3-808a-812be68025ea",
   "metadata": {},
   "outputs": [],
   "source": [
    "df.INT_SQFT = int_sqft_scaler.fit_transform(df[[\"INT_SQFT\"]])\n",
    "df.TOTAL_PRICE = total_scaler.fit_transform(df[['TOTAL_PRICE']])"
   ]
  },
  {
   "cell_type": "markdown",
   "id": "33118013-348d-4bb0-9198-a2b00f2aae61",
   "metadata": {},
   "source": [
    "To assign the value x and drop the total price column"
   ]
  },
  {
   "cell_type": "code",
   "execution_count": 40,
   "id": "0d266bcb-3266-46f3-95c1-67fcbefc0d01",
   "metadata": {},
   "outputs": [
    {
     "data": {
      "text/html": [
       "<div>\n",
       "<style scoped>\n",
       "    .dataframe tbody tr th:only-of-type {\n",
       "        vertical-align: middle;\n",
       "    }\n",
       "\n",
       "    .dataframe tbody tr th {\n",
       "        vertical-align: top;\n",
       "    }\n",
       "\n",
       "    .dataframe thead th {\n",
       "        text-align: right;\n",
       "    }\n",
       "</style>\n",
       "<table border=\"1\" class=\"dataframe\">\n",
       "  <thead>\n",
       "    <tr style=\"text-align: right;\">\n",
       "      <th></th>\n",
       "      <th>AREA</th>\n",
       "      <th>INT_SQFT</th>\n",
       "      <th>N_BEDROOM</th>\n",
       "      <th>N_BATHROOM</th>\n",
       "      <th>N_ROOM</th>\n",
       "      <th>PARK_FACIL</th>\n",
       "      <th>BUILDTYPE</th>\n",
       "      <th>STREET</th>\n",
       "      <th>MZZONE</th>\n",
       "      <th>AGE</th>\n",
       "    </tr>\n",
       "  </thead>\n",
       "  <tbody>\n",
       "    <tr>\n",
       "      <th>0</th>\n",
       "      <td>1</td>\n",
       "      <td>1.320409</td>\n",
       "      <td>2.0</td>\n",
       "      <td>1.0</td>\n",
       "      <td>5</td>\n",
       "      <td>0</td>\n",
       "      <td>0</td>\n",
       "      <td>0</td>\n",
       "      <td>3</td>\n",
       "      <td>4015</td>\n",
       "    </tr>\n",
       "    <tr>\n",
       "      <th>1</th>\n",
       "      <td>6</td>\n",
       "      <td>1.033994</td>\n",
       "      <td>3.0</td>\n",
       "      <td>2.0</td>\n",
       "      <td>5</td>\n",
       "      <td>0</td>\n",
       "      <td>2</td>\n",
       "      <td>2</td>\n",
       "      <td>2</td>\n",
       "      <td>8030</td>\n",
       "    </tr>\n",
       "    <tr>\n",
       "      <th>2</th>\n",
       "      <td>2</td>\n",
       "      <td>-0.354352</td>\n",
       "      <td>2.0</td>\n",
       "      <td>1.0</td>\n",
       "      <td>4</td>\n",
       "      <td>0</td>\n",
       "      <td>0</td>\n",
       "      <td>1</td>\n",
       "      <td>3</td>\n",
       "      <td>1825</td>\n",
       "    </tr>\n",
       "    <tr>\n",
       "      <th>3</th>\n",
       "      <td>2</td>\n",
       "      <td>-0.470230</td>\n",
       "      <td>1.0</td>\n",
       "      <td>1.0</td>\n",
       "      <td>3</td>\n",
       "      <td>0</td>\n",
       "      <td>2</td>\n",
       "      <td>1</td>\n",
       "      <td>4</td>\n",
       "      <td>10220</td>\n",
       "    </tr>\n",
       "    <tr>\n",
       "      <th>4</th>\n",
       "      <td>6</td>\n",
       "      <td>1.016503</td>\n",
       "      <td>3.0</td>\n",
       "      <td>2.0</td>\n",
       "      <td>5</td>\n",
       "      <td>0</td>\n",
       "      <td>0</td>\n",
       "      <td>0</td>\n",
       "      <td>5</td>\n",
       "      <td>3650</td>\n",
       "    </tr>\n",
       "    <tr>\n",
       "      <th>...</th>\n",
       "      <td>...</td>\n",
       "      <td>...</td>\n",
       "      <td>...</td>\n",
       "      <td>...</td>\n",
       "      <td>...</td>\n",
       "      <td>...</td>\n",
       "      <td>...</td>\n",
       "      <td>...</td>\n",
       "      <td>...</td>\n",
       "      <td>...</td>\n",
       "    </tr>\n",
       "    <tr>\n",
       "      <th>7104</th>\n",
       "      <td>5</td>\n",
       "      <td>0.767257</td>\n",
       "      <td>1.0</td>\n",
       "      <td>1.0</td>\n",
       "      <td>4</td>\n",
       "      <td>1</td>\n",
       "      <td>0</td>\n",
       "      <td>1</td>\n",
       "      <td>4</td>\n",
       "      <td>9125</td>\n",
       "    </tr>\n",
       "    <tr>\n",
       "      <th>7105</th>\n",
       "      <td>4</td>\n",
       "      <td>-1.565602</td>\n",
       "      <td>1.0</td>\n",
       "      <td>1.0</td>\n",
       "      <td>2</td>\n",
       "      <td>1</td>\n",
       "      <td>2</td>\n",
       "      <td>0</td>\n",
       "      <td>2</td>\n",
       "      <td>13140</td>\n",
       "    </tr>\n",
       "    <tr>\n",
       "      <th>7106</th>\n",
       "      <td>6</td>\n",
       "      <td>1.125822</td>\n",
       "      <td>3.0</td>\n",
       "      <td>2.0</td>\n",
       "      <td>5</td>\n",
       "      <td>1</td>\n",
       "      <td>2</td>\n",
       "      <td>1</td>\n",
       "      <td>3</td>\n",
       "      <td>3285</td>\n",
       "    </tr>\n",
       "    <tr>\n",
       "      <th>7107</th>\n",
       "      <td>4</td>\n",
       "      <td>-1.301051</td>\n",
       "      <td>1.0</td>\n",
       "      <td>1.0</td>\n",
       "      <td>2</td>\n",
       "      <td>1</td>\n",
       "      <td>0</td>\n",
       "      <td>2</td>\n",
       "      <td>4</td>\n",
       "      <td>11680</td>\n",
       "    </tr>\n",
       "    <tr>\n",
       "      <th>7108</th>\n",
       "      <td>6</td>\n",
       "      <td>1.123636</td>\n",
       "      <td>3.0</td>\n",
       "      <td>2.0</td>\n",
       "      <td>5</td>\n",
       "      <td>1</td>\n",
       "      <td>2</td>\n",
       "      <td>2</td>\n",
       "      <td>2</td>\n",
       "      <td>16060</td>\n",
       "    </tr>\n",
       "  </tbody>\n",
       "</table>\n",
       "<p>7109 rows × 10 columns</p>\n",
       "</div>"
      ],
      "text/plain": [
       "      AREA  INT_SQFT  N_BEDROOM  N_BATHROOM  N_ROOM  PARK_FACIL  BUILDTYPE  \\\n",
       "0        1  1.320409        2.0         1.0       5           0          0   \n",
       "1        6  1.033994        3.0         2.0       5           0          2   \n",
       "2        2 -0.354352        2.0         1.0       4           0          0   \n",
       "3        2 -0.470230        1.0         1.0       3           0          2   \n",
       "4        6  1.016503        3.0         2.0       5           0          0   \n",
       "...    ...       ...        ...         ...     ...         ...        ...   \n",
       "7104     5  0.767257        1.0         1.0       4           1          0   \n",
       "7105     4 -1.565602        1.0         1.0       2           1          2   \n",
       "7106     6  1.125822        3.0         2.0       5           1          2   \n",
       "7107     4 -1.301051        1.0         1.0       2           1          0   \n",
       "7108     6  1.123636        3.0         2.0       5           1          2   \n",
       "\n",
       "      STREET  MZZONE    AGE  \n",
       "0          0       3   4015  \n",
       "1          2       2   8030  \n",
       "2          1       3   1825  \n",
       "3          1       4  10220  \n",
       "4          0       5   3650  \n",
       "...      ...     ...    ...  \n",
       "7104       1       4   9125  \n",
       "7105       0       2  13140  \n",
       "7106       1       3   3285  \n",
       "7107       2       4  11680  \n",
       "7108       2       2  16060  \n",
       "\n",
       "[7109 rows x 10 columns]"
      ]
     },
     "execution_count": 40,
     "metadata": {},
     "output_type": "execute_result"
    }
   ],
   "source": [
    "x=df.drop(['TOTAL_PRICE'],axis=1)\n",
    "x"
   ]
  },
  {
   "cell_type": "markdown",
   "id": "7457d417-b485-42ce-be23-4752ab3687c0",
   "metadata": {},
   "source": [
    "sign a target value to y"
   ]
  },
  {
   "cell_type": "code",
   "execution_count": 41,
   "id": "3766559c-8900-4434-a73c-80c431db7366",
   "metadata": {},
   "outputs": [
    {
     "data": {
      "text/html": [
       "<div>\n",
       "<style scoped>\n",
       "    .dataframe tbody tr th:only-of-type {\n",
       "        vertical-align: middle;\n",
       "    }\n",
       "\n",
       "    .dataframe tbody tr th {\n",
       "        vertical-align: top;\n",
       "    }\n",
       "\n",
       "    .dataframe thead th {\n",
       "        text-align: right;\n",
       "    }\n",
       "</style>\n",
       "<table border=\"1\" class=\"dataframe\">\n",
       "  <thead>\n",
       "    <tr style=\"text-align: right;\">\n",
       "      <th></th>\n",
       "      <th>TOTAL_PRICE</th>\n",
       "    </tr>\n",
       "  </thead>\n",
       "  <tbody>\n",
       "    <tr>\n",
       "      <th>0</th>\n",
       "      <td>2.882132</td>\n",
       "    </tr>\n",
       "    <tr>\n",
       "      <th>1</th>\n",
       "      <td>-0.342030</td>\n",
       "    </tr>\n",
       "    <tr>\n",
       "      <th>2</th>\n",
       "      <td>0.402882</td>\n",
       "    </tr>\n",
       "    <tr>\n",
       "      <th>3</th>\n",
       "      <td>-0.665949</td>\n",
       "    </tr>\n",
       "    <tr>\n",
       "      <th>4</th>\n",
       "      <td>1.578686</td>\n",
       "    </tr>\n",
       "    <tr>\n",
       "      <th>...</th>\n",
       "      <td>...</td>\n",
       "    </tr>\n",
       "    <tr>\n",
       "      <th>7104</th>\n",
       "      <td>2.307622</td>\n",
       "    </tr>\n",
       "    <tr>\n",
       "      <th>7105</th>\n",
       "      <td>-1.230327</td>\n",
       "    </tr>\n",
       "    <tr>\n",
       "      <th>7106</th>\n",
       "      <td>-0.010807</td>\n",
       "    </tr>\n",
       "    <tr>\n",
       "      <th>7107</th>\n",
       "      <td>-0.598631</td>\n",
       "    </tr>\n",
       "    <tr>\n",
       "      <th>7108</th>\n",
       "      <td>-0.255378</td>\n",
       "    </tr>\n",
       "  </tbody>\n",
       "</table>\n",
       "<p>7109 rows × 1 columns</p>\n",
       "</div>"
      ],
      "text/plain": [
       "      TOTAL_PRICE\n",
       "0        2.882132\n",
       "1       -0.342030\n",
       "2        0.402882\n",
       "3       -0.665949\n",
       "4        1.578686\n",
       "...           ...\n",
       "7104     2.307622\n",
       "7105    -1.230327\n",
       "7106    -0.010807\n",
       "7107    -0.598631\n",
       "7108    -0.255378\n",
       "\n",
       "[7109 rows x 1 columns]"
      ]
     },
     "execution_count": 41,
     "metadata": {},
     "output_type": "execute_result"
    }
   ],
   "source": [
    "y= df[['TOTAL_PRICE']]\n",
    "y"
   ]
  },
  {
   "cell_type": "markdown",
   "id": "0aee3330-162b-4be1-a08b-3eba4c6f8efa",
   "metadata": {},
   "source": [
    "split x and y value for train and test to use library train_test_split"
   ]
  },
  {
   "cell_type": "code",
   "execution_count": 42,
   "id": "91af977d-4352-4513-823b-eff023a69c6b",
   "metadata": {},
   "outputs": [],
   "source": [
    "from sklearn.model_selection import train_test_split\n",
    "x_train,x_test,y_train,y_test = train_test_split(x,y,test_size = 0.25,random_state = 50)"
   ]
  },
  {
   "cell_type": "markdown",
   "id": "e61f9269-c4f5-4bcc-aa30-6ffbf4bfb99f",
   "metadata": {},
   "source": [
    "To check the shape of x_train,x_test,y_train and y_test"
   ]
  },
  {
   "cell_type": "code",
   "execution_count": 43,
   "id": "20a97ebe-ec60-4070-a95e-e8dc38afe980",
   "metadata": {},
   "outputs": [
    {
     "data": {
      "text/plain": [
       "((5331, 10), (1778, 10), (5331, 1), (1778, 1))"
      ]
     },
     "execution_count": 43,
     "metadata": {},
     "output_type": "execute_result"
    }
   ],
   "source": [
    "x_train.shape,x_test.shape,y_train.shape,y_test.shape"
   ]
  },
  {
   "cell_type": "markdown",
   "id": "4cebce63-25f8-4326-941c-7835c55b7092",
   "metadata": {},
   "source": [
    "To implement the Linear regression model using library"
   ]
  },
  {
   "cell_type": "code",
   "execution_count": 44,
   "id": "fe9687fd-df12-487f-96c4-0fe3b5a433b0",
   "metadata": {},
   "outputs": [],
   "source": [
    "from sklearn.linear_model import LinearRegression"
   ]
  },
  {
   "cell_type": "code",
   "execution_count": 45,
   "id": "657fd8b1-b2cf-4016-9d4f-b45408b63477",
   "metadata": {},
   "outputs": [],
   "source": [
    "model_lr = LinearRegression()"
   ]
  },
  {
   "cell_type": "raw",
   "id": "babd967e-1aff-4183-bc0d-f86af4fd834a",
   "metadata": {},
   "source": [
    "To train linear regression model"
   ]
  },
  {
   "cell_type": "code",
   "execution_count": 46,
   "id": "73bb2e7e-6279-4d79-9aab-d59c652c45d4",
   "metadata": {},
   "outputs": [
    {
     "data": {
      "text/html": [
       "<style>#sk-container-id-1 {\n",
       "  /* Definition of color scheme common for light and dark mode */\n",
       "  --sklearn-color-text: black;\n",
       "  --sklearn-color-line: gray;\n",
       "  /* Definition of color scheme for unfitted estimators */\n",
       "  --sklearn-color-unfitted-level-0: #fff5e6;\n",
       "  --sklearn-color-unfitted-level-1: #f6e4d2;\n",
       "  --sklearn-color-unfitted-level-2: #ffe0b3;\n",
       "  --sklearn-color-unfitted-level-3: chocolate;\n",
       "  /* Definition of color scheme for fitted estimators */\n",
       "  --sklearn-color-fitted-level-0: #f0f8ff;\n",
       "  --sklearn-color-fitted-level-1: #d4ebff;\n",
       "  --sklearn-color-fitted-level-2: #b3dbfd;\n",
       "  --sklearn-color-fitted-level-3: cornflowerblue;\n",
       "\n",
       "  /* Specific color for light theme */\n",
       "  --sklearn-color-text-on-default-background: var(--sg-text-color, var(--theme-code-foreground, var(--jp-content-font-color1, black)));\n",
       "  --sklearn-color-background: var(--sg-background-color, var(--theme-background, var(--jp-layout-color0, white)));\n",
       "  --sklearn-color-border-box: var(--sg-text-color, var(--theme-code-foreground, var(--jp-content-font-color1, black)));\n",
       "  --sklearn-color-icon: #696969;\n",
       "\n",
       "  @media (prefers-color-scheme: dark) {\n",
       "    /* Redefinition of color scheme for dark theme */\n",
       "    --sklearn-color-text-on-default-background: var(--sg-text-color, var(--theme-code-foreground, var(--jp-content-font-color1, white)));\n",
       "    --sklearn-color-background: var(--sg-background-color, var(--theme-background, var(--jp-layout-color0, #111)));\n",
       "    --sklearn-color-border-box: var(--sg-text-color, var(--theme-code-foreground, var(--jp-content-font-color1, white)));\n",
       "    --sklearn-color-icon: #878787;\n",
       "  }\n",
       "}\n",
       "\n",
       "#sk-container-id-1 {\n",
       "  color: var(--sklearn-color-text);\n",
       "}\n",
       "\n",
       "#sk-container-id-1 pre {\n",
       "  padding: 0;\n",
       "}\n",
       "\n",
       "#sk-container-id-1 input.sk-hidden--visually {\n",
       "  border: 0;\n",
       "  clip: rect(1px 1px 1px 1px);\n",
       "  clip: rect(1px, 1px, 1px, 1px);\n",
       "  height: 1px;\n",
       "  margin: -1px;\n",
       "  overflow: hidden;\n",
       "  padding: 0;\n",
       "  position: absolute;\n",
       "  width: 1px;\n",
       "}\n",
       "\n",
       "#sk-container-id-1 div.sk-dashed-wrapped {\n",
       "  border: 1px dashed var(--sklearn-color-line);\n",
       "  margin: 0 0.4em 0.5em 0.4em;\n",
       "  box-sizing: border-box;\n",
       "  padding-bottom: 0.4em;\n",
       "  background-color: var(--sklearn-color-background);\n",
       "}\n",
       "\n",
       "#sk-container-id-1 div.sk-container {\n",
       "  /* jupyter's `normalize.less` sets `[hidden] { display: none; }`\n",
       "     but bootstrap.min.css set `[hidden] { display: none !important; }`\n",
       "     so we also need the `!important` here to be able to override the\n",
       "     default hidden behavior on the sphinx rendered scikit-learn.org.\n",
       "     See: https://github.com/scikit-learn/scikit-learn/issues/21755 */\n",
       "  display: inline-block !important;\n",
       "  position: relative;\n",
       "}\n",
       "\n",
       "#sk-container-id-1 div.sk-text-repr-fallback {\n",
       "  display: none;\n",
       "}\n",
       "\n",
       "div.sk-parallel-item,\n",
       "div.sk-serial,\n",
       "div.sk-item {\n",
       "  /* draw centered vertical line to link estimators */\n",
       "  background-image: linear-gradient(var(--sklearn-color-text-on-default-background), var(--sklearn-color-text-on-default-background));\n",
       "  background-size: 2px 100%;\n",
       "  background-repeat: no-repeat;\n",
       "  background-position: center center;\n",
       "}\n",
       "\n",
       "/* Parallel-specific style estimator block */\n",
       "\n",
       "#sk-container-id-1 div.sk-parallel-item::after {\n",
       "  content: \"\";\n",
       "  width: 100%;\n",
       "  border-bottom: 2px solid var(--sklearn-color-text-on-default-background);\n",
       "  flex-grow: 1;\n",
       "}\n",
       "\n",
       "#sk-container-id-1 div.sk-parallel {\n",
       "  display: flex;\n",
       "  align-items: stretch;\n",
       "  justify-content: center;\n",
       "  background-color: var(--sklearn-color-background);\n",
       "  position: relative;\n",
       "}\n",
       "\n",
       "#sk-container-id-1 div.sk-parallel-item {\n",
       "  display: flex;\n",
       "  flex-direction: column;\n",
       "}\n",
       "\n",
       "#sk-container-id-1 div.sk-parallel-item:first-child::after {\n",
       "  align-self: flex-end;\n",
       "  width: 50%;\n",
       "}\n",
       "\n",
       "#sk-container-id-1 div.sk-parallel-item:last-child::after {\n",
       "  align-self: flex-start;\n",
       "  width: 50%;\n",
       "}\n",
       "\n",
       "#sk-container-id-1 div.sk-parallel-item:only-child::after {\n",
       "  width: 0;\n",
       "}\n",
       "\n",
       "/* Serial-specific style estimator block */\n",
       "\n",
       "#sk-container-id-1 div.sk-serial {\n",
       "  display: flex;\n",
       "  flex-direction: column;\n",
       "  align-items: center;\n",
       "  background-color: var(--sklearn-color-background);\n",
       "  padding-right: 1em;\n",
       "  padding-left: 1em;\n",
       "}\n",
       "\n",
       "\n",
       "/* Toggleable style: style used for estimator/Pipeline/ColumnTransformer box that is\n",
       "clickable and can be expanded/collapsed.\n",
       "- Pipeline and ColumnTransformer use this feature and define the default style\n",
       "- Estimators will overwrite some part of the style using the `sk-estimator` class\n",
       "*/\n",
       "\n",
       "/* Pipeline and ColumnTransformer style (default) */\n",
       "\n",
       "#sk-container-id-1 div.sk-toggleable {\n",
       "  /* Default theme specific background. It is overwritten whether we have a\n",
       "  specific estimator or a Pipeline/ColumnTransformer */\n",
       "  background-color: var(--sklearn-color-background);\n",
       "}\n",
       "\n",
       "/* Toggleable label */\n",
       "#sk-container-id-1 label.sk-toggleable__label {\n",
       "  cursor: pointer;\n",
       "  display: block;\n",
       "  width: 100%;\n",
       "  margin-bottom: 0;\n",
       "  padding: 0.5em;\n",
       "  box-sizing: border-box;\n",
       "  text-align: center;\n",
       "}\n",
       "\n",
       "#sk-container-id-1 label.sk-toggleable__label-arrow:before {\n",
       "  /* Arrow on the left of the label */\n",
       "  content: \"▸\";\n",
       "  float: left;\n",
       "  margin-right: 0.25em;\n",
       "  color: var(--sklearn-color-icon);\n",
       "}\n",
       "\n",
       "#sk-container-id-1 label.sk-toggleable__label-arrow:hover:before {\n",
       "  color: var(--sklearn-color-text);\n",
       "}\n",
       "\n",
       "/* Toggleable content - dropdown */\n",
       "\n",
       "#sk-container-id-1 div.sk-toggleable__content {\n",
       "  max-height: 0;\n",
       "  max-width: 0;\n",
       "  overflow: hidden;\n",
       "  text-align: left;\n",
       "  /* unfitted */\n",
       "  background-color: var(--sklearn-color-unfitted-level-0);\n",
       "}\n",
       "\n",
       "#sk-container-id-1 div.sk-toggleable__content.fitted {\n",
       "  /* fitted */\n",
       "  background-color: var(--sklearn-color-fitted-level-0);\n",
       "}\n",
       "\n",
       "#sk-container-id-1 div.sk-toggleable__content pre {\n",
       "  margin: 0.2em;\n",
       "  border-radius: 0.25em;\n",
       "  color: var(--sklearn-color-text);\n",
       "  /* unfitted */\n",
       "  background-color: var(--sklearn-color-unfitted-level-0);\n",
       "}\n",
       "\n",
       "#sk-container-id-1 div.sk-toggleable__content.fitted pre {\n",
       "  /* unfitted */\n",
       "  background-color: var(--sklearn-color-fitted-level-0);\n",
       "}\n",
       "\n",
       "#sk-container-id-1 input.sk-toggleable__control:checked~div.sk-toggleable__content {\n",
       "  /* Expand drop-down */\n",
       "  max-height: 200px;\n",
       "  max-width: 100%;\n",
       "  overflow: auto;\n",
       "}\n",
       "\n",
       "#sk-container-id-1 input.sk-toggleable__control:checked~label.sk-toggleable__label-arrow:before {\n",
       "  content: \"▾\";\n",
       "}\n",
       "\n",
       "/* Pipeline/ColumnTransformer-specific style */\n",
       "\n",
       "#sk-container-id-1 div.sk-label input.sk-toggleable__control:checked~label.sk-toggleable__label {\n",
       "  color: var(--sklearn-color-text);\n",
       "  background-color: var(--sklearn-color-unfitted-level-2);\n",
       "}\n",
       "\n",
       "#sk-container-id-1 div.sk-label.fitted input.sk-toggleable__control:checked~label.sk-toggleable__label {\n",
       "  background-color: var(--sklearn-color-fitted-level-2);\n",
       "}\n",
       "\n",
       "/* Estimator-specific style */\n",
       "\n",
       "/* Colorize estimator box */\n",
       "#sk-container-id-1 div.sk-estimator input.sk-toggleable__control:checked~label.sk-toggleable__label {\n",
       "  /* unfitted */\n",
       "  background-color: var(--sklearn-color-unfitted-level-2);\n",
       "}\n",
       "\n",
       "#sk-container-id-1 div.sk-estimator.fitted input.sk-toggleable__control:checked~label.sk-toggleable__label {\n",
       "  /* fitted */\n",
       "  background-color: var(--sklearn-color-fitted-level-2);\n",
       "}\n",
       "\n",
       "#sk-container-id-1 div.sk-label label.sk-toggleable__label,\n",
       "#sk-container-id-1 div.sk-label label {\n",
       "  /* The background is the default theme color */\n",
       "  color: var(--sklearn-color-text-on-default-background);\n",
       "}\n",
       "\n",
       "/* On hover, darken the color of the background */\n",
       "#sk-container-id-1 div.sk-label:hover label.sk-toggleable__label {\n",
       "  color: var(--sklearn-color-text);\n",
       "  background-color: var(--sklearn-color-unfitted-level-2);\n",
       "}\n",
       "\n",
       "/* Label box, darken color on hover, fitted */\n",
       "#sk-container-id-1 div.sk-label.fitted:hover label.sk-toggleable__label.fitted {\n",
       "  color: var(--sklearn-color-text);\n",
       "  background-color: var(--sklearn-color-fitted-level-2);\n",
       "}\n",
       "\n",
       "/* Estimator label */\n",
       "\n",
       "#sk-container-id-1 div.sk-label label {\n",
       "  font-family: monospace;\n",
       "  font-weight: bold;\n",
       "  display: inline-block;\n",
       "  line-height: 1.2em;\n",
       "}\n",
       "\n",
       "#sk-container-id-1 div.sk-label-container {\n",
       "  text-align: center;\n",
       "}\n",
       "\n",
       "/* Estimator-specific */\n",
       "#sk-container-id-1 div.sk-estimator {\n",
       "  font-family: monospace;\n",
       "  border: 1px dotted var(--sklearn-color-border-box);\n",
       "  border-radius: 0.25em;\n",
       "  box-sizing: border-box;\n",
       "  margin-bottom: 0.5em;\n",
       "  /* unfitted */\n",
       "  background-color: var(--sklearn-color-unfitted-level-0);\n",
       "}\n",
       "\n",
       "#sk-container-id-1 div.sk-estimator.fitted {\n",
       "  /* fitted */\n",
       "  background-color: var(--sklearn-color-fitted-level-0);\n",
       "}\n",
       "\n",
       "/* on hover */\n",
       "#sk-container-id-1 div.sk-estimator:hover {\n",
       "  /* unfitted */\n",
       "  background-color: var(--sklearn-color-unfitted-level-2);\n",
       "}\n",
       "\n",
       "#sk-container-id-1 div.sk-estimator.fitted:hover {\n",
       "  /* fitted */\n",
       "  background-color: var(--sklearn-color-fitted-level-2);\n",
       "}\n",
       "\n",
       "/* Specification for estimator info (e.g. \"i\" and \"?\") */\n",
       "\n",
       "/* Common style for \"i\" and \"?\" */\n",
       "\n",
       ".sk-estimator-doc-link,\n",
       "a:link.sk-estimator-doc-link,\n",
       "a:visited.sk-estimator-doc-link {\n",
       "  float: right;\n",
       "  font-size: smaller;\n",
       "  line-height: 1em;\n",
       "  font-family: monospace;\n",
       "  background-color: var(--sklearn-color-background);\n",
       "  border-radius: 1em;\n",
       "  height: 1em;\n",
       "  width: 1em;\n",
       "  text-decoration: none !important;\n",
       "  margin-left: 1ex;\n",
       "  /* unfitted */\n",
       "  border: var(--sklearn-color-unfitted-level-1) 1pt solid;\n",
       "  color: var(--sklearn-color-unfitted-level-1);\n",
       "}\n",
       "\n",
       ".sk-estimator-doc-link.fitted,\n",
       "a:link.sk-estimator-doc-link.fitted,\n",
       "a:visited.sk-estimator-doc-link.fitted {\n",
       "  /* fitted */\n",
       "  border: var(--sklearn-color-fitted-level-1) 1pt solid;\n",
       "  color: var(--sklearn-color-fitted-level-1);\n",
       "}\n",
       "\n",
       "/* On hover */\n",
       "div.sk-estimator:hover .sk-estimator-doc-link:hover,\n",
       ".sk-estimator-doc-link:hover,\n",
       "div.sk-label-container:hover .sk-estimator-doc-link:hover,\n",
       ".sk-estimator-doc-link:hover {\n",
       "  /* unfitted */\n",
       "  background-color: var(--sklearn-color-unfitted-level-3);\n",
       "  color: var(--sklearn-color-background);\n",
       "  text-decoration: none;\n",
       "}\n",
       "\n",
       "div.sk-estimator.fitted:hover .sk-estimator-doc-link.fitted:hover,\n",
       ".sk-estimator-doc-link.fitted:hover,\n",
       "div.sk-label-container:hover .sk-estimator-doc-link.fitted:hover,\n",
       ".sk-estimator-doc-link.fitted:hover {\n",
       "  /* fitted */\n",
       "  background-color: var(--sklearn-color-fitted-level-3);\n",
       "  color: var(--sklearn-color-background);\n",
       "  text-decoration: none;\n",
       "}\n",
       "\n",
       "/* Span, style for the box shown on hovering the info icon */\n",
       ".sk-estimator-doc-link span {\n",
       "  display: none;\n",
       "  z-index: 9999;\n",
       "  position: relative;\n",
       "  font-weight: normal;\n",
       "  right: .2ex;\n",
       "  padding: .5ex;\n",
       "  margin: .5ex;\n",
       "  width: min-content;\n",
       "  min-width: 20ex;\n",
       "  max-width: 50ex;\n",
       "  color: var(--sklearn-color-text);\n",
       "  box-shadow: 2pt 2pt 4pt #999;\n",
       "  /* unfitted */\n",
       "  background: var(--sklearn-color-unfitted-level-0);\n",
       "  border: .5pt solid var(--sklearn-color-unfitted-level-3);\n",
       "}\n",
       "\n",
       ".sk-estimator-doc-link.fitted span {\n",
       "  /* fitted */\n",
       "  background: var(--sklearn-color-fitted-level-0);\n",
       "  border: var(--sklearn-color-fitted-level-3);\n",
       "}\n",
       "\n",
       ".sk-estimator-doc-link:hover span {\n",
       "  display: block;\n",
       "}\n",
       "\n",
       "/* \"?\"-specific style due to the `<a>` HTML tag */\n",
       "\n",
       "#sk-container-id-1 a.estimator_doc_link {\n",
       "  float: right;\n",
       "  font-size: 1rem;\n",
       "  line-height: 1em;\n",
       "  font-family: monospace;\n",
       "  background-color: var(--sklearn-color-background);\n",
       "  border-radius: 1rem;\n",
       "  height: 1rem;\n",
       "  width: 1rem;\n",
       "  text-decoration: none;\n",
       "  /* unfitted */\n",
       "  color: var(--sklearn-color-unfitted-level-1);\n",
       "  border: var(--sklearn-color-unfitted-level-1) 1pt solid;\n",
       "}\n",
       "\n",
       "#sk-container-id-1 a.estimator_doc_link.fitted {\n",
       "  /* fitted */\n",
       "  border: var(--sklearn-color-fitted-level-1) 1pt solid;\n",
       "  color: var(--sklearn-color-fitted-level-1);\n",
       "}\n",
       "\n",
       "/* On hover */\n",
       "#sk-container-id-1 a.estimator_doc_link:hover {\n",
       "  /* unfitted */\n",
       "  background-color: var(--sklearn-color-unfitted-level-3);\n",
       "  color: var(--sklearn-color-background);\n",
       "  text-decoration: none;\n",
       "}\n",
       "\n",
       "#sk-container-id-1 a.estimator_doc_link.fitted:hover {\n",
       "  /* fitted */\n",
       "  background-color: var(--sklearn-color-fitted-level-3);\n",
       "}\n",
       "</style><div id=\"sk-container-id-1\" class=\"sk-top-container\"><div class=\"sk-text-repr-fallback\"><pre>LinearRegression()</pre><b>In a Jupyter environment, please rerun this cell to show the HTML representation or trust the notebook. <br />On GitHub, the HTML representation is unable to render, please try loading this page with nbviewer.org.</b></div><div class=\"sk-container\" hidden><div class=\"sk-item\"><div class=\"sk-estimator fitted sk-toggleable\"><input class=\"sk-toggleable__control sk-hidden--visually\" id=\"sk-estimator-id-1\" type=\"checkbox\" checked><label for=\"sk-estimator-id-1\" class=\"sk-toggleable__label fitted sk-toggleable__label-arrow fitted\">&nbsp;&nbsp;LinearRegression<a class=\"sk-estimator-doc-link fitted\" rel=\"noreferrer\" target=\"_blank\" href=\"https://scikit-learn.org/1.5/modules/generated/sklearn.linear_model.LinearRegression.html\">?<span>Documentation for LinearRegression</span></a><span class=\"sk-estimator-doc-link fitted\">i<span>Fitted</span></span></label><div class=\"sk-toggleable__content fitted\"><pre>LinearRegression()</pre></div> </div></div></div></div>"
      ],
      "text/plain": [
       "LinearRegression()"
      ]
     },
     "execution_count": 46,
     "metadata": {},
     "output_type": "execute_result"
    }
   ],
   "source": [
    "model_lr.fit(x_train,y_train)"
   ]
  },
  {
   "cell_type": "markdown",
   "id": "57523397-2ba5-409e-8785-d7fa12181129",
   "metadata": {},
   "source": [
    "To check the coef value of the model"
   ]
  },
  {
   "cell_type": "code",
   "execution_count": 47,
   "id": "7d8dfcf7-5e5f-4297-b23c-f8af80194211",
   "metadata": {},
   "outputs": [
    {
     "data": {
      "text/plain": [
       "array([[-7.37511443e-02,  5.17024244e-01, -3.73063142e-01,\n",
       "        -3.27356736e-01,  4.31094457e-01,  2.64223752e-01,\n",
       "        -5.32825281e-01, -5.90466736e-02,  1.74393681e-01,\n",
       "        -1.27468789e-05]])"
      ]
     },
     "execution_count": 47,
     "metadata": {},
     "output_type": "execute_result"
    }
   ],
   "source": [
    "model_lr.coef_"
   ]
  },
  {
   "cell_type": "markdown",
   "id": "ec48de48-e40e-4a14-9cb9-f5ab53492e38",
   "metadata": {},
   "source": [
    "To check the intercept value of the model"
   ]
  },
  {
   "cell_type": "code",
   "execution_count": 48,
   "id": "f83acb16-f274-4e50-b351-7537ac9ad4c9",
   "metadata": {},
   "outputs": [
    {
     "data": {
      "text/plain": [
       "array([-0.36763348])"
      ]
     },
     "execution_count": 48,
     "metadata": {},
     "output_type": "execute_result"
    }
   ],
   "source": [
    "model_lr.intercept_"
   ]
  },
  {
   "cell_type": "markdown",
   "id": "cd06a153-1e78-4241-8a1e-e88c04928678",
   "metadata": {},
   "source": [
    "predict the y value"
   ]
  },
  {
   "cell_type": "code",
   "execution_count": 49,
   "id": "727c5ecc-b511-4b1e-a16e-11f17c467a14",
   "metadata": {},
   "outputs": [],
   "source": [
    "y_pre = model_lr.predict(x_test)"
   ]
  },
  {
   "cell_type": "code",
   "execution_count": 50,
   "id": "c8a80e87-83b8-44bc-a8a6-138e13ee92fb",
   "metadata": {},
   "outputs": [
    {
     "data": {
      "text/plain": [
       "array([[-1.17238187],\n",
       "       [-0.05168974],\n",
       "       [-1.24328828],\n",
       "       ...,\n",
       "       [-0.42625697],\n",
       "       [-0.3855497 ],\n",
       "       [ 1.27993446]])"
      ]
     },
     "execution_count": 50,
     "metadata": {},
     "output_type": "execute_result"
    }
   ],
   "source": [
    "y_pre"
   ]
  },
  {
   "cell_type": "markdown",
   "id": "cf28012d-0f5e-4f35-b825-8626e0b78d27",
   "metadata": {},
   "source": [
    "r2 score to find a statistical measure in a regression model"
   ]
  },
  {
   "cell_type": "code",
   "execution_count": 51,
   "id": "1c57b658-8b36-4e7a-9ff8-96f626df711a",
   "metadata": {},
   "outputs": [],
   "source": [
    "R2_score = model_lr.score(x_train,y_train)"
   ]
  },
  {
   "cell_type": "code",
   "execution_count": 52,
   "id": "27bc30f0-f025-4c56-acaf-390e95d90cc2",
   "metadata": {},
   "outputs": [
    {
     "data": {
      "text/plain": [
       "79.62750595507167"
      ]
     },
     "execution_count": 52,
     "metadata": {},
     "output_type": "execute_result"
    }
   ],
   "source": [
    "R2_score*100"
   ]
  },
  {
   "cell_type": "markdown",
   "id": "f287ca74-8ee4-4845-a160-b5df788c2d53",
   "metadata": {},
   "source": [
    "To find the accuracy of the model using a library mean_squared_error"
   ]
  },
  {
   "cell_type": "code",
   "execution_count": 53,
   "id": "0f123799-295d-43d4-b5d3-6b1d890522d6",
   "metadata": {},
   "outputs": [],
   "source": [
    "from sklearn.metrics import mean_squared_error"
   ]
  },
  {
   "cell_type": "code",
   "execution_count": 54,
   "id": "90ae4b36-895f-47ef-99ea-673bcd38a079",
   "metadata": {},
   "outputs": [],
   "source": [
    "accuracy = 1-mean_squared_error(y_test,y_pre)"
   ]
  },
  {
   "cell_type": "code",
   "execution_count": 55,
   "id": "6ca759ec-af16-4e14-ad2e-94ee4d3811d1",
   "metadata": {},
   "outputs": [
    {
     "data": {
      "text/plain": [
       "79.43380758488146"
      ]
     },
     "execution_count": 55,
     "metadata": {},
     "output_type": "execute_result"
    }
   ],
   "source": [
    "accuracy*100"
   ]
  },
  {
   "cell_type": "markdown",
   "id": "2c76893d-6c80-48fe-b4b3-cc04dde75257",
   "metadata": {},
   "source": [
    "To give a input value for x features"
   ]
  },
  {
   "cell_type": "code",
   "execution_count": 56,
   "id": "3b587e57-9672-48e9-b985-136372967bf4",
   "metadata": {},
   "outputs": [
    {
     "name": "stdin",
     "output_type": "stream",
     "text": [
      "Enter  house size 1500\n",
      "Enter house area 3\n",
      "Enter house bed room 2\n",
      "Enter house n bath room 2\n",
      "Enter house n room 3\n",
      "Enter house park facility 21\n",
      "Enter house build type 2\n",
      "Enter house street 3\n",
      "Enter house mzzone 3\n",
      "Enter house age 32\n"
     ]
    }
   ],
   "source": [
    "new_size =float(input('Enter  house size'))\n",
    "new_area =input('Enter house area')\n",
    "new_nbedroom =float(input('Enter house bed room'))\n",
    "new_nbathroom =float(input('Enter house n bath room'))\n",
    "new_nroom =float(input('Enter house n room'))\n",
    "new_park_facility =(input('Enter house park facility'))\n",
    "new_build_type =(input('Enter house build type'))\n",
    "new_street =input('Enter house street')\n",
    "new_mzzone =input('Enter house mzzone')\n",
    "new_age =float(input('Enter house age'))"
   ]
  },
  {
   "cell_type": "markdown",
   "id": "59928f71-7567-4ef5-a99b-08fc66cacb1e",
   "metadata": {},
   "source": [
    "to create a dataframe for x variable"
   ]
  },
  {
   "cell_type": "code",
   "execution_count": 57,
   "id": "4cb1da5d-81a8-4b12-9927-ab37727d077d",
   "metadata": {},
   "outputs": [
    {
     "data": {
      "text/html": [
       "<div>\n",
       "<style scoped>\n",
       "    .dataframe tbody tr th:only-of-type {\n",
       "        vertical-align: middle;\n",
       "    }\n",
       "\n",
       "    .dataframe tbody tr th {\n",
       "        vertical-align: top;\n",
       "    }\n",
       "\n",
       "    .dataframe thead th {\n",
       "        text-align: right;\n",
       "    }\n",
       "</style>\n",
       "<table border=\"1\" class=\"dataframe\">\n",
       "  <thead>\n",
       "    <tr style=\"text-align: right;\">\n",
       "      <th></th>\n",
       "      <th>0</th>\n",
       "      <th>1</th>\n",
       "      <th>2</th>\n",
       "      <th>3</th>\n",
       "      <th>4</th>\n",
       "      <th>5</th>\n",
       "      <th>6</th>\n",
       "      <th>7</th>\n",
       "      <th>8</th>\n",
       "      <th>9</th>\n",
       "    </tr>\n",
       "  </thead>\n",
       "  <tbody>\n",
       "    <tr>\n",
       "      <th>0</th>\n",
       "      <td>1500.0</td>\n",
       "      <td>3</td>\n",
       "      <td>2.0</td>\n",
       "      <td>2.0</td>\n",
       "      <td>3.0</td>\n",
       "      <td>21</td>\n",
       "      <td>2</td>\n",
       "      <td>3</td>\n",
       "      <td>3</td>\n",
       "      <td>32.0</td>\n",
       "    </tr>\n",
       "  </tbody>\n",
       "</table>\n",
       "</div>"
      ],
      "text/plain": [
       "        0  1    2    3    4   5  6  7  8     9\n",
       "0  1500.0  3  2.0  2.0  3.0  21  2  3  3  32.0"
      ]
     },
     "execution_count": 57,
     "metadata": {},
     "output_type": "execute_result"
    }
   ],
   "source": [
    "new_data =pd.DataFrame([[new_size,new_area,new_nbedroom,new_nbathroom,new_nroom,new_park_facility,new_build_type,new_street,new_mzzone,new_age]])\n",
    "new_data"
   ]
  },
  {
   "cell_type": "markdown",
   "id": "8572231b-3215-4484-a544-117875e4bc98",
   "metadata": {},
   "source": [
    "predit a new_price values"
   ]
  },
  {
   "cell_type": "code",
   "execution_count": 58,
   "id": "a6b3cacf-9c4d-46a9-ba8d-cc7843a4167e",
   "metadata": {},
   "outputs": [
    {
     "name": "stderr",
     "output_type": "stream",
     "text": [
      "C:\\Users\\Megala\\AppData\\Local\\Programs\\Python\\Python311\\Lib\\site-packages\\sklearn\\base.py:493: UserWarning: X does not have valid feature names, but LinearRegression was fitted with feature names\n",
      "  warnings.warn(\n"
     ]
    },
    {
     "data": {
      "text/plain": [
       "array([[-104.72215223]])"
      ]
     },
     "execution_count": 58,
     "metadata": {},
     "output_type": "execute_result"
    }
   ],
   "source": [
    "new_price = model_lr.predict(new_data)\n",
    "new_price"
   ]
  },
  {
   "cell_type": "markdown",
   "id": "bf133f65-575b-4120-bf18-36ac5f7aab97",
   "metadata": {},
   "source": [
    "inverse the new_price value for real time using inverse_transform"
   ]
  },
  {
   "cell_type": "code",
   "execution_count": 59,
   "id": "4d87abfd-c9cb-4750-b7df-49abbffdd7ba",
   "metadata": {},
   "outputs": [],
   "source": [
    "new_price = total_scaler.inverse_transform(new_price)"
   ]
  },
  {
   "cell_type": "code",
   "execution_count": 60,
   "id": "f0f462b1-4342-4a53-9aaf-ea3fece56e8f",
   "metadata": {},
   "outputs": [
    {
     "data": {
      "text/plain": [
       "array([[-4.016825e+08]])"
      ]
     },
     "execution_count": 60,
     "metadata": {},
     "output_type": "execute_result"
    }
   ],
   "source": [
    "new_price"
   ]
  }
 ],
 "metadata": {
  "kernelspec": {
   "display_name": "Python 3 (ipykernel)",
   "language": "python",
   "name": "python3"
  },
  "language_info": {
   "codemirror_mode": {
    "name": "ipython",
    "version": 3
   },
   "file_extension": ".py",
   "mimetype": "text/x-python",
   "name": "python",
   "nbconvert_exporter": "python",
   "pygments_lexer": "ipython3",
   "version": "3.11.9"
  }
 },
 "nbformat": 4,
 "nbformat_minor": 5
}
