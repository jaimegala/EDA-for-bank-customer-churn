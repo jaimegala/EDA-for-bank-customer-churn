{
 "cells": [
  {
   "cell_type": "markdown",
   "id": "0f11e6d6-61cf-48d5-bfaf-26a1b4381df6",
   "metadata": {},
   "source": [
    "import all necessary libraries to proceed"
   ]
  },
  {
   "cell_type": "code",
   "execution_count": 1,
   "id": "b5cede9f-7c94-4396-948f-4dd602f9e9c3",
   "metadata": {},
   "outputs": [],
   "source": [
    "import pandas as pd\n",
    "import numpy as np\n",
    "import matplotlib.pyplot as plt\n",
    "import seaborn as sns"
   ]
  },
  {
   "cell_type": "markdown",
   "id": "4bf1b19a-6863-4c40-ad35-be9e72c5a463",
   "metadata": {},
   "source": [
    "to load the dataset for analysis"
   ]
  },
  {
   "cell_type": "code",
   "execution_count": 2,
   "id": "1a416dc2-8724-433f-b21a-31a5caad6258",
   "metadata": {},
   "outputs": [],
   "source": [
    "df=pd.read_csv(\"diabetes_prediction_dataset.csv\")"
   ]
  },
  {
   "cell_type": "markdown",
   "id": "397c882d-5eba-4d8f-895c-c48182056a59",
   "metadata": {},
   "source": [
    "To check the first five in dataset to using .head() function"
   ]
  },
  {
   "cell_type": "code",
   "execution_count": 3,
   "id": "5a79088e-c3d6-493b-b270-c76ed3302093",
   "metadata": {},
   "outputs": [
    {
     "data": {
      "text/html": [
       "<div>\n",
       "<style scoped>\n",
       "    .dataframe tbody tr th:only-of-type {\n",
       "        vertical-align: middle;\n",
       "    }\n",
       "\n",
       "    .dataframe tbody tr th {\n",
       "        vertical-align: top;\n",
       "    }\n",
       "\n",
       "    .dataframe thead th {\n",
       "        text-align: right;\n",
       "    }\n",
       "</style>\n",
       "<table border=\"1\" class=\"dataframe\">\n",
       "  <thead>\n",
       "    <tr style=\"text-align: right;\">\n",
       "      <th></th>\n",
       "      <th>gender</th>\n",
       "      <th>age</th>\n",
       "      <th>hypertension</th>\n",
       "      <th>heart_disease</th>\n",
       "      <th>smoking_history</th>\n",
       "      <th>bmi</th>\n",
       "      <th>HbA1c_level</th>\n",
       "      <th>blood_glucose_level</th>\n",
       "      <th>diabetes</th>\n",
       "    </tr>\n",
       "  </thead>\n",
       "  <tbody>\n",
       "    <tr>\n",
       "      <th>0</th>\n",
       "      <td>Female</td>\n",
       "      <td>80.0</td>\n",
       "      <td>0</td>\n",
       "      <td>1</td>\n",
       "      <td>never</td>\n",
       "      <td>25.19</td>\n",
       "      <td>6.6</td>\n",
       "      <td>140</td>\n",
       "      <td>0</td>\n",
       "    </tr>\n",
       "    <tr>\n",
       "      <th>1</th>\n",
       "      <td>Female</td>\n",
       "      <td>54.0</td>\n",
       "      <td>0</td>\n",
       "      <td>0</td>\n",
       "      <td>No Info</td>\n",
       "      <td>27.32</td>\n",
       "      <td>6.6</td>\n",
       "      <td>80</td>\n",
       "      <td>0</td>\n",
       "    </tr>\n",
       "    <tr>\n",
       "      <th>2</th>\n",
       "      <td>Male</td>\n",
       "      <td>28.0</td>\n",
       "      <td>0</td>\n",
       "      <td>0</td>\n",
       "      <td>never</td>\n",
       "      <td>27.32</td>\n",
       "      <td>5.7</td>\n",
       "      <td>158</td>\n",
       "      <td>0</td>\n",
       "    </tr>\n",
       "    <tr>\n",
       "      <th>3</th>\n",
       "      <td>Female</td>\n",
       "      <td>36.0</td>\n",
       "      <td>0</td>\n",
       "      <td>0</td>\n",
       "      <td>current</td>\n",
       "      <td>23.45</td>\n",
       "      <td>5.0</td>\n",
       "      <td>155</td>\n",
       "      <td>0</td>\n",
       "    </tr>\n",
       "    <tr>\n",
       "      <th>4</th>\n",
       "      <td>Male</td>\n",
       "      <td>76.0</td>\n",
       "      <td>1</td>\n",
       "      <td>1</td>\n",
       "      <td>current</td>\n",
       "      <td>20.14</td>\n",
       "      <td>4.8</td>\n",
       "      <td>155</td>\n",
       "      <td>0</td>\n",
       "    </tr>\n",
       "  </tbody>\n",
       "</table>\n",
       "</div>"
      ],
      "text/plain": [
       "   gender   age  hypertension  heart_disease smoking_history    bmi  \\\n",
       "0  Female  80.0             0              1           never  25.19   \n",
       "1  Female  54.0             0              0         No Info  27.32   \n",
       "2    Male  28.0             0              0           never  27.32   \n",
       "3  Female  36.0             0              0         current  23.45   \n",
       "4    Male  76.0             1              1         current  20.14   \n",
       "\n",
       "   HbA1c_level  blood_glucose_level  diabetes  \n",
       "0          6.6                  140         0  \n",
       "1          6.6                   80         0  \n",
       "2          5.7                  158         0  \n",
       "3          5.0                  155         0  \n",
       "4          4.8                  155         0  "
      ]
     },
     "execution_count": 3,
     "metadata": {},
     "output_type": "execute_result"
    }
   ],
   "source": [
    "df.head()"
   ]
  },
  {
   "cell_type": "markdown",
   "id": "cb41bcc6-89fe-432e-8f02-5189ab449a4a",
   "metadata": {},
   "source": [
    "To check the last five in dataset to using .tail() function"
   ]
  },
  {
   "cell_type": "code",
   "execution_count": 4,
   "id": "790818d7-8721-4fc9-8734-92ed02bf3167",
   "metadata": {},
   "outputs": [
    {
     "data": {
      "text/html": [
       "<div>\n",
       "<style scoped>\n",
       "    .dataframe tbody tr th:only-of-type {\n",
       "        vertical-align: middle;\n",
       "    }\n",
       "\n",
       "    .dataframe tbody tr th {\n",
       "        vertical-align: top;\n",
       "    }\n",
       "\n",
       "    .dataframe thead th {\n",
       "        text-align: right;\n",
       "    }\n",
       "</style>\n",
       "<table border=\"1\" class=\"dataframe\">\n",
       "  <thead>\n",
       "    <tr style=\"text-align: right;\">\n",
       "      <th></th>\n",
       "      <th>gender</th>\n",
       "      <th>age</th>\n",
       "      <th>hypertension</th>\n",
       "      <th>heart_disease</th>\n",
       "      <th>smoking_history</th>\n",
       "      <th>bmi</th>\n",
       "      <th>HbA1c_level</th>\n",
       "      <th>blood_glucose_level</th>\n",
       "      <th>diabetes</th>\n",
       "    </tr>\n",
       "  </thead>\n",
       "  <tbody>\n",
       "    <tr>\n",
       "      <th>99995</th>\n",
       "      <td>Female</td>\n",
       "      <td>80.0</td>\n",
       "      <td>0</td>\n",
       "      <td>0</td>\n",
       "      <td>No Info</td>\n",
       "      <td>27.32</td>\n",
       "      <td>6.2</td>\n",
       "      <td>90</td>\n",
       "      <td>0</td>\n",
       "    </tr>\n",
       "    <tr>\n",
       "      <th>99996</th>\n",
       "      <td>Female</td>\n",
       "      <td>2.0</td>\n",
       "      <td>0</td>\n",
       "      <td>0</td>\n",
       "      <td>No Info</td>\n",
       "      <td>17.37</td>\n",
       "      <td>6.5</td>\n",
       "      <td>100</td>\n",
       "      <td>0</td>\n",
       "    </tr>\n",
       "    <tr>\n",
       "      <th>99997</th>\n",
       "      <td>Male</td>\n",
       "      <td>66.0</td>\n",
       "      <td>0</td>\n",
       "      <td>0</td>\n",
       "      <td>former</td>\n",
       "      <td>27.83</td>\n",
       "      <td>5.7</td>\n",
       "      <td>155</td>\n",
       "      <td>0</td>\n",
       "    </tr>\n",
       "    <tr>\n",
       "      <th>99998</th>\n",
       "      <td>Female</td>\n",
       "      <td>24.0</td>\n",
       "      <td>0</td>\n",
       "      <td>0</td>\n",
       "      <td>never</td>\n",
       "      <td>35.42</td>\n",
       "      <td>4.0</td>\n",
       "      <td>100</td>\n",
       "      <td>0</td>\n",
       "    </tr>\n",
       "    <tr>\n",
       "      <th>99999</th>\n",
       "      <td>Female</td>\n",
       "      <td>57.0</td>\n",
       "      <td>0</td>\n",
       "      <td>0</td>\n",
       "      <td>current</td>\n",
       "      <td>22.43</td>\n",
       "      <td>6.6</td>\n",
       "      <td>90</td>\n",
       "      <td>0</td>\n",
       "    </tr>\n",
       "  </tbody>\n",
       "</table>\n",
       "</div>"
      ],
      "text/plain": [
       "       gender   age  hypertension  heart_disease smoking_history    bmi  \\\n",
       "99995  Female  80.0             0              0         No Info  27.32   \n",
       "99996  Female   2.0             0              0         No Info  17.37   \n",
       "99997    Male  66.0             0              0          former  27.83   \n",
       "99998  Female  24.0             0              0           never  35.42   \n",
       "99999  Female  57.0             0              0         current  22.43   \n",
       "\n",
       "       HbA1c_level  blood_glucose_level  diabetes  \n",
       "99995          6.2                   90         0  \n",
       "99996          6.5                  100         0  \n",
       "99997          5.7                  155         0  \n",
       "99998          4.0                  100         0  \n",
       "99999          6.6                   90         0  "
      ]
     },
     "execution_count": 4,
     "metadata": {},
     "output_type": "execute_result"
    }
   ],
   "source": [
    "df.tail()"
   ]
  },
  {
   "cell_type": "markdown",
   "id": "602c12fd-9fb5-4f52-82fa-c22a694c9c7b",
   "metadata": {},
   "source": [
    "To check the dataset inf and check the type of a column information use .info() and check the type of a column "
   ]
  },
  {
   "cell_type": "code",
   "execution_count": 5,
   "id": "5fa4ae9b-7d6b-4674-aff0-2319435609ed",
   "metadata": {},
   "outputs": [
    {
     "name": "stdout",
     "output_type": "stream",
     "text": [
      "<class 'pandas.core.frame.DataFrame'>\n",
      "RangeIndex: 100000 entries, 0 to 99999\n",
      "Data columns (total 9 columns):\n",
      " #   Column               Non-Null Count   Dtype  \n",
      "---  ------               --------------   -----  \n",
      " 0   gender               100000 non-null  object \n",
      " 1   age                  100000 non-null  float64\n",
      " 2   hypertension         100000 non-null  int64  \n",
      " 3   heart_disease        100000 non-null  int64  \n",
      " 4   smoking_history      100000 non-null  object \n",
      " 5   bmi                  100000 non-null  float64\n",
      " 6   HbA1c_level          100000 non-null  float64\n",
      " 7   blood_glucose_level  100000 non-null  int64  \n",
      " 8   diabetes             100000 non-null  int64  \n",
      "dtypes: float64(3), int64(4), object(2)\n",
      "memory usage: 6.9+ MB\n"
     ]
    },
    {
     "data": {
      "text/plain": [
       "(None,\n",
       " gender                  object\n",
       " age                    float64\n",
       " hypertension             int64\n",
       " heart_disease            int64\n",
       " smoking_history         object\n",
       " bmi                    float64\n",
       " HbA1c_level            float64\n",
       " blood_glucose_level      int64\n",
       " diabetes                 int64\n",
       " dtype: object)"
      ]
     },
     "execution_count": 5,
     "metadata": {},
     "output_type": "execute_result"
    }
   ],
   "source": [
    "df.info(),df.dtypes"
   ]
  },
  {
   "cell_type": "markdown",
   "id": "b7813951-ac9e-4c5c-a660-44cbaf34663d",
   "metadata": {},
   "source": [
    "To check the shape and size of the dataset"
   ]
  },
  {
   "cell_type": "code",
   "execution_count": 6,
   "id": "d7dfef2f-c362-47b7-89e9-60b0e6e0d42a",
   "metadata": {},
   "outputs": [
    {
     "data": {
      "text/plain": [
       "((100000, 9), 900000)"
      ]
     },
     "execution_count": 6,
     "metadata": {},
     "output_type": "execute_result"
    }
   ],
   "source": [
    "df.shape,df.size"
   ]
  },
  {
   "cell_type": "markdown",
   "id": "022bf0bb-7066-499b-b335-33778ef4f484",
   "metadata": {},
   "source": [
    "Check the duplicate value and the sum of duplicate"
   ]
  },
  {
   "cell_type": "code",
   "execution_count": 7,
   "id": "490375a5-70ab-404b-85fd-4a8754f94cf3",
   "metadata": {},
   "outputs": [
    {
     "data": {
      "text/plain": [
       "3854"
      ]
     },
     "execution_count": 7,
     "metadata": {},
     "output_type": "execute_result"
    }
   ],
   "source": [
    "df.duplicated().sum()"
   ]
  },
  {
   "cell_type": "markdown",
   "id": "b23c4c4d-e6d6-4cc1-8c5a-b47d6aa079bb",
   "metadata": {},
   "source": [
    "Remove the duplicate value using drop_duplicate"
   ]
  },
  {
   "cell_type": "code",
   "execution_count": 8,
   "id": "82fb710d-7fca-4cb8-999c-01998ebbf88b",
   "metadata": {},
   "outputs": [],
   "source": [
    "df = df.drop_duplicates()"
   ]
  },
  {
   "cell_type": "markdown",
   "id": "f83f1f43-6959-4e48-b756-a15f777c267b",
   "metadata": {},
   "source": [
    "To chek the dataset count,mean,std,min,quantile and max using .describe()"
   ]
  },
  {
   "cell_type": "code",
   "execution_count": 9,
   "id": "c68b435a-c684-4509-8683-cbb6243e8ff7",
   "metadata": {},
   "outputs": [
    {
     "data": {
      "text/html": [
       "<div>\n",
       "<style scoped>\n",
       "    .dataframe tbody tr th:only-of-type {\n",
       "        vertical-align: middle;\n",
       "    }\n",
       "\n",
       "    .dataframe tbody tr th {\n",
       "        vertical-align: top;\n",
       "    }\n",
       "\n",
       "    .dataframe thead th {\n",
       "        text-align: right;\n",
       "    }\n",
       "</style>\n",
       "<table border=\"1\" class=\"dataframe\">\n",
       "  <thead>\n",
       "    <tr style=\"text-align: right;\">\n",
       "      <th></th>\n",
       "      <th>age</th>\n",
       "      <th>hypertension</th>\n",
       "      <th>heart_disease</th>\n",
       "      <th>bmi</th>\n",
       "      <th>HbA1c_level</th>\n",
       "      <th>blood_glucose_level</th>\n",
       "      <th>diabetes</th>\n",
       "    </tr>\n",
       "  </thead>\n",
       "  <tbody>\n",
       "    <tr>\n",
       "      <th>count</th>\n",
       "      <td>96146.000000</td>\n",
       "      <td>96146.000000</td>\n",
       "      <td>96146.000000</td>\n",
       "      <td>96146.000000</td>\n",
       "      <td>96146.000000</td>\n",
       "      <td>96146.000000</td>\n",
       "      <td>96146.000000</td>\n",
       "    </tr>\n",
       "    <tr>\n",
       "      <th>mean</th>\n",
       "      <td>41.794326</td>\n",
       "      <td>0.077601</td>\n",
       "      <td>0.040803</td>\n",
       "      <td>27.321461</td>\n",
       "      <td>5.532609</td>\n",
       "      <td>138.218231</td>\n",
       "      <td>0.088220</td>\n",
       "    </tr>\n",
       "    <tr>\n",
       "      <th>std</th>\n",
       "      <td>22.462948</td>\n",
       "      <td>0.267544</td>\n",
       "      <td>0.197833</td>\n",
       "      <td>6.767716</td>\n",
       "      <td>1.073232</td>\n",
       "      <td>40.909771</td>\n",
       "      <td>0.283616</td>\n",
       "    </tr>\n",
       "    <tr>\n",
       "      <th>min</th>\n",
       "      <td>0.080000</td>\n",
       "      <td>0.000000</td>\n",
       "      <td>0.000000</td>\n",
       "      <td>10.010000</td>\n",
       "      <td>3.500000</td>\n",
       "      <td>80.000000</td>\n",
       "      <td>0.000000</td>\n",
       "    </tr>\n",
       "    <tr>\n",
       "      <th>25%</th>\n",
       "      <td>24.000000</td>\n",
       "      <td>0.000000</td>\n",
       "      <td>0.000000</td>\n",
       "      <td>23.400000</td>\n",
       "      <td>4.800000</td>\n",
       "      <td>100.000000</td>\n",
       "      <td>0.000000</td>\n",
       "    </tr>\n",
       "    <tr>\n",
       "      <th>50%</th>\n",
       "      <td>43.000000</td>\n",
       "      <td>0.000000</td>\n",
       "      <td>0.000000</td>\n",
       "      <td>27.320000</td>\n",
       "      <td>5.800000</td>\n",
       "      <td>140.000000</td>\n",
       "      <td>0.000000</td>\n",
       "    </tr>\n",
       "    <tr>\n",
       "      <th>75%</th>\n",
       "      <td>59.000000</td>\n",
       "      <td>0.000000</td>\n",
       "      <td>0.000000</td>\n",
       "      <td>29.860000</td>\n",
       "      <td>6.200000</td>\n",
       "      <td>159.000000</td>\n",
       "      <td>0.000000</td>\n",
       "    </tr>\n",
       "    <tr>\n",
       "      <th>max</th>\n",
       "      <td>80.000000</td>\n",
       "      <td>1.000000</td>\n",
       "      <td>1.000000</td>\n",
       "      <td>95.690000</td>\n",
       "      <td>9.000000</td>\n",
       "      <td>300.000000</td>\n",
       "      <td>1.000000</td>\n",
       "    </tr>\n",
       "  </tbody>\n",
       "</table>\n",
       "</div>"
      ],
      "text/plain": [
       "                age  hypertension  heart_disease           bmi   HbA1c_level  \\\n",
       "count  96146.000000  96146.000000   96146.000000  96146.000000  96146.000000   \n",
       "mean      41.794326      0.077601       0.040803     27.321461      5.532609   \n",
       "std       22.462948      0.267544       0.197833      6.767716      1.073232   \n",
       "min        0.080000      0.000000       0.000000     10.010000      3.500000   \n",
       "25%       24.000000      0.000000       0.000000     23.400000      4.800000   \n",
       "50%       43.000000      0.000000       0.000000     27.320000      5.800000   \n",
       "75%       59.000000      0.000000       0.000000     29.860000      6.200000   \n",
       "max       80.000000      1.000000       1.000000     95.690000      9.000000   \n",
       "\n",
       "       blood_glucose_level      diabetes  \n",
       "count         96146.000000  96146.000000  \n",
       "mean            138.218231      0.088220  \n",
       "std              40.909771      0.283616  \n",
       "min              80.000000      0.000000  \n",
       "25%             100.000000      0.000000  \n",
       "50%             140.000000      0.000000  \n",
       "75%             159.000000      0.000000  \n",
       "max             300.000000      1.000000  "
      ]
     },
     "execution_count": 9,
     "metadata": {},
     "output_type": "execute_result"
    }
   ],
   "source": [
    "df.describe()"
   ]
  },
  {
   "cell_type": "markdown",
   "id": "8967eab9-cbb7-437c-a61f-cefcc7d6eff9",
   "metadata": {},
   "source": [
    "check the smoking history & gender unique value using .unique"
   ]
  },
  {
   "cell_type": "code",
   "execution_count": 10,
   "id": "ab8d6987-3aaa-4282-b034-eb138c1124f3",
   "metadata": {},
   "outputs": [
    {
     "data": {
      "text/plain": [
       "(array(['never', 'No Info', 'current', 'former', 'ever', 'not current'],\n",
       "       dtype=object),\n",
       " array(['Female', 'Male', 'Other'], dtype=object))"
      ]
     },
     "execution_count": 10,
     "metadata": {},
     "output_type": "execute_result"
    }
   ],
   "source": [
    "df['smoking_history'].unique(),df['gender'].unique()"
   ]
  },
  {
   "cell_type": "markdown",
   "id": "fe508072-7860-49d7-a7ca-4096c45a9c3d",
   "metadata": {},
   "source": [
    "replace the smoking hiatory value not current to former"
   ]
  },
  {
   "cell_type": "code",
   "execution_count": 11,
   "id": "3dc60275-f510-42ef-94c1-6a34a32d64f1",
   "metadata": {},
   "outputs": [],
   "source": [
    "df['smoking_history'] = df['smoking_history'].replace('not current','former')"
   ]
  },
  {
   "cell_type": "markdown",
   "id": "6a74f9e5-443e-4fae-9810-339e520f9342",
   "metadata": {},
   "source": [
    "To plot the barplot for gender,age and smoking history"
   ]
  },
  {
   "cell_type": "code",
   "execution_count": 12,
   "id": "c44543f6-853b-4545-86e7-78aeca68fe00",
   "metadata": {},
   "outputs": [
    {
     "data": {
      "image/png": "[encoded data removed]",
      "text/plain": [
       "<Figure size 800x600 with 1 Axes>"
      ]
     },
     "metadata": {},
     "output_type": "display_data"
    }
   ],
   "source": [
    "plt.figure(figsize=(8,6))\n",
    "sns.barplot(df,x='gender',y='age',hue='smoking_history')\n",
    "plt.show()"
   ]
  },
  {
   "cell_type": "markdown",
   "id": "be00cce0-33a4-4f03-8517-ca71aeac6c4a",
   "metadata": {},
   "source": [
    "create a pivot table for gender and diabetes"
   ]
  },
  {
   "cell_type": "code",
   "execution_count": 13,
   "id": "ac2f84a1-51fc-4cb6-b0c1-9b98c2b04155",
   "metadata": {},
   "outputs": [],
   "source": [
    "pie =pd.pivot_table(df,index = 'gender',values = ['diabetes'],aggfunc='mean')"
   ]
  },
  {
   "cell_type": "code",
   "execution_count": 14,
   "id": "d59d3572-6117-4e20-aee6-2f21b4bb7708",
   "metadata": {},
   "outputs": [
    {
     "data": {
      "text/html": [
       "<div>\n",
       "<style scoped>\n",
       "    .dataframe tbody tr th:only-of-type {\n",
       "        vertical-align: middle;\n",
       "    }\n",
       "\n",
       "    .dataframe tbody tr th {\n",
       "        vertical-align: top;\n",
       "    }\n",
       "\n",
       "    .dataframe thead th {\n",
       "        text-align: right;\n",
       "    }\n",
       "</style>\n",
       "<table border=\"1\" class=\"dataframe\">\n",
       "  <thead>\n",
       "    <tr style=\"text-align: right;\">\n",
       "      <th></th>\n",
       "      <th>diabetes</th>\n",
       "    </tr>\n",
       "    <tr>\n",
       "      <th>gender</th>\n",
       "      <th></th>\n",
       "    </tr>\n",
       "  </thead>\n",
       "  <tbody>\n",
       "    <tr>\n",
       "      <th>Female</th>\n",
       "      <td>0.079183</td>\n",
       "    </tr>\n",
       "    <tr>\n",
       "      <th>Male</th>\n",
       "      <td>0.100958</td>\n",
       "    </tr>\n",
       "    <tr>\n",
       "      <th>Other</th>\n",
       "      <td>0.000000</td>\n",
       "    </tr>\n",
       "  </tbody>\n",
       "</table>\n",
       "</div>"
      ],
      "text/plain": [
       "        diabetes\n",
       "gender          \n",
       "Female  0.079183\n",
       "Male    0.100958\n",
       "Other   0.000000"
      ]
     },
     "execution_count": 14,
     "metadata": {},
     "output_type": "execute_result"
    }
   ],
   "source": [
    "pie"
   ]
  },
  {
   "cell_type": "markdown",
   "id": "a3d588d7-ee9e-4e42-890a-be45dbf59b5b",
   "metadata": {},
   "source": [
    "plot a pie chart for gender and diabetes to know the diabetes percentage of the gender"
   ]
  },
  {
   "cell_type": "code",
   "execution_count": 15,
   "id": "cb5a76d5-f539-4ba4-95ae-fa14bceb7b37",
   "metadata": {},
   "outputs": [
    {
     "data": {
      "image/png": "[encoded data removed]",
      "text/plain": [
       "<Figure size 640x480 with 1 Axes>"
      ]
     },
     "metadata": {},
     "output_type": "display_data"
    }
   ],
   "source": [
    "plt.pie(pie.diabetes,labels=pie.index,autopct='%1.1f%%', startangle=140)\n",
    "plt.show()"
   ]
  },
  {
   "cell_type": "markdown",
   "id": "f09451cc-fcd6-48d2-8b58-6eceae9f6511",
   "metadata": {},
   "source": [
    "Do strippolt for diabetes,bmi hue of heart disease"
   ]
  },
  {
   "cell_type": "code",
   "execution_count": 16,
   "id": "75f07a98-089c-4878-8f13-0d248c4b91f6",
   "metadata": {},
   "outputs": [
    {
     "data": {
      "image/png": "[encoded data removed]",
      "text/plain": [
       "<Figure size 800x600 with 1 Axes>"
      ]
     },
     "metadata": {},
     "output_type": "display_data"
    }
   ],
   "source": [
    "plt.figure(figsize=(8,6))\n",
    "sns.stripplot(x=df.diabetes,y=df.bmi,hue = df.heart_disease)\n",
    "plt.show()"
   ]
  },
  {
   "cell_type": "markdown",
   "id": "f64e2d48-7a16-4405-acfa-84804969c894",
   "metadata": {},
   "source": [
    "Do strippolt for diabetes,blood glucose hue of smoking history"
   ]
  },
  {
   "cell_type": "code",
   "execution_count": 17,
   "id": "8385a66f-3900-463b-9e5d-b723fac0cf50",
   "metadata": {},
   "outputs": [
    {
     "data": {
      "image/png": "[encoded data removed]",
      "text/plain": [
       "<Figure size 640x480 with 1 Axes>"
      ]
     },
     "metadata": {},
     "output_type": "display_data"
    }
   ],
   "source": [
    "sns.stripplot(x=df.diabetes,y=df.blood_glucose_level,hue=df.smoking_history)\n",
    "plt.show()"
   ]
  },
  {
   "cell_type": "markdown",
   "id": "1c8c4d18-a586-4400-ad97-687240c671c3",
   "metadata": {},
   "source": [
    "Do strippolt for diabetes,Hba1c  hue of hypertension"
   ]
  },
  {
   "cell_type": "code",
   "execution_count": 18,
   "id": "763d4282-54af-4bdc-b343-2dedfdfcaf3d",
   "metadata": {},
   "outputs": [
    {
     "data": {
      "image/png": "[encoded data removed]",
      "text/plain": [
       "<Figure size 640x480 with 1 Axes>"
      ]
     },
     "metadata": {},
     "output_type": "display_data"
    }
   ],
   "source": [
    "sns.stripplot(x=df.diabetes,y=df.HbA1c_level,hue = df.hypertension)\n",
    "plt.show()"
   ]
  },
  {
   "cell_type": "markdown",
   "id": "62e9372d-c32b-49d4-8b3f-1d3d99c5abad",
   "metadata": {},
   "source": [
    "plot the scatter plot to check the Hba1c level depends on bmi"
   ]
  },
  {
   "cell_type": "code",
   "execution_count": 19,
   "id": "4ae55929-3cc7-43cd-ac46-140650e1675d",
   "metadata": {},
   "outputs": [
    {
     "data": {
      "image/png": "[encoded data removed]",
      "text/plain": [
       "<Figure size 640x480 with 1 Axes>"
      ]
     },
     "metadata": {},
     "output_type": "display_data"
    }
   ],
   "source": [
    "plt.scatter(df.HbA1c_level,df.bmi,color='b')\n",
    "plt.show()"
   ]
  },
  {
   "cell_type": "markdown",
   "id": "e43473a5-ffdc-469b-a033-39912e0c77d4",
   "metadata": {},
   "source": [
    "Check the Hba1c unique values"
   ]
  },
  {
   "cell_type": "code",
   "execution_count": 20,
   "id": "8b534be3-1df6-4d7b-9b43-b83a04194c7f",
   "metadata": {},
   "outputs": [
    {
     "data": {
      "text/plain": [
       "array([6.6, 5.7, 5. , 4.8, 6.5, 6.1, 6. , 5.8, 3.5, 6.2, 4. , 4.5, 9. ,\n",
       "       7. , 8.8, 8.2, 7.5, 6.8])"
      ]
     },
     "execution_count": 20,
     "metadata": {},
     "output_type": "execute_result"
    }
   ],
   "source": [
    "df['HbA1c_level'].unique()"
   ]
  },
  {
   "cell_type": "markdown",
   "id": "5d22bfb8-b2f5-48e4-a258-7e8686fb937c",
   "metadata": {},
   "source": [
    "check the gender of others count"
   ]
  },
  {
   "cell_type": "code",
   "execution_count": 21,
   "id": "381cc781-4a52-46b8-8818-516a68991b56",
   "metadata": {},
   "outputs": [
    {
     "data": {
      "text/plain": [
       "gender                 18\n",
       "age                    18\n",
       "hypertension           18\n",
       "heart_disease          18\n",
       "smoking_history        18\n",
       "bmi                    18\n",
       "HbA1c_level            18\n",
       "blood_glucose_level    18\n",
       "diabetes               18\n",
       "dtype: int64"
      ]
     },
     "execution_count": 21,
     "metadata": {},
     "output_type": "execute_result"
    }
   ],
   "source": [
    "df[df['gender'] == 'Other'].count()"
   ]
  },
  {
   "cell_type": "markdown",
   "id": "af1e25f3-6bf3-474b-9b08-6c23a52b0d97",
   "metadata": {},
   "source": [
    "TO check null values to using isnull and count the null value to use sum,so that we getting the null values count"
   ]
  },
  {
   "cell_type": "code",
   "execution_count": 22,
   "id": "8485e32e-a75c-42df-9434-9a0579bb3a03",
   "metadata": {},
   "outputs": [
    {
     "data": {
      "text/plain": [
       "gender                 0\n",
       "age                    0\n",
       "hypertension           0\n",
       "heart_disease          0\n",
       "smoking_history        0\n",
       "bmi                    0\n",
       "HbA1c_level            0\n",
       "blood_glucose_level    0\n",
       "diabetes               0\n",
       "dtype: int64"
      ]
     },
     "execution_count": 22,
     "metadata": {},
     "output_type": "execute_result"
    }
   ],
   "source": [
    "df.isnull().sum()"
   ]
  },
  {
   "cell_type": "markdown",
   "id": "29424ac4-2f0c-4775-9f05-83b46a60f282",
   "metadata": {},
   "source": [
    "to check the not null values"
   ]
  },
  {
   "cell_type": "code",
   "execution_count": 23,
   "id": "5b9dd156-18d3-4ef7-8acc-f24b8698fb5a",
   "metadata": {},
   "outputs": [
    {
     "data": {
      "text/plain": [
       "gender                 96146\n",
       "age                    96146\n",
       "hypertension           96146\n",
       "heart_disease          96146\n",
       "smoking_history        96146\n",
       "bmi                    96146\n",
       "HbA1c_level            96146\n",
       "blood_glucose_level    96146\n",
       "diabetes               96146\n",
       "dtype: int64"
      ]
     },
     "execution_count": 23,
     "metadata": {},
     "output_type": "execute_result"
    }
   ],
   "source": [
    "df.notnull().sum()"
   ]
  },
  {
   "cell_type": "markdown",
   "id": "f918e936-168a-4988-8103-0cb26881be20",
   "metadata": {},
   "source": [
    "drop the other gender"
   ]
  },
  {
   "cell_type": "code",
   "execution_count": 24,
   "id": "d755c7cb-741c-4c74-ac8d-43447af712bb",
   "metadata": {},
   "outputs": [],
   "source": [
    "df = df.drop(df.loc[df['gender']=='Other'].index)"
   ]
  },
  {
   "cell_type": "markdown",
   "id": "e84add17-450b-4be2-b36e-0ba9667b4112",
   "metadata": {},
   "source": [
    "Check the gender unique"
   ]
  },
  {
   "cell_type": "code",
   "execution_count": 25,
   "id": "6d7fc6bc-da9a-47ca-9460-13ecdb99fc0b",
   "metadata": {},
   "outputs": [
    {
     "data": {
      "text/plain": [
       "array(['Female', 'Male'], dtype=object)"
      ]
     },
     "execution_count": 25,
     "metadata": {},
     "output_type": "execute_result"
    }
   ],
   "source": [
    "df['gender'].unique()"
   ]
  },
  {
   "cell_type": "markdown",
   "id": "fa497ab5-c664-4678-9abd-db8358a402ab",
   "metadata": {},
   "source": [
    "check the smoking history unique"
   ]
  },
  {
   "cell_type": "code",
   "execution_count": 26,
   "id": "6c3d9050-1cbd-4883-adbb-b66d30eda59e",
   "metadata": {},
   "outputs": [
    {
     "data": {
      "text/plain": [
       "array(['never', 'No Info', 'current', 'former', 'ever'], dtype=object)"
      ]
     },
     "execution_count": 26,
     "metadata": {},
     "output_type": "execute_result"
    }
   ],
   "source": [
    "df['smoking_history'].unique()"
   ]
  },
  {
   "cell_type": "markdown",
   "id": "516fb4f4-7ac6-4176-8169-be8d781f7708",
   "metadata": {},
   "source": [
    "we encoding a data to proceed the linear regression model. To use label encoder to change the catagorical data to numerical data. to import the library for label encoder"
   ]
  },
  {
   "cell_type": "code",
   "execution_count": 27,
   "id": "cf3577bb-2ff9-4bbd-b980-8af7323996bf",
   "metadata": {},
   "outputs": [],
   "source": [
    "from sklearn.preprocessing import LabelEncoder\n",
    "label_encoder = LabelEncoder()"
   ]
  },
  {
   "cell_type": "markdown",
   "id": "84f8b400-9519-4bd4-b8f0-92f557395d99",
   "metadata": {},
   "source": [
    "to transform the label encoder to cfit_transform"
   ]
  },
  {
   "cell_type": "code",
   "execution_count": 29,
   "id": "8bde63ca-f055-4adc-a87a-2cb593db59c5",
   "metadata": {},
   "outputs": [],
   "source": [
    "df['gender'] =label_encoder.fit_transform(df['gender'])\n",
    "df['smoking_history'] =label_encoder.fit_transform(df['smoking_history'])"
   ]
  },
  {
   "cell_type": "markdown",
   "id": "300320e9-d88f-4983-9fad-60336a6118a8",
   "metadata": {},
   "source": [
    "To check the correlation of the data"
   ]
  },
  {
   "cell_type": "code",
   "execution_count": 30,
   "id": "2d26860c-f602-40fa-948e-fcad44bcc871",
   "metadata": {},
   "outputs": [
    {
     "data": {
      "text/html": [
       "<div>\n",
       "<style scoped>\n",
       "    .dataframe tbody tr th:only-of-type {\n",
       "        vertical-align: middle;\n",
       "    }\n",
       "\n",
       "    .dataframe tbody tr th {\n",
       "        vertical-align: top;\n",
       "    }\n",
       "\n",
       "    .dataframe thead th {\n",
       "        text-align: right;\n",
       "    }\n",
       "</style>\n",
       "<table border=\"1\" class=\"dataframe\">\n",
       "  <thead>\n",
       "    <tr style=\"text-align: right;\">\n",
       "      <th></th>\n",
       "      <th>gender</th>\n",
       "      <th>age</th>\n",
       "      <th>hypertension</th>\n",
       "      <th>heart_disease</th>\n",
       "      <th>smoking_history</th>\n",
       "      <th>bmi</th>\n",
       "      <th>HbA1c_level</th>\n",
       "      <th>blood_glucose_level</th>\n",
       "      <th>diabetes</th>\n",
       "    </tr>\n",
       "  </thead>\n",
       "  <tbody>\n",
       "    <tr>\n",
       "      <th>gender</th>\n",
       "      <td>1.000000</td>\n",
       "      <td>-0.028670</td>\n",
       "      <td>0.014196</td>\n",
       "      <td>0.078512</td>\n",
       "      <td>-0.082102</td>\n",
       "      <td>-0.023490</td>\n",
       "      <td>0.019928</td>\n",
       "      <td>0.017831</td>\n",
       "      <td>0.037837</td>\n",
       "    </tr>\n",
       "    <tr>\n",
       "      <th>age</th>\n",
       "      <td>-0.028670</td>\n",
       "      <td>1.000000</td>\n",
       "      <td>0.257297</td>\n",
       "      <td>0.238449</td>\n",
       "      <td>0.239762</td>\n",
       "      <td>0.344779</td>\n",
       "      <td>0.106708</td>\n",
       "      <td>0.114323</td>\n",
       "      <td>0.264918</td>\n",
       "    </tr>\n",
       "    <tr>\n",
       "      <th>hypertension</th>\n",
       "      <td>0.014196</td>\n",
       "      <td>0.257297</td>\n",
       "      <td>1.000000</td>\n",
       "      <td>0.119972</td>\n",
       "      <td>0.094921</td>\n",
       "      <td>0.148124</td>\n",
       "      <td>0.081443</td>\n",
       "      <td>0.084841</td>\n",
       "      <td>0.195696</td>\n",
       "    </tr>\n",
       "    <tr>\n",
       "      <th>heart_disease</th>\n",
       "      <td>0.078512</td>\n",
       "      <td>0.238449</td>\n",
       "      <td>0.119972</td>\n",
       "      <td>1.000000</td>\n",
       "      <td>0.023483</td>\n",
       "      <td>0.061382</td>\n",
       "      <td>0.068142</td>\n",
       "      <td>0.070838</td>\n",
       "      <td>0.170701</td>\n",
       "    </tr>\n",
       "    <tr>\n",
       "      <th>smoking_history</th>\n",
       "      <td>-0.082102</td>\n",
       "      <td>0.239762</td>\n",
       "      <td>0.094921</td>\n",
       "      <td>0.023483</td>\n",
       "      <td>1.000000</td>\n",
       "      <td>0.187931</td>\n",
       "      <td>0.035545</td>\n",
       "      <td>0.038996</td>\n",
       "      <td>0.089882</td>\n",
       "    </tr>\n",
       "    <tr>\n",
       "      <th>bmi</th>\n",
       "      <td>-0.023490</td>\n",
       "      <td>0.344779</td>\n",
       "      <td>0.148124</td>\n",
       "      <td>0.061382</td>\n",
       "      <td>0.187931</td>\n",
       "      <td>1.000000</td>\n",
       "      <td>0.084443</td>\n",
       "      <td>0.092593</td>\n",
       "      <td>0.214951</td>\n",
       "    </tr>\n",
       "    <tr>\n",
       "      <th>HbA1c_level</th>\n",
       "      <td>0.019928</td>\n",
       "      <td>0.106708</td>\n",
       "      <td>0.081443</td>\n",
       "      <td>0.068142</td>\n",
       "      <td>0.035545</td>\n",
       "      <td>0.084443</td>\n",
       "      <td>1.000000</td>\n",
       "      <td>0.171717</td>\n",
       "      <td>0.406446</td>\n",
       "    </tr>\n",
       "    <tr>\n",
       "      <th>blood_glucose_level</th>\n",
       "      <td>0.017831</td>\n",
       "      <td>0.114323</td>\n",
       "      <td>0.084841</td>\n",
       "      <td>0.070838</td>\n",
       "      <td>0.038996</td>\n",
       "      <td>0.092593</td>\n",
       "      <td>0.171717</td>\n",
       "      <td>1.000000</td>\n",
       "      <td>0.424366</td>\n",
       "    </tr>\n",
       "    <tr>\n",
       "      <th>diabetes</th>\n",
       "      <td>0.037837</td>\n",
       "      <td>0.264918</td>\n",
       "      <td>0.195696</td>\n",
       "      <td>0.170701</td>\n",
       "      <td>0.089882</td>\n",
       "      <td>0.214951</td>\n",
       "      <td>0.406446</td>\n",
       "      <td>0.424366</td>\n",
       "      <td>1.000000</td>\n",
       "    </tr>\n",
       "  </tbody>\n",
       "</table>\n",
       "</div>"
      ],
      "text/plain": [
       "                       gender       age  hypertension  heart_disease  \\\n",
       "gender               1.000000 -0.028670      0.014196       0.078512   \n",
       "age                 -0.028670  1.000000      0.257297       0.238449   \n",
       "hypertension         0.014196  0.257297      1.000000       0.119972   \n",
       "heart_disease        0.078512  0.238449      0.119972       1.000000   \n",
       "smoking_history     -0.082102  0.239762      0.094921       0.023483   \n",
       "bmi                 -0.023490  0.344779      0.148124       0.061382   \n",
       "HbA1c_level          0.019928  0.106708      0.081443       0.068142   \n",
       "blood_glucose_level  0.017831  0.114323      0.084841       0.070838   \n",
       "diabetes             0.037837  0.264918      0.195696       0.170701   \n",
       "\n",
       "                     smoking_history       bmi  HbA1c_level  \\\n",
       "gender                     -0.082102 -0.023490     0.019928   \n",
       "age                         0.239762  0.344779     0.106708   \n",
       "hypertension                0.094921  0.148124     0.081443   \n",
       "heart_disease               0.023483  0.061382     0.068142   \n",
       "smoking_history             1.000000  0.187931     0.035545   \n",
       "bmi                         0.187931  1.000000     0.084443   \n",
       "HbA1c_level                 0.035545  0.084443     1.000000   \n",
       "blood_glucose_level         0.038996  0.092593     0.171717   \n",
       "diabetes                    0.089882  0.214951     0.406446   \n",
       "\n",
       "                     blood_glucose_level  diabetes  \n",
       "gender                          0.017831  0.037837  \n",
       "age                             0.114323  0.264918  \n",
       "hypertension                    0.084841  0.195696  \n",
       "heart_disease                   0.070838  0.170701  \n",
       "smoking_history                 0.038996  0.089882  \n",
       "bmi                             0.092593  0.214951  \n",
       "HbA1c_level                     0.171717  0.406446  \n",
       "blood_glucose_level             1.000000  0.424366  \n",
       "diabetes                        0.424366  1.000000  "
      ]
     },
     "execution_count": 30,
     "metadata": {},
     "output_type": "execute_result"
    }
   ],
   "source": [
    "df.corr()"
   ]
  },
  {
   "cell_type": "markdown",
   "id": "7064c3af-c13c-406d-a68b-1737dc40143a",
   "metadata": {},
   "source": [
    "To assign the value x and drop the charges column & sign a target value to y"
   ]
  },
  {
   "cell_type": "code",
   "execution_count": 31,
   "id": "3c49fb21-93af-498a-affb-0d69e93e8ea5",
   "metadata": {},
   "outputs": [],
   "source": [
    "x=df.drop(['diabetes'],axis=1)\n",
    "y=df['diabetes']"
   ]
  },
  {
   "cell_type": "markdown",
   "id": "e7fc4f2f-9fd7-4149-a757-64f4f86ae409",
   "metadata": {},
   "source": [
    "split x and y value for train and test to use library train_test_split"
   ]
  },
  {
   "cell_type": "code",
   "execution_count": 32,
   "id": "f6a3eb04-bf4a-4c56-8a77-a1b74effd95a",
   "metadata": {},
   "outputs": [],
   "source": [
    "from sklearn.model_selection import train_test_split\n",
    "x_train,x_test,y_train,y_test = train_test_split(x,y,test_size = 0.25,random_state = 50)"
   ]
  },
  {
   "cell_type": "markdown",
   "id": "f13896f7-1216-4e84-af0d-5d103220aa7c",
   "metadata": {},
   "source": [
    "To check the shape of x_train,x_test,y_train and y_test"
   ]
  },
  {
   "cell_type": "code",
   "execution_count": 33,
   "id": "e7a8bd23-6e6b-4c4d-8aff-ca6c8990987c",
   "metadata": {},
   "outputs": [
    {
     "data": {
      "text/plain": [
       "((72096, 8), (24032, 8), (72096,), (24032,))"
      ]
     },
     "execution_count": 33,
     "metadata": {},
     "output_type": "execute_result"
    }
   ],
   "source": [
    "x_train.shape,x_test.shape,y_train.shape,y_test.shape"
   ]
  },
  {
   "cell_type": "code",
   "execution_count": null,
   "id": "3c742416-cd22-4b98-8e70-8dbeab3288f6",
   "metadata": {},
   "outputs": [],
   "source": [
    "Check the sigmoid value"
   ]
  },
  {
   "cell_type": "code",
   "execution_count": 34,
   "id": "f88dfa58-f340-4b61-8faa-e2871b419c25",
   "metadata": {},
   "outputs": [],
   "source": [
    "def sigmoid(x):\n",
    "    return 1/(1+np.exp(-x))"
   ]
  },
  {
   "cell_type": "code",
   "execution_count": 35,
   "id": "46e18f94-a529-4131-8027-febbdc32181e",
   "metadata": {},
   "outputs": [
    {
     "data": {
      "text/plain": [
       "(0.5, 0.9999546021312976, 1.0, 1.0)"
      ]
     },
     "execution_count": 35,
     "metadata": {},
     "output_type": "execute_result"
    }
   ],
   "source": [
    "sigmoid(0),sigmoid(10),sigmoid(100),sigmoid(10000000)"
   ]
  },
  {
   "cell_type": "code",
   "execution_count": 36,
   "id": "6188c257-fc21-43dd-b5fe-2d0966c6657f",
   "metadata": {},
   "outputs": [
    {
     "name": "stderr",
     "output_type": "stream",
     "text": [
      "C:\\Users\\Megala\\AppData\\Local\\Temp\\ipykernel_26456\\4033946986.py:2: RuntimeWarning: overflow encountered in exp\n",
      "  return 1/(1+np.exp(-x))\n"
     ]
    },
    {
     "data": {
      "text/plain": [
       "(1.0, 4.5397868702434395e-05, 3.7200759760208356e-44, 0.0)"
      ]
     },
     "execution_count": 36,
     "metadata": {},
     "output_type": "execute_result"
    }
   ],
   "source": [
    "sigmoid(50000000),sigmoid(-10),sigmoid(-100),sigmoid(-500000000)"
   ]
  },
  {
   "cell_type": "markdown",
   "id": "8797f420-c970-4c93-8c78-4436c53b16a9",
   "metadata": {},
   "source": [
    "To implement the Logistic regression model using library"
   ]
  },
  {
   "cell_type": "code",
   "execution_count": 37,
   "id": "610136ae-62f0-4f43-a556-a45a318f2db8",
   "metadata": {},
   "outputs": [],
   "source": [
    "from sklearn.linear_model import LogisticRegression"
   ]
  },
  {
   "cell_type": "code",
   "execution_count": 38,
   "id": "9fb5a25a-b00d-465f-a6d0-1f948cda974b",
   "metadata": {},
   "outputs": [],
   "source": [
    "model_lc = LogisticRegression(max_iter=500)"
   ]
  },
  {
   "cell_type": "markdown",
   "id": "c7354d1c-c6fc-49b9-bfd6-bcb3d9e7c6fb",
   "metadata": {},
   "source": [
    "To train Logistic regression model"
   ]
  },
  {
   "cell_type": "code",
   "execution_count": 40,
   "id": "de15ddb3-a62e-4721-aa0c-b5a78ad8a02e",
   "metadata": {},
   "outputs": [
    {
     "data": {
      "text/html": [
       "<style>#sk-container-id-1 {\n",
       "  /* Definition of color scheme common for light and dark mode */\n",
       "  --sklearn-color-text: black;\n",
       "  --sklearn-color-line: gray;\n",
       "  /* Definition of color scheme for unfitted estimators */\n",
       "  --sklearn-color-unfitted-level-0: #fff5e6;\n",
       "  --sklearn-color-unfitted-level-1: #f6e4d2;\n",
       "  --sklearn-color-unfitted-level-2: #ffe0b3;\n",
       "  --sklearn-color-unfitted-level-3: chocolate;\n",
       "  /* Definition of color scheme for fitted estimators */\n",
       "  --sklearn-color-fitted-level-0: #f0f8ff;\n",
       "  --sklearn-color-fitted-level-1: #d4ebff;\n",
       "  --sklearn-color-fitted-level-2: #b3dbfd;\n",
       "  --sklearn-color-fitted-level-3: cornflowerblue;\n",
       "\n",
       "  /* Specific color for light theme */\n",
       "  --sklearn-color-text-on-default-background: var(--sg-text-color, var(--theme-code-foreground, var(--jp-content-font-color1, black)));\n",
       "  --sklearn-color-background: var(--sg-background-color, var(--theme-background, var(--jp-layout-color0, white)));\n",
       "  --sklearn-color-border-box: var(--sg-text-color, var(--theme-code-foreground, var(--jp-content-font-color1, black)));\n",
       "  --sklearn-color-icon: #696969;\n",
       "\n",
       "  @media (prefers-color-scheme: dark) {\n",
       "    /* Redefinition of color scheme for dark theme */\n",
       "    --sklearn-color-text-on-default-background: var(--sg-text-color, var(--theme-code-foreground, var(--jp-content-font-color1, white)));\n",
       "    --sklearn-color-background: var(--sg-background-color, var(--theme-background, var(--jp-layout-color0, #111)));\n",
       "    --sklearn-color-border-box: var(--sg-text-color, var(--theme-code-foreground, var(--jp-content-font-color1, white)));\n",
       "    --sklearn-color-icon: #878787;\n",
       "  }\n",
       "}\n",
       "\n",
       "#sk-container-id-1 {\n",
       "  color: var(--sklearn-color-text);\n",
       "}\n",
       "\n",
       "#sk-container-id-1 pre {\n",
       "  padding: 0;\n",
       "}\n",
       "\n",
       "#sk-container-id-1 input.sk-hidden--visually {\n",
       "  border: 0;\n",
       "  clip: rect(1px 1px 1px 1px);\n",
       "  clip: rect(1px, 1px, 1px, 1px);\n",
       "  height: 1px;\n",
       "  margin: -1px;\n",
       "  overflow: hidden;\n",
       "  padding: 0;\n",
       "  position: absolute;\n",
       "  width: 1px;\n",
       "}\n",
       "\n",
       "#sk-container-id-1 div.sk-dashed-wrapped {\n",
       "  border: 1px dashed var(--sklearn-color-line);\n",
       "  margin: 0 0.4em 0.5em 0.4em;\n",
       "  box-sizing: border-box;\n",
       "  padding-bottom: 0.4em;\n",
       "  background-color: var(--sklearn-color-background);\n",
       "}\n",
       "\n",
       "#sk-container-id-1 div.sk-container {\n",
       "  /* jupyter's `normalize.less` sets `[hidden] { display: none; }`\n",
       "     but bootstrap.min.css set `[hidden] { display: none !important; }`\n",
       "     so we also need the `!important` here to be able to override the\n",
       "     default hidden behavior on the sphinx rendered scikit-learn.org.\n",
       "     See: https://github.com/scikit-learn/scikit-learn/issues/21755 */\n",
       "  display: inline-block !important;\n",
       "  position: relative;\n",
       "}\n",
       "\n",
       "#sk-container-id-1 div.sk-text-repr-fallback {\n",
       "  display: none;\n",
       "}\n",
       "\n",
       "div.sk-parallel-item,\n",
       "div.sk-serial,\n",
       "div.sk-item {\n",
       "  /* draw centered vertical line to link estimators */\n",
       "  background-image: linear-gradient(var(--sklearn-color-text-on-default-background), var(--sklearn-color-text-on-default-background));\n",
       "  background-size: 2px 100%;\n",
       "  background-repeat: no-repeat;\n",
       "  background-position: center center;\n",
       "}\n",
       "\n",
       "/* Parallel-specific style estimator block */\n",
       "\n",
       "#sk-container-id-1 div.sk-parallel-item::after {\n",
       "  content: \"\";\n",
       "  width: 100%;\n",
       "  border-bottom: 2px solid var(--sklearn-color-text-on-default-background);\n",
       "  flex-grow: 1;\n",
       "}\n",
       "\n",
       "#sk-container-id-1 div.sk-parallel {\n",
       "  display: flex;\n",
       "  align-items: stretch;\n",
       "  justify-content: center;\n",
       "  background-color: var(--sklearn-color-background);\n",
       "  position: relative;\n",
       "}\n",
       "\n",
       "#sk-container-id-1 div.sk-parallel-item {\n",
       "  display: flex;\n",
       "  flex-direction: column;\n",
       "}\n",
       "\n",
       "#sk-container-id-1 div.sk-parallel-item:first-child::after {\n",
       "  align-self: flex-end;\n",
       "  width: 50%;\n",
       "}\n",
       "\n",
       "#sk-container-id-1 div.sk-parallel-item:last-child::after {\n",
       "  align-self: flex-start;\n",
       "  width: 50%;\n",
       "}\n",
       "\n",
       "#sk-container-id-1 div.sk-parallel-item:only-child::after {\n",
       "  width: 0;\n",
       "}\n",
       "\n",
       "/* Serial-specific style estimator block */\n",
       "\n",
       "#sk-container-id-1 div.sk-serial {\n",
       "  display: flex;\n",
       "  flex-direction: column;\n",
       "  align-items: center;\n",
       "  background-color: var(--sklearn-color-background);\n",
       "  padding-right: 1em;\n",
       "  padding-left: 1em;\n",
       "}\n",
       "\n",
       "\n",
       "/* Toggleable style: style used for estimator/Pipeline/ColumnTransformer box that is\n",
       "clickable and can be expanded/collapsed.\n",
       "- Pipeline and ColumnTransformer use this feature and define the default style\n",
       "- Estimators will overwrite some part of the style using the `sk-estimator` class\n",
       "*/\n",
       "\n",
       "/* Pipeline and ColumnTransformer style (default) */\n",
       "\n",
       "#sk-container-id-1 div.sk-toggleable {\n",
       "  /* Default theme specific background. It is overwritten whether we have a\n",
       "  specific estimator or a Pipeline/ColumnTransformer */\n",
       "  background-color: var(--sklearn-color-background);\n",
       "}\n",
       "\n",
       "/* Toggleable label */\n",
       "#sk-container-id-1 label.sk-toggleable__label {\n",
       "  cursor: pointer;\n",
       "  display: block;\n",
       "  width: 100%;\n",
       "  margin-bottom: 0;\n",
       "  padding: 0.5em;\n",
       "  box-sizing: border-box;\n",
       "  text-align: center;\n",
       "}\n",
       "\n",
       "#sk-container-id-1 label.sk-toggleable__label-arrow:before {\n",
       "  /* Arrow on the left of the label */\n",
       "  content: \"▸\";\n",
       "  float: left;\n",
       "  margin-right: 0.25em;\n",
       "  color: var(--sklearn-color-icon);\n",
       "}\n",
       "\n",
       "#sk-container-id-1 label.sk-toggleable__label-arrow:hover:before {\n",
       "  color: var(--sklearn-color-text);\n",
       "}\n",
       "\n",
       "/* Toggleable content - dropdown */\n",
       "\n",
       "#sk-container-id-1 div.sk-toggleable__content {\n",
       "  max-height: 0;\n",
       "  max-width: 0;\n",
       "  overflow: hidden;\n",
       "  text-align: left;\n",
       "  /* unfitted */\n",
       "  background-color: var(--sklearn-color-unfitted-level-0);\n",
       "}\n",
       "\n",
       "#sk-container-id-1 div.sk-toggleable__content.fitted {\n",
       "  /* fitted */\n",
       "  background-color: var(--sklearn-color-fitted-level-0);\n",
       "}\n",
       "\n",
       "#sk-container-id-1 div.sk-toggleable__content pre {\n",
       "  margin: 0.2em;\n",
       "  border-radius: 0.25em;\n",
       "  color: var(--sklearn-color-text);\n",
       "  /* unfitted */\n",
       "  background-color: var(--sklearn-color-unfitted-level-0);\n",
       "}\n",
       "\n",
       "#sk-container-id-1 div.sk-toggleable__content.fitted pre {\n",
       "  /* unfitted */\n",
       "  background-color: var(--sklearn-color-fitted-level-0);\n",
       "}\n",
       "\n",
       "#sk-container-id-1 input.sk-toggleable__control:checked~div.sk-toggleable__content {\n",
       "  /* Expand drop-down */\n",
       "  max-height: 200px;\n",
       "  max-width: 100%;\n",
       "  overflow: auto;\n",
       "}\n",
       "\n",
       "#sk-container-id-1 input.sk-toggleable__control:checked~label.sk-toggleable__label-arrow:before {\n",
       "  content: \"▾\";\n",
       "}\n",
       "\n",
       "/* Pipeline/ColumnTransformer-specific style */\n",
       "\n",
       "#sk-container-id-1 div.sk-label input.sk-toggleable__control:checked~label.sk-toggleable__label {\n",
       "  color: var(--sklearn-color-text);\n",
       "  background-color: var(--sklearn-color-unfitted-level-2);\n",
       "}\n",
       "\n",
       "#sk-container-id-1 div.sk-label.fitted input.sk-toggleable__control:checked~label.sk-toggleable__label {\n",
       "  background-color: var(--sklearn-color-fitted-level-2);\n",
       "}\n",
       "\n",
       "/* Estimator-specific style */\n",
       "\n",
       "/* Colorize estimator box */\n",
       "#sk-container-id-1 div.sk-estimator input.sk-toggleable__control:checked~label.sk-toggleable__label {\n",
       "  /* unfitted */\n",
       "  background-color: var(--sklearn-color-unfitted-level-2);\n",
       "}\n",
       "\n",
       "#sk-container-id-1 div.sk-estimator.fitted input.sk-toggleable__control:checked~label.sk-toggleable__label {\n",
       "  /* fitted */\n",
       "  background-color: var(--sklearn-color-fitted-level-2);\n",
       "}\n",
       "\n",
       "#sk-container-id-1 div.sk-label label.sk-toggleable__label,\n",
       "#sk-container-id-1 div.sk-label label {\n",
       "  /* The background is the default theme color */\n",
       "  color: var(--sklearn-color-text-on-default-background);\n",
       "}\n",
       "\n",
       "/* On hover, darken the color of the background */\n",
       "#sk-container-id-1 div.sk-label:hover label.sk-toggleable__label {\n",
       "  color: var(--sklearn-color-text);\n",
       "  background-color: var(--sklearn-color-unfitted-level-2);\n",
       "}\n",
       "\n",
       "/* Label box, darken color on hover, fitted */\n",
       "#sk-container-id-1 div.sk-label.fitted:hover label.sk-toggleable__label.fitted {\n",
       "  color: var(--sklearn-color-text);\n",
       "  background-color: var(--sklearn-color-fitted-level-2);\n",
       "}\n",
       "\n",
       "/* Estimator label */\n",
       "\n",
       "#sk-container-id-1 div.sk-label label {\n",
       "  font-family: monospace;\n",
       "  font-weight: bold;\n",
       "  display: inline-block;\n",
       "  line-height: 1.2em;\n",
       "}\n",
       "\n",
       "#sk-container-id-1 div.sk-label-container {\n",
       "  text-align: center;\n",
       "}\n",
       "\n",
       "/* Estimator-specific */\n",
       "#sk-container-id-1 div.sk-estimator {\n",
       "  font-family: monospace;\n",
       "  border: 1px dotted var(--sklearn-color-border-box);\n",
       "  border-radius: 0.25em;\n",
       "  box-sizing: border-box;\n",
       "  margin-bottom: 0.5em;\n",
       "  /* unfitted */\n",
       "  background-color: var(--sklearn-color-unfitted-level-0);\n",
       "}\n",
       "\n",
       "#sk-container-id-1 div.sk-estimator.fitted {\n",
       "  /* fitted */\n",
       "  background-color: var(--sklearn-color-fitted-level-0);\n",
       "}\n",
       "\n",
       "/* on hover */\n",
       "#sk-container-id-1 div.sk-estimator:hover {\n",
       "  /* unfitted */\n",
       "  background-color: var(--sklearn-color-unfitted-level-2);\n",
       "}\n",
       "\n",
       "#sk-container-id-1 div.sk-estimator.fitted:hover {\n",
       "  /* fitted */\n",
       "  background-color: var(--sklearn-color-fitted-level-2);\n",
       "}\n",
       "\n",
       "/* Specification for estimator info (e.g. \"i\" and \"?\") */\n",
       "\n",
       "/* Common style for \"i\" and \"?\" */\n",
       "\n",
       ".sk-estimator-doc-link,\n",
       "a:link.sk-estimator-doc-link,\n",
       "a:visited.sk-estimator-doc-link {\n",
       "  float: right;\n",
       "  font-size: smaller;\n",
       "  line-height: 1em;\n",
       "  font-family: monospace;\n",
       "  background-color: var(--sklearn-color-background);\n",
       "  border-radius: 1em;\n",
       "  height: 1em;\n",
       "  width: 1em;\n",
       "  text-decoration: none !important;\n",
       "  margin-left: 1ex;\n",
       "  /* unfitted */\n",
       "  border: var(--sklearn-color-unfitted-level-1) 1pt solid;\n",
       "  color: var(--sklearn-color-unfitted-level-1);\n",
       "}\n",
       "\n",
       ".sk-estimator-doc-link.fitted,\n",
       "a:link.sk-estimator-doc-link.fitted,\n",
       "a:visited.sk-estimator-doc-link.fitted {\n",
       "  /* fitted */\n",
       "  border: var(--sklearn-color-fitted-level-1) 1pt solid;\n",
       "  color: var(--sklearn-color-fitted-level-1);\n",
       "}\n",
       "\n",
       "/* On hover */\n",
       "div.sk-estimator:hover .sk-estimator-doc-link:hover,\n",
       ".sk-estimator-doc-link:hover,\n",
       "div.sk-label-container:hover .sk-estimator-doc-link:hover,\n",
       ".sk-estimator-doc-link:hover {\n",
       "  /* unfitted */\n",
       "  background-color: var(--sklearn-color-unfitted-level-3);\n",
       "  color: var(--sklearn-color-background);\n",
       "  text-decoration: none;\n",
       "}\n",
       "\n",
       "div.sk-estimator.fitted:hover .sk-estimator-doc-link.fitted:hover,\n",
       ".sk-estimator-doc-link.fitted:hover,\n",
       "div.sk-label-container:hover .sk-estimator-doc-link.fitted:hover,\n",
       ".sk-estimator-doc-link.fitted:hover {\n",
       "  /* fitted */\n",
       "  background-color: var(--sklearn-color-fitted-level-3);\n",
       "  color: var(--sklearn-color-background);\n",
       "  text-decoration: none;\n",
       "}\n",
       "\n",
       "/* Span, style for the box shown on hovering the info icon */\n",
       ".sk-estimator-doc-link span {\n",
       "  display: none;\n",
       "  z-index: 9999;\n",
       "  position: relative;\n",
       "  font-weight: normal;\n",
       "  right: .2ex;\n",
       "  padding: .5ex;\n",
       "  margin: .5ex;\n",
       "  width: min-content;\n",
       "  min-width: 20ex;\n",
       "  max-width: 50ex;\n",
       "  color: var(--sklearn-color-text);\n",
       "  box-shadow: 2pt 2pt 4pt #999;\n",
       "  /* unfitted */\n",
       "  background: var(--sklearn-color-unfitted-level-0);\n",
       "  border: .5pt solid var(--sklearn-color-unfitted-level-3);\n",
       "}\n",
       "\n",
       ".sk-estimator-doc-link.fitted span {\n",
       "  /* fitted */\n",
       "  background: var(--sklearn-color-fitted-level-0);\n",
       "  border: var(--sklearn-color-fitted-level-3);\n",
       "}\n",
       "\n",
       ".sk-estimator-doc-link:hover span {\n",
       "  display: block;\n",
       "}\n",
       "\n",
       "/* \"?\"-specific style due to the `<a>` HTML tag */\n",
       "\n",
       "#sk-container-id-1 a.estimator_doc_link {\n",
       "  float: right;\n",
       "  font-size: 1rem;\n",
       "  line-height: 1em;\n",
       "  font-family: monospace;\n",
       "  background-color: var(--sklearn-color-background);\n",
       "  border-radius: 1rem;\n",
       "  height: 1rem;\n",
       "  width: 1rem;\n",
       "  text-decoration: none;\n",
       "  /* unfitted */\n",
       "  color: var(--sklearn-color-unfitted-level-1);\n",
       "  border: var(--sklearn-color-unfitted-level-1) 1pt solid;\n",
       "}\n",
       "\n",
       "#sk-container-id-1 a.estimator_doc_link.fitted {\n",
       "  /* fitted */\n",
       "  border: var(--sklearn-color-fitted-level-1) 1pt solid;\n",
       "  color: var(--sklearn-color-fitted-level-1);\n",
       "}\n",
       "\n",
       "/* On hover */\n",
       "#sk-container-id-1 a.estimator_doc_link:hover {\n",
       "  /* unfitted */\n",
       "  background-color: var(--sklearn-color-unfitted-level-3);\n",
       "  color: var(--sklearn-color-background);\n",
       "  text-decoration: none;\n",
       "}\n",
       "\n",
       "#sk-container-id-1 a.estimator_doc_link.fitted:hover {\n",
       "  /* fitted */\n",
       "  background-color: var(--sklearn-color-fitted-level-3);\n",
       "}\n",
       "</style><div id=\"sk-container-id-1\" class=\"sk-top-container\"><div class=\"sk-text-repr-fallback\"><pre>LogisticRegression(max_iter=500)</pre><b>In a Jupyter environment, please rerun this cell to show the HTML representation or trust the notebook. <br />On GitHub, the HTML representation is unable to render, please try loading this page with nbviewer.org.</b></div><div class=\"sk-container\" hidden><div class=\"sk-item\"><div class=\"sk-estimator fitted sk-toggleable\"><input class=\"sk-toggleable__control sk-hidden--visually\" id=\"sk-estimator-id-1\" type=\"checkbox\" checked><label for=\"sk-estimator-id-1\" class=\"sk-toggleable__label fitted sk-toggleable__label-arrow fitted\">&nbsp;&nbsp;LogisticRegression<a class=\"sk-estimator-doc-link fitted\" rel=\"noreferrer\" target=\"_blank\" href=\"https://scikit-learn.org/1.5/modules/generated/sklearn.linear_model.LogisticRegression.html\">?<span>Documentation for LogisticRegression</span></a><span class=\"sk-estimator-doc-link fitted\">i<span>Fitted</span></span></label><div class=\"sk-toggleable__content fitted\"><pre>LogisticRegression(max_iter=500)</pre></div> </div></div></div></div>"
      ],
      "text/plain": [
       "LogisticRegression(max_iter=500)"
      ]
     },
     "execution_count": 40,
     "metadata": {},
     "output_type": "execute_result"
    }
   ],
   "source": [
    "model_lc.fit(x_train,y_train)"
   ]
  },
  {
   "cell_type": "markdown",
   "id": "09cf2bd4-c95a-4844-bf9c-4f91eca00cbd",
   "metadata": {},
   "source": [
    "To check the  model_lr.intercept_"
   ]
  },
  {
   "cell_type": "code",
   "execution_count": 41,
   "id": "d510effd-d7ba-4121-9256-9ff5e81d2070",
   "metadata": {},
   "outputs": [
    {
     "data": {
      "text/plain": [
       "array([-27.26572689])"
      ]
     },
     "execution_count": 41,
     "metadata": {},
     "output_type": "execute_result"
    }
   ],
   "source": [
    "model_lc.intercept_"
   ]
  },
  {
   "cell_type": "markdown",
   "id": "cd9513c3-7f02-49a4-9718-73ee1aa8b198",
   "metadata": {},
   "source": [
    "To check the coef value of the model"
   ]
  },
  {
   "cell_type": "code",
   "execution_count": 42,
   "id": "8cf95541-a82e-4f97-9c6e-fc410b509dca",
   "metadata": {},
   "outputs": [
    {
     "data": {
      "text/plain": [
       "array([[0.25161833, 0.04586398, 0.6766748 , 0.74876031, 0.0942073 ,\n",
       "        0.0868272 , 2.31302397, 0.03336815]])"
      ]
     },
     "execution_count": 42,
     "metadata": {},
     "output_type": "execute_result"
    }
   ],
   "source": [
    "model_lc.coef_"
   ]
  },
  {
   "cell_type": "markdown",
   "id": "7263118a-b3c9-49e4-96bf-d158d319d293",
   "metadata": {},
   "source": [
    "To predict the y value"
   ]
  },
  {
   "cell_type": "code",
   "execution_count": 43,
   "id": "496713f5-b8f5-45f7-9239-66855eb37717",
   "metadata": {},
   "outputs": [],
   "source": [
    "y_pre = model_lc.predict(x_test)"
   ]
  },
  {
   "cell_type": "code",
   "execution_count": 44,
   "id": "9cc47775-78da-41f1-9cc2-ab8c42f387e3",
   "metadata": {},
   "outputs": [
    {
     "data": {
      "text/plain": [
       "array([1, 0, 1, ..., 0, 0, 0], dtype=int64)"
      ]
     },
     "execution_count": 44,
     "metadata": {},
     "output_type": "execute_result"
    }
   ],
   "source": [
    "y_pre"
   ]
  },
  {
   "cell_type": "markdown",
   "id": "d25a8273-ecd8-47cb-8a22-e25bc7879b92",
   "metadata": {},
   "source": [
    "To find the accuracy of the model using a library"
   ]
  },
  {
   "cell_type": "code",
   "execution_count": 45,
   "id": "37efa11d-712b-4d2d-b803-1015e37a2cf1",
   "metadata": {},
   "outputs": [],
   "source": [
    "from sklearn.metrics import accuracy_score"
   ]
  },
  {
   "cell_type": "code",
   "execution_count": 46,
   "id": "5fd78d3a-7192-4ea1-ae20-ef10986efc35",
   "metadata": {},
   "outputs": [],
   "source": [
    "accuracy = accuracy_score(y_test, y_pre)"
   ]
  },
  {
   "cell_type": "code",
   "execution_count": 47,
   "id": "56845b31-7094-414c-8627-fc803833e772",
   "metadata": {},
   "outputs": [
    {
     "data": {
      "text/plain": [
       "95.93874833555259"
      ]
     },
     "execution_count": 47,
     "metadata": {},
     "output_type": "execute_result"
    }
   ],
   "source": [
    "accuracy*100"
   ]
  },
  {
   "cell_type": "markdown",
   "id": "e8f63873-60f0-47fd-8dcd-9ace0cb6705d",
   "metadata": {},
   "source": [
    "Train a model for sgdc clasifier"
   ]
  },
  {
   "cell_type": "code",
   "execution_count": 48,
   "id": "95e73ec5-2326-4bfb-b4f4-3b8ebc4cf3dd",
   "metadata": {},
   "outputs": [],
   "source": [
    "from sklearn.linear_model import SGDClassifier"
   ]
  },
  {
   "cell_type": "code",
   "execution_count": 49,
   "id": "ea0c761b-6ab8-4606-ac4d-b5b8de7791d9",
   "metadata": {},
   "outputs": [],
   "source": [
    "model_sgdc = SGDClassifier()"
   ]
  },
  {
   "cell_type": "code",
   "execution_count": 50,
   "id": "a055fefd-aa95-46e5-b7ec-e4cb57e718e9",
   "metadata": {},
   "outputs": [
    {
     "data": {
      "text/html": [
       "<style>#sk-container-id-2 {\n",
       "  /* Definition of color scheme common for light and dark mode */\n",
       "  --sklearn-color-text: black;\n",
       "  --sklearn-color-line: gray;\n",
       "  /* Definition of color scheme for unfitted estimators */\n",
       "  --sklearn-color-unfitted-level-0: #fff5e6;\n",
       "  --sklearn-color-unfitted-level-1: #f6e4d2;\n",
       "  --sklearn-color-unfitted-level-2: #ffe0b3;\n",
       "  --sklearn-color-unfitted-level-3: chocolate;\n",
       "  /* Definition of color scheme for fitted estimators */\n",
       "  --sklearn-color-fitted-level-0: #f0f8ff;\n",
       "  --sklearn-color-fitted-level-1: #d4ebff;\n",
       "  --sklearn-color-fitted-level-2: #b3dbfd;\n",
       "  --sklearn-color-fitted-level-3: cornflowerblue;\n",
       "\n",
       "  /* Specific color for light theme */\n",
       "  --sklearn-color-text-on-default-background: var(--sg-text-color, var(--theme-code-foreground, var(--jp-content-font-color1, black)));\n",
       "  --sklearn-color-background: var(--sg-background-color, var(--theme-background, var(--jp-layout-color0, white)));\n",
       "  --sklearn-color-border-box: var(--sg-text-color, var(--theme-code-foreground, var(--jp-content-font-color1, black)));\n",
       "  --sklearn-color-icon: #696969;\n",
       "\n",
       "  @media (prefers-color-scheme: dark) {\n",
       "    /* Redefinition of color scheme for dark theme */\n",
       "    --sklearn-color-text-on-default-background: var(--sg-text-color, var(--theme-code-foreground, var(--jp-content-font-color1, white)));\n",
       "    --sklearn-color-background: var(--sg-background-color, var(--theme-background, var(--jp-layout-color0, #111)));\n",
       "    --sklearn-color-border-box: var(--sg-text-color, var(--theme-code-foreground, var(--jp-content-font-color1, white)));\n",
       "    --sklearn-color-icon: #878787;\n",
       "  }\n",
       "}\n",
       "\n",
       "#sk-container-id-2 {\n",
       "  color: var(--sklearn-color-text);\n",
       "}\n",
       "\n",
       "#sk-container-id-2 pre {\n",
       "  padding: 0;\n",
       "}\n",
       "\n",
       "#sk-container-id-2 input.sk-hidden--visually {\n",
       "  border: 0;\n",
       "  clip: rect(1px 1px 1px 1px);\n",
       "  clip: rect(1px, 1px, 1px, 1px);\n",
       "  height: 1px;\n",
       "  margin: -1px;\n",
       "  overflow: hidden;\n",
       "  padding: 0;\n",
       "  position: absolute;\n",
       "  width: 1px;\n",
       "}\n",
       "\n",
       "#sk-container-id-2 div.sk-dashed-wrapped {\n",
       "  border: 1px dashed var(--sklearn-color-line);\n",
       "  margin: 0 0.4em 0.5em 0.4em;\n",
       "  box-sizing: border-box;\n",
       "  padding-bottom: 0.4em;\n",
       "  background-color: var(--sklearn-color-background);\n",
       "}\n",
       "\n",
       "#sk-container-id-2 div.sk-container {\n",
       "  /* jupyter's `normalize.less` sets `[hidden] { display: none; }`\n",
       "     but bootstrap.min.css set `[hidden] { display: none !important; }`\n",
       "     so we also need the `!important` here to be able to override the\n",
       "     default hidden behavior on the sphinx rendered scikit-learn.org.\n",
       "     See: https://github.com/scikit-learn/scikit-learn/issues/21755 */\n",
       "  display: inline-block !important;\n",
       "  position: relative;\n",
       "}\n",
       "\n",
       "#sk-container-id-2 div.sk-text-repr-fallback {\n",
       "  display: none;\n",
       "}\n",
       "\n",
       "div.sk-parallel-item,\n",
       "div.sk-serial,\n",
       "div.sk-item {\n",
       "  /* draw centered vertical line to link estimators */\n",
       "  background-image: linear-gradient(var(--sklearn-color-text-on-default-background), var(--sklearn-color-text-on-default-background));\n",
       "  background-size: 2px 100%;\n",
       "  background-repeat: no-repeat;\n",
       "  background-position: center center;\n",
       "}\n",
       "\n",
       "/* Parallel-specific style estimator block */\n",
       "\n",
       "#sk-container-id-2 div.sk-parallel-item::after {\n",
       "  content: \"\";\n",
       "  width: 100%;\n",
       "  border-bottom: 2px solid var(--sklearn-color-text-on-default-background);\n",
       "  flex-grow: 1;\n",
       "}\n",
       "\n",
       "#sk-container-id-2 div.sk-parallel {\n",
       "  display: flex;\n",
       "  align-items: stretch;\n",
       "  justify-content: center;\n",
       "  background-color: var(--sklearn-color-background);\n",
       "  position: relative;\n",
       "}\n",
       "\n",
       "#sk-container-id-2 div.sk-parallel-item {\n",
       "  display: flex;\n",
       "  flex-direction: column;\n",
       "}\n",
       "\n",
       "#sk-container-id-2 div.sk-parallel-item:first-child::after {\n",
       "  align-self: flex-end;\n",
       "  width: 50%;\n",
       "}\n",
       "\n",
       "#sk-container-id-2 div.sk-parallel-item:last-child::after {\n",
       "  align-self: flex-start;\n",
       "  width: 50%;\n",
       "}\n",
       "\n",
       "#sk-container-id-2 div.sk-parallel-item:only-child::after {\n",
       "  width: 0;\n",
       "}\n",
       "\n",
       "/* Serial-specific style estimator block */\n",
       "\n",
       "#sk-container-id-2 div.sk-serial {\n",
       "  display: flex;\n",
       "  flex-direction: column;\n",
       "  align-items: center;\n",
       "  background-color: var(--sklearn-color-background);\n",
       "  padding-right: 1em;\n",
       "  padding-left: 1em;\n",
       "}\n",
       "\n",
       "\n",
       "/* Toggleable style: style used for estimator/Pipeline/ColumnTransformer box that is\n",
       "clickable and can be expanded/collapsed.\n",
       "- Pipeline and ColumnTransformer use this feature and define the default style\n",
       "- Estimators will overwrite some part of the style using the `sk-estimator` class\n",
       "*/\n",
       "\n",
       "/* Pipeline and ColumnTransformer style (default) */\n",
       "\n",
       "#sk-container-id-2 div.sk-toggleable {\n",
       "  /* Default theme specific background. It is overwritten whether we have a\n",
       "  specific estimator or a Pipeline/ColumnTransformer */\n",
       "  background-color: var(--sklearn-color-background);\n",
       "}\n",
       "\n",
       "/* Toggleable label */\n",
       "#sk-container-id-2 label.sk-toggleable__label {\n",
       "  cursor: pointer;\n",
       "  display: block;\n",
       "  width: 100%;\n",
       "  margin-bottom: 0;\n",
       "  padding: 0.5em;\n",
       "  box-sizing: border-box;\n",
       "  text-align: center;\n",
       "}\n",
       "\n",
       "#sk-container-id-2 label.sk-toggleable__label-arrow:before {\n",
       "  /* Arrow on the left of the label */\n",
       "  content: \"▸\";\n",
       "  float: left;\n",
       "  margin-right: 0.25em;\n",
       "  color: var(--sklearn-color-icon);\n",
       "}\n",
       "\n",
       "#sk-container-id-2 label.sk-toggleable__label-arrow:hover:before {\n",
       "  color: var(--sklearn-color-text);\n",
       "}\n",
       "\n",
       "/* Toggleable content - dropdown */\n",
       "\n",
       "#sk-container-id-2 div.sk-toggleable__content {\n",
       "  max-height: 0;\n",
       "  max-width: 0;\n",
       "  overflow: hidden;\n",
       "  text-align: left;\n",
       "  /* unfitted */\n",
       "  background-color: var(--sklearn-color-unfitted-level-0);\n",
       "}\n",
       "\n",
       "#sk-container-id-2 div.sk-toggleable__content.fitted {\n",
       "  /* fitted */\n",
       "  background-color: var(--sklearn-color-fitted-level-0);\n",
       "}\n",
       "\n",
       "#sk-container-id-2 div.sk-toggleable__content pre {\n",
       "  margin: 0.2em;\n",
       "  border-radius: 0.25em;\n",
       "  color: var(--sklearn-color-text);\n",
       "  /* unfitted */\n",
       "  background-color: var(--sklearn-color-unfitted-level-0);\n",
       "}\n",
       "\n",
       "#sk-container-id-2 div.sk-toggleable__content.fitted pre {\n",
       "  /* unfitted */\n",
       "  background-color: var(--sklearn-color-fitted-level-0);\n",
       "}\n",
       "\n",
       "#sk-container-id-2 input.sk-toggleable__control:checked~div.sk-toggleable__content {\n",
       "  /* Expand drop-down */\n",
       "  max-height: 200px;\n",
       "  max-width: 100%;\n",
       "  overflow: auto;\n",
       "}\n",
       "\n",
       "#sk-container-id-2 input.sk-toggleable__control:checked~label.sk-toggleable__label-arrow:before {\n",
       "  content: \"▾\";\n",
       "}\n",
       "\n",
       "/* Pipeline/ColumnTransformer-specific style */\n",
       "\n",
       "#sk-container-id-2 div.sk-label input.sk-toggleable__control:checked~label.sk-toggleable__label {\n",
       "  color: var(--sklearn-color-text);\n",
       "  background-color: var(--sklearn-color-unfitted-level-2);\n",
       "}\n",
       "\n",
       "#sk-container-id-2 div.sk-label.fitted input.sk-toggleable__control:checked~label.sk-toggleable__label {\n",
       "  background-color: var(--sklearn-color-fitted-level-2);\n",
       "}\n",
       "\n",
       "/* Estimator-specific style */\n",
       "\n",
       "/* Colorize estimator box */\n",
       "#sk-container-id-2 div.sk-estimator input.sk-toggleable__control:checked~label.sk-toggleable__label {\n",
       "  /* unfitted */\n",
       "  background-color: var(--sklearn-color-unfitted-level-2);\n",
       "}\n",
       "\n",
       "#sk-container-id-2 div.sk-estimator.fitted input.sk-toggleable__control:checked~label.sk-toggleable__label {\n",
       "  /* fitted */\n",
       "  background-color: var(--sklearn-color-fitted-level-2);\n",
       "}\n",
       "\n",
       "#sk-container-id-2 div.sk-label label.sk-toggleable__label,\n",
       "#sk-container-id-2 div.sk-label label {\n",
       "  /* The background is the default theme color */\n",
       "  color: var(--sklearn-color-text-on-default-background);\n",
       "}\n",
       "\n",
       "/* On hover, darken the color of the background */\n",
       "#sk-container-id-2 div.sk-label:hover label.sk-toggleable__label {\n",
       "  color: var(--sklearn-color-text);\n",
       "  background-color: var(--sklearn-color-unfitted-level-2);\n",
       "}\n",
       "\n",
       "/* Label box, darken color on hover, fitted */\n",
       "#sk-container-id-2 div.sk-label.fitted:hover label.sk-toggleable__label.fitted {\n",
       "  color: var(--sklearn-color-text);\n",
       "  background-color: var(--sklearn-color-fitted-level-2);\n",
       "}\n",
       "\n",
       "/* Estimator label */\n",
       "\n",
       "#sk-container-id-2 div.sk-label label {\n",
       "  font-family: monospace;\n",
       "  font-weight: bold;\n",
       "  display: inline-block;\n",
       "  line-height: 1.2em;\n",
       "}\n",
       "\n",
       "#sk-container-id-2 div.sk-label-container {\n",
       "  text-align: center;\n",
       "}\n",
       "\n",
       "/* Estimator-specific */\n",
       "#sk-container-id-2 div.sk-estimator {\n",
       "  font-family: monospace;\n",
       "  border: 1px dotted var(--sklearn-color-border-box);\n",
       "  border-radius: 0.25em;\n",
       "  box-sizing: border-box;\n",
       "  margin-bottom: 0.5em;\n",
       "  /* unfitted */\n",
       "  background-color: var(--sklearn-color-unfitted-level-0);\n",
       "}\n",
       "\n",
       "#sk-container-id-2 div.sk-estimator.fitted {\n",
       "  /* fitted */\n",
       "  background-color: var(--sklearn-color-fitted-level-0);\n",
       "}\n",
       "\n",
       "/* on hover */\n",
       "#sk-container-id-2 div.sk-estimator:hover {\n",
       "  /* unfitted */\n",
       "  background-color: var(--sklearn-color-unfitted-level-2);\n",
       "}\n",
       "\n",
       "#sk-container-id-2 div.sk-estimator.fitted:hover {\n",
       "  /* fitted */\n",
       "  background-color: var(--sklearn-color-fitted-level-2);\n",
       "}\n",
       "\n",
       "/* Specification for estimator info (e.g. \"i\" and \"?\") */\n",
       "\n",
       "/* Common style for \"i\" and \"?\" */\n",
       "\n",
       ".sk-estimator-doc-link,\n",
       "a:link.sk-estimator-doc-link,\n",
       "a:visited.sk-estimator-doc-link {\n",
       "  float: right;\n",
       "  font-size: smaller;\n",
       "  line-height: 1em;\n",
       "  font-family: monospace;\n",
       "  background-color: var(--sklearn-color-background);\n",
       "  border-radius: 1em;\n",
       "  height: 1em;\n",
       "  width: 1em;\n",
       "  text-decoration: none !important;\n",
       "  margin-left: 1ex;\n",
       "  /* unfitted */\n",
       "  border: var(--sklearn-color-unfitted-level-1) 1pt solid;\n",
       "  color: var(--sklearn-color-unfitted-level-1);\n",
       "}\n",
       "\n",
       ".sk-estimator-doc-link.fitted,\n",
       "a:link.sk-estimator-doc-link.fitted,\n",
       "a:visited.sk-estimator-doc-link.fitted {\n",
       "  /* fitted */\n",
       "  border: var(--sklearn-color-fitted-level-1) 1pt solid;\n",
       "  color: var(--sklearn-color-fitted-level-1);\n",
       "}\n",
       "\n",
       "/* On hover */\n",
       "div.sk-estimator:hover .sk-estimator-doc-link:hover,\n",
       ".sk-estimator-doc-link:hover,\n",
       "div.sk-label-container:hover .sk-estimator-doc-link:hover,\n",
       ".sk-estimator-doc-link:hover {\n",
       "  /* unfitted */\n",
       "  background-color: var(--sklearn-color-unfitted-level-3);\n",
       "  color: var(--sklearn-color-background);\n",
       "  text-decoration: none;\n",
       "}\n",
       "\n",
       "div.sk-estimator.fitted:hover .sk-estimator-doc-link.fitted:hover,\n",
       ".sk-estimator-doc-link.fitted:hover,\n",
       "div.sk-label-container:hover .sk-estimator-doc-link.fitted:hover,\n",
       ".sk-estimator-doc-link.fitted:hover {\n",
       "  /* fitted */\n",
       "  background-color: var(--sklearn-color-fitted-level-3);\n",
       "  color: var(--sklearn-color-background);\n",
       "  text-decoration: none;\n",
       "}\n",
       "\n",
       "/* Span, style for the box shown on hovering the info icon */\n",
       ".sk-estimator-doc-link span {\n",
       "  display: none;\n",
       "  z-index: 9999;\n",
       "  position: relative;\n",
       "  font-weight: normal;\n",
       "  right: .2ex;\n",
       "  padding: .5ex;\n",
       "  margin: .5ex;\n",
       "  width: min-content;\n",
       "  min-width: 20ex;\n",
       "  max-width: 50ex;\n",
       "  color: var(--sklearn-color-text);\n",
       "  box-shadow: 2pt 2pt 4pt #999;\n",
       "  /* unfitted */\n",
       "  background: var(--sklearn-color-unfitted-level-0);\n",
       "  border: .5pt solid var(--sklearn-color-unfitted-level-3);\n",
       "}\n",
       "\n",
       ".sk-estimator-doc-link.fitted span {\n",
       "  /* fitted */\n",
       "  background: var(--sklearn-color-fitted-level-0);\n",
       "  border: var(--sklearn-color-fitted-level-3);\n",
       "}\n",
       "\n",
       ".sk-estimator-doc-link:hover span {\n",
       "  display: block;\n",
       "}\n",
       "\n",
       "/* \"?\"-specific style due to the `<a>` HTML tag */\n",
       "\n",
       "#sk-container-id-2 a.estimator_doc_link {\n",
       "  float: right;\n",
       "  font-size: 1rem;\n",
       "  line-height: 1em;\n",
       "  font-family: monospace;\n",
       "  background-color: var(--sklearn-color-background);\n",
       "  border-radius: 1rem;\n",
       "  height: 1rem;\n",
       "  width: 1rem;\n",
       "  text-decoration: none;\n",
       "  /* unfitted */\n",
       "  color: var(--sklearn-color-unfitted-level-1);\n",
       "  border: var(--sklearn-color-unfitted-level-1) 1pt solid;\n",
       "}\n",
       "\n",
       "#sk-container-id-2 a.estimator_doc_link.fitted {\n",
       "  /* fitted */\n",
       "  border: var(--sklearn-color-fitted-level-1) 1pt solid;\n",
       "  color: var(--sklearn-color-fitted-level-1);\n",
       "}\n",
       "\n",
       "/* On hover */\n",
       "#sk-container-id-2 a.estimator_doc_link:hover {\n",
       "  /* unfitted */\n",
       "  background-color: var(--sklearn-color-unfitted-level-3);\n",
       "  color: var(--sklearn-color-background);\n",
       "  text-decoration: none;\n",
       "}\n",
       "\n",
       "#sk-container-id-2 a.estimator_doc_link.fitted:hover {\n",
       "  /* fitted */\n",
       "  background-color: var(--sklearn-color-fitted-level-3);\n",
       "}\n",
       "</style><div id=\"sk-container-id-2\" class=\"sk-top-container\"><div class=\"sk-text-repr-fallback\"><pre>SGDClassifier()</pre><b>In a Jupyter environment, please rerun this cell to show the HTML representation or trust the notebook. <br />On GitHub, the HTML representation is unable to render, please try loading this page with nbviewer.org.</b></div><div class=\"sk-container\" hidden><div class=\"sk-item\"><div class=\"sk-estimator fitted sk-toggleable\"><input class=\"sk-toggleable__control sk-hidden--visually\" id=\"sk-estimator-id-2\" type=\"checkbox\" checked><label for=\"sk-estimator-id-2\" class=\"sk-toggleable__label fitted sk-toggleable__label-arrow fitted\">&nbsp;&nbsp;SGDClassifier<a class=\"sk-estimator-doc-link fitted\" rel=\"noreferrer\" target=\"_blank\" href=\"https://scikit-learn.org/1.5/modules/generated/sklearn.linear_model.SGDClassifier.html\">?<span>Documentation for SGDClassifier</span></a><span class=\"sk-estimator-doc-link fitted\">i<span>Fitted</span></span></label><div class=\"sk-toggleable__content fitted\"><pre>SGDClassifier()</pre></div> </div></div></div></div>"
      ],
      "text/plain": [
       "SGDClassifier()"
      ]
     },
     "execution_count": 50,
     "metadata": {},
     "output_type": "execute_result"
    }
   ],
   "source": [
    "model_sgdc.fit(x_train,y_train)"
   ]
  },
  {
   "cell_type": "markdown",
   "id": "e419fb75-1060-47ac-9f63-e03cad63ce50",
   "metadata": {},
   "source": [
    "To check the  model_lr.coef"
   ]
  },
  {
   "cell_type": "code",
   "execution_count": 51,
   "id": "5a36e511-7f38-4556-ae1f-330fa27925f4",
   "metadata": {},
   "outputs": [
    {
     "data": {
      "text/plain": [
       "array([-1378.3324622])"
      ]
     },
     "execution_count": 51,
     "metadata": {},
     "output_type": "execute_result"
    }
   ],
   "source": [
    "model_sgdc.intercept_"
   ]
  },
  {
   "cell_type": "markdown",
   "id": "22441c3a-b29c-4d36-9397-2e58598d90c6",
   "metadata": {},
   "source": [
    "To check the  model_lr.intercept_"
   ]
  },
  {
   "cell_type": "code",
   "execution_count": 52,
   "id": "baf1b13f-a529-43e1-9ed4-1874e2c83853",
   "metadata": {},
   "outputs": [
    {
     "data": {
      "text/plain": [
       "array([[ 12.54854239,   2.78069486,  11.33473997,  10.32730615,\n",
       "          6.5449913 ,   5.55800572, 115.75747429,   1.54110746]])"
      ]
     },
     "execution_count": 52,
     "metadata": {},
     "output_type": "execute_result"
    }
   ],
   "source": [
    "model_sgdc.coef_"
   ]
  },
  {
   "cell_type": "markdown",
   "id": "4168a682-4d4f-400f-a75b-33da72f594bf",
   "metadata": {},
   "source": [
    "To predict the y value"
   ]
  },
  {
   "cell_type": "code",
   "execution_count": 53,
   "id": "511dbba9-6245-42d8-a187-d207a3d8e4b2",
   "metadata": {},
   "outputs": [],
   "source": [
    "y_prd = model_sgdc.predict(x_test)"
   ]
  },
  {
   "cell_type": "code",
   "execution_count": 54,
   "id": "f57edae3-482d-4f7d-8cea-c46b5c5ee761",
   "metadata": {},
   "outputs": [
    {
     "data": {
      "text/plain": [
       "array([1, 0, 1, ..., 0, 0, 0], dtype=int64)"
      ]
     },
     "execution_count": 54,
     "metadata": {},
     "output_type": "execute_result"
    }
   ],
   "source": [
    "y_prd"
   ]
  },
  {
   "cell_type": "markdown",
   "id": "706f6071-2c2e-492a-a6c7-9162592e2722",
   "metadata": {},
   "source": [
    "To find the accuracy of the model using a library"
   ]
  },
  {
   "cell_type": "code",
   "execution_count": 55,
   "id": "3c67856a-14f2-4515-9b9e-891ba2339c94",
   "metadata": {},
   "outputs": [],
   "source": [
    "from sklearn.metrics import accuracy_score"
   ]
  },
  {
   "cell_type": "code",
   "execution_count": 56,
   "id": "63033ab2-dda9-4325-8cac-eb46be174980",
   "metadata": {},
   "outputs": [],
   "source": [
    "accuracy = accuracy_score(y_test, y_prd)"
   ]
  },
  {
   "cell_type": "code",
   "execution_count": 57,
   "id": "a55a503e-04a7-45b0-938f-d3d676919ea3",
   "metadata": {},
   "outputs": [
    {
     "data": {
      "text/plain": [
       "95.50599201065246"
      ]
     },
     "execution_count": 57,
     "metadata": {},
     "output_type": "execute_result"
    }
   ],
   "source": [
    "accuracy*100"
   ]
  },
  {
   "cell_type": "markdown",
   "id": "0851a58c-f681-42d4-b6dc-14b752c3af78",
   "metadata": {},
   "source": [
    "to check confusion matriix for diabetes and no diabetes for logistic model"
   ]
  },
  {
   "cell_type": "code",
   "execution_count": 58,
   "id": "62736dc8-ecf6-4653-bb65-d59236b005df",
   "metadata": {},
   "outputs": [],
   "source": [
    "from sklearn.metrics import confusion_matrix"
   ]
  },
  {
   "cell_type": "code",
   "execution_count": 59,
   "id": "c6116ff6-9bbd-477e-98bf-4cce7207f8b3",
   "metadata": {},
   "outputs": [],
   "source": [
    "confusion = confusion_matrix(y_test,y_pre)"
   ]
  },
  {
   "cell_type": "code",
   "execution_count": 60,
   "id": "6bd581ea-157a-4e2b-842e-5f86438374bb",
   "metadata": {},
   "outputs": [
    {
     "data": {
      "text/plain": [
       "array([[21740,   204],\n",
       "       [  772,  1316]], dtype=int64)"
      ]
     },
     "execution_count": 60,
     "metadata": {},
     "output_type": "execute_result"
    }
   ],
   "source": [
    "confusion"
   ]
  },
  {
   "cell_type": "markdown",
   "id": "6225529c-4d04-4d37-a295-3b77b1ad409f",
   "metadata": {},
   "source": [
    "to check confusion matriix for diabetes and no diabetes for sgdc model"
   ]
  },
  {
   "cell_type": "code",
   "execution_count": 61,
   "id": "a2565757-363d-4f6d-98f6-01711acc4cbe",
   "metadata": {},
   "outputs": [],
   "source": [
    "sgdc_confusion = confusion_matrix(y_test,y_prd)"
   ]
  },
  {
   "cell_type": "code",
   "execution_count": 62,
   "id": "79db1a48-f07c-4f74-aab2-506446c25518",
   "metadata": {},
   "outputs": [
    {
     "data": {
      "text/plain": [
       "array([[21514,   430],\n",
       "       [  650,  1438]], dtype=int64)"
      ]
     },
     "execution_count": 62,
     "metadata": {},
     "output_type": "execute_result"
    }
   ],
   "source": [
    "sgdc_confusion"
   ]
  },
  {
   "cell_type": "markdown",
   "id": "11e5734b-b000-4348-83ba-df405d611f30",
   "metadata": {},
   "source": [
    "to check the precision,recall and f1 score for logistic model using library"
   ]
  },
  {
   "cell_type": "code",
   "execution_count": 63,
   "id": "30deba16-de9b-443f-9575-fc1afc115ec7",
   "metadata": {},
   "outputs": [],
   "source": [
    "from sklearn.metrics import classification_report\n",
    "target_names = ['no_diabets','diabets']"
   ]
  },
  {
   "cell_type": "code",
   "execution_count": 64,
   "id": "abb8df1e-0f23-4634-a1f0-7d802c191b89",
   "metadata": {},
   "outputs": [],
   "source": [
    "classi = classification_report(y_test,y_pre,target_names=target_names)"
   ]
  },
  {
   "cell_type": "code",
   "execution_count": 65,
   "id": "4289767e-d551-4c6f-aaf3-583e67c8b0f2",
   "metadata": {},
   "outputs": [
    {
     "name": "stdout",
     "output_type": "stream",
     "text": [
      "              precision    recall  f1-score   support\n",
      "\n",
      "  no_diabets       0.97      0.99      0.98     21944\n",
      "     diabets       0.87      0.63      0.73      2088\n",
      "\n",
      "    accuracy                           0.96     24032\n",
      "   macro avg       0.92      0.81      0.85     24032\n",
      "weighted avg       0.96      0.96      0.96     24032\n",
      "\n"
     ]
    }
   ],
   "source": [
    "print(classi)"
   ]
  },
  {
   "cell_type": "markdown",
   "id": "405b2f11-dc04-44ad-a44f-add756a9ec3c",
   "metadata": {},
   "source": [
    "to check the precision,recall and f1 score for sgdc model using library"
   ]
  },
  {
   "cell_type": "code",
   "execution_count": 66,
   "id": "f640e1ea-a77a-4608-9670-49bde15a00a4",
   "metadata": {},
   "outputs": [],
   "source": [
    "sgdc_classi = classification_report(y_test,y_prd,target_names=target_names)"
   ]
  },
  {
   "cell_type": "code",
   "execution_count": 67,
   "id": "a936fb14-946c-4fd7-81d3-1652d32dcbfd",
   "metadata": {},
   "outputs": [
    {
     "name": "stdout",
     "output_type": "stream",
     "text": [
      "              precision    recall  f1-score   support\n",
      "\n",
      "  no_diabets       0.97      0.98      0.98     21944\n",
      "     diabets       0.77      0.69      0.73      2088\n",
      "\n",
      "    accuracy                           0.96     24032\n",
      "   macro avg       0.87      0.83      0.85     24032\n",
      "weighted avg       0.95      0.96      0.95     24032\n",
      "\n"
     ]
    }
   ],
   "source": [
    "print(sgdc_classi)"
   ]
  },
  {
   "cell_type": "code",
   "execution_count": null,
   "id": "c79dac26-faf1-48d5-a452-45ded2b58b41",
   "metadata": {},
   "outputs": [],
   "source": [
    "# THE PRISSION FOR THIS MODEL 95% WHICH MEAN 5% OF THE PEOPLE PREDICTED TO HAVE DIABETES DO NOT HAVE IT\n",
    "# RECALL FOR THIS MODEL 96% WHICH MEAN 4% OF THE PEOPLE PREDICTED DO NOT HAVE DIABETES BUT MODEL SAYS THEY HAVE"
   ]
  },
  {
   "cell_type": "markdown",
   "id": "6c67dec9-936c-46a0-be3e-732e880d468b",
   "metadata": {},
   "source": [
    "to check the recursive feature elimination use to select features by recursively considering smaller and smaller sets of features."
   ]
  },
  {
   "cell_type": "code",
   "execution_count": 68,
   "id": "3d9d077b-cc15-4826-8bdc-e6586443071f",
   "metadata": {},
   "outputs": [],
   "source": [
    "from sklearn.feature_selection import RFE\n",
    "rfe = RFE(model_lc,n_features_to_select=None,step=1,verbose=0,importance_getter = 'auto')"
   ]
  },
  {
   "cell_type": "code",
   "execution_count": 69,
   "id": "8995b98e-9b04-4fda-8eb0-8bde4bff8d72",
   "metadata": {},
   "outputs": [],
   "source": [
    "rfe =rfe.fit(x,y)"
   ]
  },
  {
   "cell_type": "code",
   "execution_count": 70,
   "id": "5f7d8cd4-6073-4167-ad37-235d4e70db73",
   "metadata": {},
   "outputs": [
    {
     "name": "stdout",
     "output_type": "stream",
     "text": [
      "[ True False  True  True False False  True False]\n",
      "[1 4 1 1 2 3 1 5]\n"
     ]
    }
   ],
   "source": [
    "print(rfe.support_)\n",
    "print(rfe.ranking_)"
   ]
  },
  {
   "cell_type": "code",
   "execution_count": 75,
   "id": "6e0b7e81-bd37-406d-b1f3-f3afc1624426",
   "metadata": {},
   "outputs": [
    {
     "name": "stdout",
     "output_type": "stream",
     "text": [
      "[ True False  True  True False False  True False]\n",
      "[1 4 1 1 2 3 1 5]\n"
     ]
    }
   ],
   "source": [
    "from sklearn.feature_selection import RFE\n",
    "rfe = RFE(model_sgdc,n_features_to_select=None,step=1,verbose=0,importance_getter = 'auto')\n",
    "rfe =rfe.fit(x,y)\n",
    "print(rfe.support_)\n",
    "print(rfe.ranking_)"
   ]
  },
  {
   "cell_type": "markdown",
   "id": "13a7888e-69b4-44a3-9c13-1b6b39bb064d",
   "metadata": {},
   "source": [
    "To import the library feature selection for RFE with cross validation.K-fold cross-validation is a popular technique used in machine learning to evaluate the performance of a model."
   ]
  },
  {
   "cell_type": "code",
   "execution_count": 71,
   "id": "ab2b6428-13e5-4201-8f48-3bc59af66920",
   "metadata": {},
   "outputs": [
    {
     "name": "stdout",
     "output_type": "stream",
     "text": [
      "optimal number of features:8\n"
     ]
    }
   ],
   "source": [
    "from sklearn.feature_selection import RFECV\n",
    "from sklearn.model_selection import StratifiedKFold\n",
    "min_features_to_select=1\n",
    "scv=StratifiedKFold()\n",
    "rfecv =RFECV(\n",
    "       estimator=model_lc,   \n",
    "       step=1,cv=scv,\n",
    "       scoring='accuracy',\n",
    "       min_features_to_select=min_features_to_select,\n",
    "       n_jobs=2)                          \n",
    "rfecv.fit(x,y)\n",
    "print(f\"optimal number of features:{rfecv.n_features_}\")\n",
    "\n"
   ]
  },
  {
   "cell_type": "code",
   "execution_count": 76,
   "id": "3ec4214b-b758-4ad6-bebe-ceb23fce39a4",
   "metadata": {},
   "outputs": [
    {
     "name": "stdout",
     "output_type": "stream",
     "text": [
      "optimal number of features:8\n"
     ]
    }
   ],
   "source": [
    "from sklearn.feature_selection import RFECV\n",
    "from sklearn.model_selection import StratifiedKFold\n",
    "min_features_to_select=1\n",
    "scv=StratifiedKFold()\n",
    "rfecv =RFECV(\n",
    "       estimator=model_sgdc,   \n",
    "       step=1,cv=scv,\n",
    "       scoring='accuracy',\n",
    "       min_features_to_select=min_features_to_select,\n",
    "       n_jobs=2)                          \n",
    "rfecv.fit(x,y)\n",
    "print(f\"optimal number of features:{rfecv.n_features_}\")"
   ]
  },
  {
   "cell_type": "code",
   "execution_count": 72,
   "id": "da94b3f9-6d39-4bdc-afd2-57131ebb11dc",
   "metadata": {},
   "outputs": [
    {
     "name": "stdout",
     "output_type": "stream",
     "text": [
      "Dataset shape before SelectKBest method: (96128, 8)\n"
     ]
    }
   ],
   "source": [
    "from sklearn.feature_selection import SelectKBest\n",
    "from sklearn.feature_selection import chi2\n",
    "return_x_y= True\n",
    "print('Dataset shape before SelectKBest method:',x.shape)\n"
   ]
  },
  {
   "cell_type": "code",
   "execution_count": 73,
   "id": "812b7d57-2e8d-4257-aad9-6e2ae8c02eb9",
   "metadata": {},
   "outputs": [
    {
     "name": "stdout",
     "output_type": "stream",
     "text": [
      "Dataset shape after SelectKBest method: (72096, 2)\n"
     ]
    }
   ],
   "source": [
    "x_new =SelectKBest(chi2,k=2).fit_transform(x_train,y_train)\n",
    "print('Dataset shape after SelectKBest method:',x_new.shape)"
   ]
  },
  {
   "cell_type": "markdown",
   "id": "062974b1-4950-4b39-9811-6d59a57c4f1d",
   "metadata": {},
   "source": [
    "Variance Thresholding is a simple yet effective technique for feature selection that removes features with low variance"
   ]
  },
  {
   "cell_type": "code",
   "execution_count": 74,
   "id": "587d55b2-f266-4208-9f51-8b1d0308499f",
   "metadata": {},
   "outputs": [
    {
     "name": "stdout",
     "output_type": "stream",
     "text": [
      "The orginal data\n",
      "       gender   age  hypertension  heart_disease  smoking_history    bmi  \\\n",
      "0           0  80.0             0              1                4  25.19   \n",
      "1           0  54.0             0              0                0  27.32   \n",
      "2           1  28.0             0              0                4  27.32   \n",
      "3           0  36.0             0              0                1  23.45   \n",
      "4           1  76.0             1              1                1  20.14   \n",
      "...       ...   ...           ...            ...              ...    ...   \n",
      "99994       0  36.0             0              0                0  24.60   \n",
      "99996       0   2.0             0              0                0  17.37   \n",
      "99997       1  66.0             0              0                3  27.83   \n",
      "99998       0  24.0             0              0                4  35.42   \n",
      "99999       0  57.0             0              0                1  22.43   \n",
      "\n",
      "       HbA1c_level  blood_glucose_level  \n",
      "0              6.6                  140  \n",
      "1              6.6                   80  \n",
      "2              5.7                  158  \n",
      "3              5.0                  155  \n",
      "4              4.8                  155  \n",
      "...            ...                  ...  \n",
      "99994          4.8                  145  \n",
      "99996          6.5                  100  \n",
      "99997          5.7                  155  \n",
      "99998          4.0                  100  \n",
      "99999          6.6                   90  \n",
      "\n",
      "[96128 rows x 8 columns]\n",
      "The processed data byvariance threshold\n",
      "[[  0.    80.     4.    25.19   6.6  140.  ]\n",
      " [  0.    54.     0.    27.32   6.6   80.  ]\n",
      " [  1.    28.     4.    27.32   5.7  158.  ]\n",
      " ...\n",
      " [  1.    66.     3.    27.83   5.7  155.  ]\n",
      " [  0.    24.     4.    35.42   4.   100.  ]\n",
      " [  0.    57.     1.    22.43   6.6   90.  ]]\n"
     ]
    }
   ],
   "source": [
    "from sklearn.feature_selection import VarianceThreshold\n",
    "var =VarianceThreshold(threshold=0.2)\n",
    "x_trans = var.fit_transform(x)\n",
    "print('The orginal data')\n",
    "print(x)\n",
    "print(\"The processed data byvariance threshold\")\n",
    "print(x_trans)"
   ]
  },
  {
   "cell_type": "code",
   "execution_count": null,
   "id": "b6879a2d-11f1-4ec1-8053-be4a56d3e9c8",
   "metadata": {},
   "outputs": [],
   "source": []
  }
 ],
 "metadata": {
  "kernelspec": {
   "display_name": "Python 3 (ipykernel)",
   "language": "python",
   "name": "python3"
  },
  "language_info": {
   "codemirror_mode": {
    "name": "ipython",
    "version": 3
   },
   "file_extension": ".py",
   "mimetype": "text/x-python",
   "name": "python",
   "nbconvert_exporter": "python",
   "pygments_lexer": "ipython3",
   "version": "3.11.9"
  }
 },
 "nbformat": 4,
 "nbformat_minor": 5
}
